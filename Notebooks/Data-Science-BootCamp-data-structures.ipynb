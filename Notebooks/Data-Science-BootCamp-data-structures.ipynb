{
 "cells": [
  {
   "cell_type": "code",
   "execution_count": 1,
   "id": "a1f41a0d-5539-4c03-874b-70452f95b4e5",
   "metadata": {},
   "outputs": [
    {
     "name": "stdout",
     "output_type": "stream",
     "text": [
      "['Geeks', 'for', 'Geeks']\n"
     ]
    }
   ],
   "source": [
    "# Python Lists are just like dynamically sized arrays, declared in other languages (vector in C++ and ArrayList in Java). In simple language, a list is a collection of things, enclosed in [ ] and separated by commas. \n",
    "# The list is a sequence data type which is used to store the collection of data. Tuples and String are other types of sequence data types.\n",
    "\n",
    "Var = [\"Geeks\", \"for\", \"Geeks\"]\n",
    "print(Var)"
   ]
  },
  {
   "cell_type": "code",
   "execution_count": 3,
   "id": "526815a9-0885-4c68-b010-a7c2c0111467",
   "metadata": {},
   "outputs": [
    {
     "name": "stdout",
     "output_type": "stream",
     "text": [
      "Blank List: \n",
      "[]\n",
      "\n",
      "List of numbers: \n",
      "[10, 20, 14]\n",
      "\n",
      "List Items: \n",
      "Geeks\n",
      "Geeks\n"
     ]
    }
   ],
   "source": [
    "# Python program to demonstrate\n",
    "# Creation of List\n",
    " \n",
    "# Creating a List\n",
    "List = []\n",
    "print(\"Blank List: \")\n",
    "print(List)\n",
    " \n",
    "# Creating a List of numbers\n",
    "List = [10, 20, 14]\n",
    "print(\"\\nList of numbers: \")\n",
    "print(List)\n",
    " \n",
    "# Creating a List of strings and accessing\n",
    "# using index\n",
    "List = [\"Geeks\", \"For\", \"Geeks\"]\n",
    "print(\"\\nList Items: \")\n",
    "print(List[0])\n",
    "print(List[2])"
   ]
  },
  {
   "cell_type": "code",
   "execution_count": 4,
   "id": "8ef40952-d28d-4a18-a7a2-262b7ff6c5b2",
   "metadata": {},
   "outputs": [
    {
     "name": "stdout",
     "output_type": "stream",
     "text": [
      "Accessing a element from the list\n",
      "Geeks\n",
      "Geeks\n"
     ]
    }
   ],
   "source": [
    "# Python program to demonstrate\n",
    "# accessing of element from list\n",
    " \n",
    "# Creating a List with\n",
    "# the use of multiple values\n",
    "List = [\"Geeks\", \"For\", \"Geeks\"]\n",
    " \n",
    "# accessing a element from the\n",
    "# list using index number\n",
    "print(\"Accessing a element from the list\")\n",
    "print(List[0])\n",
    "print(List[2])"
   ]
  },
  {
   "cell_type": "code",
   "execution_count": 11,
   "id": "5636fb3f-22a0-4e4a-9b17-65742826f24c",
   "metadata": {},
   "outputs": [
    {
     "name": "stdout",
     "output_type": "stream",
     "text": [
      "Accessing an element from a multi-dimensional list\n",
      "List: [['Geeks', 'For'], ['Geeks']]: List[0][1] -> For\n",
      "List: [['Geeks', 'For'], ['Geeks']]: List[1][0] -> Geeks\n"
     ]
    }
   ],
   "source": [
    "# Creating multi-dimentional list\n",
    "List=[['Geeks','For'],['Geeks']]\n",
    "\n",
    "print(\"Accessing an element from a multi-dimensional list\")\n",
    "print(\"List: {}: List[0][1] -> {}\".format(List,List[0][1]))\n",
    "print('List: {}: List[1][0] -> {}'.format(List,List[1][0]))\n"
   ]
  },
  {
   "cell_type": "code",
   "execution_count": 14,
   "id": "2544629c-4b30-49fd-a03c-2c2307f4788a",
   "metadata": {},
   "outputs": [
    {
     "name": "stdout",
     "output_type": "stream",
     "text": [
      "Accessing negative inded\n",
      "[1, 2, 'Geeks1', 4, 'For', 6, 'Geeks2'] : List[-1] -> Geeks2\n",
      "[1, 2, 'Geeks1', 4, 'For', 6, 'Geeks2'] : List[-1] -> For\n"
     ]
    }
   ],
   "source": [
    "List=[1,2,'Geeks1',4,'For',6,'Geeks2']\n",
    "\n",
    "print(\"Accessing negative inded\")\n",
    "print(\"{} : List[-1] -> {}\".format(List,List[-1]))\n",
    "print(\"{} : List[-1] -> {}\".format(List,List[-3]))\n"
   ]
  },
  {
   "cell_type": "code",
   "execution_count": 16,
   "id": "02ebdd67-2fff-4e05-82a9-ef1f955c594a",
   "metadata": {},
   "outputs": [
    {
     "name": "stdout",
     "output_type": "stream",
     "text": [
      "0\n",
      "3\n"
     ]
    }
   ],
   "source": [
    "List1 = []\n",
    "print(len(List1))\n",
    "\n",
    "List2=[10,20,30]\n",
    "print(len(List2))"
   ]
  },
  {
   "cell_type": "code",
   "execution_count": 17,
   "id": "d9679d72-136e-44d6-bf37-49a01f155c55",
   "metadata": {},
   "outputs": [
    {
     "name": "stdout",
     "output_type": "stream",
     "text": [
      "Initial blank List: \n",
      "[]\n",
      "\n",
      "List after Addition of Three elements: \n",
      "[1, 2, 4]\n",
      "\n",
      "List after Addition of elements from 1-3: \n",
      "[1, 2, 4, 1, 2, 3]\n",
      "\n",
      "List after Addition of a Tuple: \n",
      "[1, 2, 4, 1, 2, 3, (5, 6)]\n",
      "\n",
      "List after Addition of a List: \n",
      "[1, 2, 4, 1, 2, 3, (5, 6), ['For', 'Geeks']]\n"
     ]
    }
   ],
   "source": [
    "# Python program to demonstrate\n",
    "# Addition of elements in a List\n",
    " \n",
    "# Creating a List\n",
    "List = []\n",
    "print(\"Initial blank List: \")\n",
    "print(List)\n",
    " \n",
    "# Addition of Elements\n",
    "# in the List\n",
    "List.append(1)\n",
    "List.append(2)\n",
    "List.append(4)\n",
    "print(\"\\nList after Addition of Three elements: \")\n",
    "print(List)\n",
    " \n",
    "# Adding elements to the List\n",
    "# using Iterator\n",
    "for i in range(1, 4):\n",
    "    List.append(i)\n",
    "print(\"\\nList after Addition of elements from 1-3: \")\n",
    "print(List)\n",
    " \n",
    "# Adding Tuples to the List\n",
    "List.append((5, 6))\n",
    "print(\"\\nList after Addition of a Tuple: \")\n",
    "print(List)\n",
    " \n",
    "# Addition of List to a List\n",
    "List2 = ['For', 'Geeks']\n",
    "List.append(List2)\n",
    "print(\"\\nList after Addition of a List: \")\n",
    "print(List)"
   ]
  },
  {
   "cell_type": "code",
   "execution_count": 18,
   "id": "34dcaae5-8d6e-4c85-a911-020c586340d7",
   "metadata": {},
   "outputs": [
    {
     "name": "stdout",
     "output_type": "stream",
     "text": [
      "['Geeks', 'For', 'Geeks']\n"
     ]
    }
   ],
   "source": [
    "lis = ['Geeks', 'Geeks']\n",
    "lis.insert(1, \"For\")\n",
    "print(lis)"
   ]
  },
  {
   "cell_type": "code",
   "execution_count": 19,
   "id": "50002d6a-2895-4497-ba0a-7110664d329f",
   "metadata": {},
   "outputs": [
    {
     "name": "stdout",
     "output_type": "stream",
     "text": [
      "[1, 2, 3, 4, 10, 5, 6, 7]\n"
     ]
    }
   ],
   "source": [
    "list1 = [ 1, 2, 3, 4, 5, 6, 7 ] \n",
    "  \n",
    "# insert 10 at 4th index \n",
    "list1.insert(4, 10) \n",
    "print(list1) "
   ]
  },
  {
   "cell_type": "code",
   "execution_count": 21,
   "id": "393afd70-1689-43e5-921f-e351b69fb9b0",
   "metadata": {},
   "outputs": [
    {
     "name": "stdout",
     "output_type": "stream",
     "text": [
      "List ['a', 'a', 'a', 'b', 'b', 'a', 'c', 'b']: list2.count('b')) -> 3\n"
     ]
    }
   ],
   "source": [
    "list2 = ['a', 'a', 'a', 'b', 'b', 'a', 'c', 'b']\n",
    "print(\"List {}: list2.count('b')) -> {}\".format(list2,list2.count('b')))"
   ]
  },
  {
   "cell_type": "code",
   "execution_count": 24,
   "id": "612aec2e-fe6a-44b2-b15e-6a26fc4e9744",
   "metadata": {},
   "outputs": [
    {
     "name": "stdout",
     "output_type": "stream",
     "text": [
      "[1, 2, 2, 3, 4, 5]\n",
      "[1, 2, 2, 3, 4]\n",
      "[2, 2, 3, 4]\n"
     ]
    }
   ],
   "source": [
    "#  In python del is a keyword and remove(), pop() are in-built methods. The purpose of these three are the same but the behavior is different remove() method delete values or object from the list using value and the del and pop() deletes values or object from the list using an index.The del keyword deletes any variable, or list of values from a list. \n",
    "\n",
    "#Syntax:\n",
    "\n",
    "#del list_name[index]  # To delete single value\n",
    "#del list_name        # To delete whole list\n",
    "# program to demonstrate use of del keyword\n",
    "  \n",
    "# assign list\n",
    "numbers = [1, 2, 3, 2, 3, 4, 5]\n",
    "  \n",
    "# use del\n",
    "del numbers[2]\n",
    "  \n",
    "# display list\n",
    "print(numbers)\n",
    "  \n",
    "# use del\n",
    "del numbers[-1]\n",
    "  \n",
    "# display list\n",
    "print(numbers)\n",
    "  \n",
    "# use del\n",
    "del numbers[0]\n",
    "  \n",
    "# display list\n",
    "print(numbers)"
   ]
  },
  {
   "cell_type": "code",
   "execution_count": 5,
   "id": "f56c5b1f-7e7d-43a9-a406-fd2639889efe",
   "metadata": {},
   "outputs": [
    {
     "name": "stdout",
     "output_type": "stream",
     "text": [
      "[1, 2, 2, 3, 4, 5]\n",
      "[1, 2, 3, 4, 5]\n",
      "[1, 2, 3, 4]\n",
      "[1, 2, 3, 2, 2, 2, 3, 4]\n",
      "[1, 2, 2, 2, 2, 4]\n"
     ]
    }
   ],
   "source": [
    "# The remove() method removes the first matching value from the list.\n",
    "\n",
    "#Syntax:\n",
    "\n",
    "#list_name.remove(value)\n",
    "\n",
    "# program to demonstrate use of remove() method\n",
    "  \n",
    "# assign list\n",
    "numbers = [1, 2, 3, 2, 3, 4, 5]\n",
    "  \n",
    "# use remove()\n",
    "numbers.remove(3)\n",
    "  \n",
    "# display list\n",
    "print(numbers)\n",
    "  \n",
    "# use remove()\n",
    "numbers.remove(2)\n",
    "  \n",
    "# display list\n",
    "print(numbers)\n",
    "  \n",
    "# use remove()\n",
    "numbers.remove(5)\n",
    "  \n",
    "# display list\n",
    "print(numbers)\n",
    "\n",
    "# remove all occurrences of value 5\n",
    "x = [1,2,3,2,2,2,3,4]\n",
    "print(x)\n",
    "x=list(filter((3).__ne__, x))\n",
    "# list(filter(lambda a: a != 3, x))\n",
    "print(x)\n"
   ]
  },
  {
   "cell_type": "code",
   "execution_count": 7,
   "id": "22e626a1-d053-415b-9ecf-18c703154f10",
   "metadata": {},
   "outputs": [
    {
     "name": "stdout",
     "output_type": "stream",
     "text": [
      "[1, 2, 3, 3, 4, 5]\n",
      "[1, 2, 3, 3, 4]\n",
      "[2, 3, 3, 4]\n",
      "[2, 3, 3]\n"
     ]
    }
   ],
   "source": [
    "# The pop() method like the del keyword deletes value at a particular index. But the pop() method returns deleted value from the list.\n",
    "\n",
    "# Syntax:\n",
    "\n",
    "# list_name.pop(index)\n",
    "# program to demonstrate use of pop() method\n",
    "  \n",
    "# assign list\n",
    "numbers = [1, 2, 3, 2, 3, 4, 5]\n",
    "  \n",
    "# use remove()\n",
    "numbers.pop(3)\n",
    "  \n",
    "# display list\n",
    "print(numbers)\n",
    "  \n",
    "# use remove()\n",
    "numbers.pop(-1)\n",
    "  \n",
    "# display list\n",
    "print(numbers)\n",
    "  \n",
    "# use remove()\n",
    "numbers.pop(0)\n",
    "  \n",
    "# display list\n",
    "print(numbers)\n",
    "\n",
    "numbers.pop()\n",
    "print(numbers)\n"
   ]
  },
  {
   "cell_type": "code",
   "execution_count": 8,
   "id": "58a1feb3-615e-47cc-a77b-63d9246c6d64",
   "metadata": {},
   "outputs": [
    {
     "name": "stdout",
     "output_type": "stream",
     "text": [
      "Maximum of 4,12,43.3,19 and 100 is : 100\n"
     ]
    }
   ],
   "source": [
    "# Python code to demonstrate the working of\n",
    "# max()\n",
    " \n",
    "# printing the maximum of 4,12,43.3,19,100\n",
    "print(\"Maximum of 4,12,43.3,19 and 100 is : \",end=\"\")\n",
    "print (max( 4,12,43.3,19,100 ) )"
   ]
  },
  {
   "cell_type": "code",
   "execution_count": 9,
   "id": "738a9338-5ad7-4bc9-8bee-76e3de9817c9",
   "metadata": {},
   "outputs": [
    {
     "name": "stdout",
     "output_type": "stream",
     "text": [
      "Minimum of 4,12,43.3,19 and 100 is : 4\n"
     ]
    }
   ],
   "source": [
    "# Python code to demonstrate the working of\n",
    "# min()\n",
    " \n",
    "# printing the minimum of 4,12,43.3,19,100\n",
    "print(\"Minimum of 4,12,43.3,19 and 100 is : \",end=\"\")\n",
    "print (min( 4,12,43.3,19,100 ) )"
   ]
  },
  {
   "cell_type": "code",
   "execution_count": 11,
   "id": "4a48c3f5-1706-453f-a851-a8c3c96383fc",
   "metadata": {},
   "outputs": [
    {
     "name": "stdout",
     "output_type": "stream",
     "text": [
      "[1, 3, 4, 2]\n",
      "[1, 2, 3, 4]\n"
     ]
    }
   ],
   "source": [
    "# Python program to demonestrate to\n",
    "# sorting numbers in Ascending Order\n",
    "  \n",
    "numbers = [1, 3, 4, 2]\n",
    "# Sorting list of Integers in ascending\n",
    "print(numbers)\n",
    "numbers.sort()\n",
    "print(numbers)"
   ]
  },
  {
   "cell_type": "code",
   "execution_count": 12,
   "id": "1fe89889-8f95-421a-a8d0-ca32bcef0ab7",
   "metadata": {},
   "outputs": [
    {
     "name": "stdout",
     "output_type": "stream",
     "text": [
      "[1, 2, 3, 4, 1, 2, 6]\n",
      "[6, 2, 1, 4, 3, 2, 1]\n",
      "['a', 'b', 'c', 'd', 'a', 'a']\n",
      "['a', 'a', 'd', 'c', 'b', 'a']\n"
     ]
    }
   ],
   "source": [
    "# Python3 program to demonstrate the\n",
    "# use of reverse method\n",
    "  \n",
    "# a list of numbers\n",
    "list1 = [1, 2, 3, 4, 1, 2, 6]\n",
    "print(list1)\n",
    "list1.reverse()\n",
    "print(list1)\n",
    " \n",
    "# a list of characters\n",
    "list2 = ['a', 'b', 'c', 'd', 'a', 'a']\n",
    "print(list2)\n",
    "list2.reverse()\n",
    "print(list2)"
   ]
  },
  {
   "cell_type": "code",
   "execution_count": 13,
   "id": "8b1b696b-b8db-4c9f-9b24-12bbaa114a49",
   "metadata": {},
   "outputs": [
    {
     "name": "stdout",
     "output_type": "stream",
     "text": [
      "('Geeks', 'for', 'Geeks')\n"
     ]
    }
   ],
   "source": [
    "# Python Tuple is a collection of objects separated by commas. In some ways, a tuple is similar to a list in terms of indexing, nested objects, and repetition but a tuple is immutable, unlike lists which are mutable.\n",
    "var = (\"Geeks\", \"for\", \"Geeks\")\n",
    "print(var)"
   ]
  },
  {
   "cell_type": "code",
   "execution_count": 16,
   "id": "f489b5a4-6e36-4248-9067-28045077bb74",
   "metadata": {},
   "outputs": [
    {
     "name": "stdout",
     "output_type": "stream",
     "text": [
      "Value in Var[0] =  Geeks1\n",
      "Value in Var[1] =  for\n",
      "Value in Var[2] =  Geeks1\n"
     ]
    }
   ],
   "source": [
    "var = (\"Geeks1\", \"for\", \"Geeks1\")\n",
    " \n",
    "print(\"Value in Var[0] = \", var[0])\n",
    "print(\"Value in Var[1] = \", var[1])\n",
    "print(\"Value in Var[2] = \", var[2])"
   ]
  },
  {
   "cell_type": "code",
   "execution_count": 17,
   "id": "adf279f7-f3a9-4247-82e8-4f5e22a8118f",
   "metadata": {},
   "outputs": [
    {
     "name": "stdout",
     "output_type": "stream",
     "text": [
      "Value in Var[-3] =  Geeks1\n",
      "Value in Var[-2] =  for\n",
      "Value in Var[-1] =  Geeks2\n"
     ]
    }
   ],
   "source": [
    "var = (\"Geeks1\", \"for\", \"Geeks2\")\n",
    " \n",
    "print(\"Value in Var[-3] = \", var[-3])\n",
    "print(\"Value in Var[-2] = \", var[-2])\n",
    "print(\"Value in Var[-1] = \", var[-1])"
   ]
  },
  {
   "cell_type": "code",
   "execution_count": 18,
   "id": "243cd467-9e13-49d8-bb4e-40dd316d08fa",
   "metadata": {},
   "outputs": [
    {
     "name": "stdout",
     "output_type": "stream",
     "text": [
      "(1, 2, 3)\n",
      "(3, 2, 1, 0)\n",
      "(2, 3)\n"
     ]
    }
   ],
   "source": [
    "# code to test slicing\n",
    " \n",
    "tuple1 = (0 ,1, 2, 3)\n",
    "print(tuple1[1:])\n",
    "print(tuple1[::-1])\n",
    "print(tuple1[2:4])"
   ]
  },
  {
   "cell_type": "code",
   "execution_count": 26,
   "id": "42250f2c-3b79-48e1-92b1-00048fc2f313",
   "metadata": {},
   "outputs": [
    {
     "name": "stdout",
     "output_type": "stream",
     "text": [
      "(2,), type:<class 'tuple'>, len:1\n",
      "('python', 'geek'), type:<class 'tuple'>, len:2\n"
     ]
    }
   ],
   "source": [
    "tuple1 = (2,)\n",
    "print(\"{}, type:{}, len:{}\".format(tuple1,type(tuple1),len(tuple1)))\n",
    "\n",
    "tuple2 = ('python', 'geek')\n",
    "print(\"{}, type:{}, len:{}\".format(tuple2,type(tuple2),len(tuple2)))\n"
   ]
  },
  {
   "cell_type": "code",
   "execution_count": null,
   "id": "f7af8209-dad7-475a-aba5-19df0f0ccc88",
   "metadata": {},
   "outputs": [],
   "source": [
    "# A Set is an unordered collection data type that is iterable, mutable and has no duplicate elements. \n",
    "# Set are represented by { } (values enclosed in curly braces)\n",
    "# The major advantage of using a set, as opposed to a list, is that it has a highly optimized method for checking whether a specific element is contained in the set. This is based on a data structure known as a hash table. Since sets are unordered, we cannot access items using indexes like we do in lists."
   ]
  },
  {
   "cell_type": "code",
   "execution_count": 28,
   "id": "e6d1ca03-112d-478a-9270-c0970b70c72b",
   "metadata": {},
   "outputs": [
    {
     "name": "stdout",
     "output_type": "stream",
     "text": [
      "{'for', 'Geeks1', 'Geeks2'} -> <class 'set'>\n"
     ]
    }
   ],
   "source": [
    "var = {\"Geeks1\", \"for\", \"Geeks2\"}\n",
    "print('{} -> {}'.format(var,type(var)))\n"
   ]
  },
  {
   "cell_type": "code",
   "execution_count": 30,
   "id": "b0fd0ef8-ee1b-4d53-90c9-d594236acc41",
   "metadata": {},
   "outputs": [
    {
     "name": "stdout",
     "output_type": "stream",
     "text": [
      "{'c', 'b', 'a'}\n",
      "{'c', 'd', 'b', 'a'}\n",
      "{'c', 'd', 'b', 'a'}\n"
     ]
    }
   ],
   "source": [
    "# typecasting list to set\n",
    "myset = set([\"a\", \"b\", \"c\"])\n",
    "print(myset)\n",
    " \n",
    "# Adding element to the set\n",
    "myset.add(\"d\")\n",
    "print(myset)\n",
    "myset.add(\"d\")\n",
    "print(myset)"
   ]
  },
  {
   "cell_type": "code",
   "execution_count": 39,
   "id": "2a0dfb48-306d-45b8-b02d-26f82290837c",
   "metadata": {},
   "outputs": [],
   "source": [
    "#Python Frozen Sets\n",
    "#Frozen sets in Python are immutable objects that only support methods and operators that produce a result without affecting the frozen set or sets to which they are applied. It can be done with frozenset() method in Python.\n",
    "\n",
    "#While elements of a set can be modified at any time, elements of the frozen set remain the same after creation. \n",
    "\n",
    "#If no parameters are passed, it returns an empty frozenset.\n",
    "\n",
    "#Operators\tNotes\n",
    "#key in s\tcontainment check\n",
    "#key not in s\tnon-containment check\n",
    "#s1 == s2\ts1 is equivalent to s2\n",
    "#s1 != s2\ts1 is not equivalent to s2\n",
    "#s1 <= s2\ts1 is subset of s2\n",
    "#s1 < s2\ts1 is proper subset of s2\n",
    "#s1 >= s2\ts1 is superset of s2\n",
    "#s1 > s2\ts1 is proper superset of s2\n",
    "#s1 | s2\tthe union of s1 and s2\n",
    "#s1 & s2\tthe intersection of s1 and s2\n",
    "#s1 – s2\tthe set of elements in s1 but not s2\n",
    "#s1 ˆ s2\tthe set of elements in precisely one of s1 or s2\n"
   ]
  },
  {
   "cell_type": "code",
   "execution_count": 32,
   "id": "6d943216-ae0d-47bb-bde6-a12eb72f4258",
   "metadata": {},
   "outputs": [
    {
     "name": "stdout",
     "output_type": "stream",
     "text": [
      "Normal Set\n",
      "{'c', 'b', 'a'}\n",
      "\n",
      "Frozen Set\n",
      "frozenset({'f', 'g', 'e'})\n"
     ]
    }
   ],
   "source": [
    "# Python program to demonstrate differences\n",
    "# between normal and frozen set\n",
    " \n",
    "# Same as {\"a\", \"b\",\"c\"}\n",
    "normal_set = set([\"a\", \"b\",\"c\"])\n",
    " \n",
    "print(\"Normal Set\")\n",
    "print(normal_set)\n",
    " \n",
    "# A frozen set\n",
    "frozen_set = frozenset([\"e\", \"f\", \"g\"])\n",
    " \n",
    "print(\"\\nFrozen Set\")\n",
    "print(frozen_set)\n",
    " \n",
    "# Uncommenting below line would cause error as\n",
    "# we are trying to add element to a frozen set\n",
    "# frozen_set.add(\"h\")"
   ]
  },
  {
   "cell_type": "code",
   "execution_count": 33,
   "id": "08ff744b-8db4-4249-85b6-b4e28c641572",
   "metadata": {},
   "outputs": [
    {
     "name": "stdout",
     "output_type": "stream",
     "text": [
      "People: {'Idrish', 'Jay', 'Archi'}\n",
      "\n",
      "Set after adding element: {1, 2, 3, 4, 5, 'Archi', 'Jay', 'Idrish', 'Daxit'}\n"
     ]
    }
   ],
   "source": [
    "# Internal working of Set\n",
    "# This is based on a data structure known as a hash table. \n",
    "# If Multiple values are present at the same index position, then the value is appended to that index position, to form a Linked List. In, Python Sets are implemented using dictionary with dummy variables, where key beings the members set with greater optimizations to the time complexity.\n",
    "\n",
    "# A Python program to\n",
    "# demonstrate adding elements\n",
    "# in a set\n",
    " \n",
    "# Creating a Set\n",
    "people = {\"Jay\", \"Idrish\", \"Archi\"}\n",
    " \n",
    "print(\"People:\", end = \" \")\n",
    "print(people)\n",
    " \n",
    "# This will add Daxit\n",
    "# in the set\n",
    "people.add(\"Daxit\")\n",
    " \n",
    "# Adding elements to the\n",
    "# set using iterator\n",
    "for i in range(1, 6):\n",
    "    people.add(i)\n",
    " \n",
    "print(\"\\nSet after adding element:\", end = \" \")\n",
    "print(people)"
   ]
  },
  {
   "cell_type": "code",
   "execution_count": 34,
   "id": "adef3391-9967-418d-a950-dbeee67e95dc",
   "metadata": {},
   "outputs": [
    {
     "name": "stdout",
     "output_type": "stream",
     "text": [
      "Union using union() function\n",
      "{'Arjun', 'Idrish', 'Jay', 'Archil', 'Karan'}\n",
      "\n",
      "Union using '|' operator\n",
      "{'Deepanshu', 'Idrish', 'Jay', 'Archil', 'Raju'}\n"
     ]
    }
   ],
   "source": [
    "# Union operation on Python Sets\n",
    "# Two sets can be merged using union() function or | operator. Both Hash Table values are accessed and traversed with merge operation perform on them to combine the elements, at the same time duplicates are removed.\n",
    "\n",
    "# Python Program to\n",
    "# demonstrate union of\n",
    "# two sets\n",
    " \n",
    "people = {\"Jay\", \"Idrish\", \"Archil\"}\n",
    "vampires = {\"Karan\", \"Arjun\"}\n",
    "dracula = {\"Deepanshu\", \"Raju\"}\n",
    " \n",
    "# Union using union()\n",
    "# function\n",
    "population = people.union(vampires)\n",
    " \n",
    "print(\"Union using union() function\")\n",
    "print(population)\n",
    " \n",
    "# Union using \"|\"\n",
    "# operator\n",
    "population = people|dracula\n",
    " \n",
    "print(\"\\nUnion using '|' operator\")\n",
    "print(population)"
   ]
  },
  {
   "cell_type": "code",
   "execution_count": 35,
   "id": "d5260236-3a90-41c5-bb9d-686b0804745d",
   "metadata": {},
   "outputs": [
    {
     "name": "stdout",
     "output_type": "stream",
     "text": [
      "Intersection using intersection() function\n",
      "{3, 4}\n",
      "\n",
      "Intersection using '&' operator\n",
      "{3, 4}\n"
     ]
    }
   ],
   "source": [
    "# Intersection operation on Python Sets\n",
    "# This can be done through intersection() or & operator. Common Elements are selected. They are similar to iteration over the Hash lists and combining the same values on both the Table. Time Complexity of this is O(min(len(s1), len(s2)) where s1 and s2 are two sets whose union needs to be done.\n",
    "\n",
    "# Python program to\n",
    "# demonstrate intersection\n",
    "# of two sets\n",
    " \n",
    "set1 = set()\n",
    "set2 = set()\n",
    " \n",
    "for i in range(5):\n",
    "    set1.add(i)\n",
    " \n",
    "for i in range(3,9):\n",
    "    set2.add(i)\n",
    " \n",
    "# Intersection using\n",
    "# intersection() function\n",
    "set3 = set1.intersection(set2)\n",
    " \n",
    "print(\"Intersection using intersection() function\")\n",
    "print(set3)\n",
    " \n",
    "# Intersection using\n",
    "# \"&\" operator\n",
    "set3 = set1 & set2\n",
    " \n",
    "print(\"\\nIntersection using '&' operator\")\n",
    "print(set3)"
   ]
  },
  {
   "cell_type": "code",
   "execution_count": 36,
   "id": "c7b2fe50-6fdc-48ef-b617-36d5a738e118",
   "metadata": {},
   "outputs": [
    {
     "name": "stdout",
     "output_type": "stream",
     "text": [
      " Difference of two sets using difference() function\n",
      "{0, 1, 2}\n",
      "\n",
      "Difference of two sets using '-' operator\n",
      "{0, 1, 2}\n"
     ]
    }
   ],
   "source": [
    "# Finding Difference of Sets in Python\n",
    "# To find difference in between sets. Similar to find difference in linked list. This is done through difference() or – operator.\n",
    "\n",
    "# Python program to\n",
    "# demonstrate difference\n",
    "# of two sets\n",
    " \n",
    "set1 = set()\n",
    "set2 = set()\n",
    " \n",
    "for i in range(5):\n",
    "    set1.add(i)\n",
    " \n",
    "for i in range(3,9):\n",
    "    set2.add(i)\n",
    " \n",
    "# Difference of two sets\n",
    "# using difference() function\n",
    "set3 = set1.difference(set2)\n",
    " \n",
    "print(\" Difference of two sets using difference() function\")\n",
    "print(set3)\n",
    " \n",
    "# Difference of two sets\n",
    "# using '-' operator\n",
    "set3 = set1 - set2\n",
    " \n",
    "print(\"\\nDifference of two sets using '-' operator\")\n",
    "print(set3)"
   ]
  },
  {
   "cell_type": "code",
   "execution_count": 38,
   "id": "d772843a-5580-4648-93c1-7ae653ccba4c",
   "metadata": {},
   "outputs": [
    {
     "name": "stdout",
     "output_type": "stream",
     "text": [
      "Initial set\n",
      "{1, 2, 3, 4, 5, 6}\n",
      "\n",
      "Set after using clear() function\n",
      "set()\n"
     ]
    }
   ],
   "source": [
    "# Set Clear() method empties the whole set inplace.\n",
    "# Python program to\n",
    "# demonstrate clearing\n",
    "# of set\n",
    " \n",
    "set1 = {1,2,3,4,5,6}\n",
    " \n",
    "print(\"Initial set\")\n",
    "print(set1)\n",
    " \n",
    "# This method will remove\n",
    "# all the elements of the set\n",
    "set1.clear()\n",
    " \n",
    "print(\"\\nSet after using clear() function\")\n",
    "print(set1)"
   ]
  },
  {
   "cell_type": "code",
   "execution_count": 40,
   "id": "7ec5957d-19e4-4dae-ac62-14af4ee7ce24",
   "metadata": {},
   "outputs": [
    {
     "name": "stdout",
     "output_type": "stream",
     "text": [
      "{1: 'Geeks', 2: 'For', 3: 'Geeks'}\n"
     ]
    }
   ],
   "source": [
    "# Dictionary in Python is a collection of keys values, used to store data values like a map, which, unlike other data types which hold only a single value as an element.\n",
    "Dict = {1: 'Geeks', 2: 'For', 3: 'Geeks'}\n",
    "print(Dict)"
   ]
  },
  {
   "cell_type": "code",
   "execution_count": 43,
   "id": "c6e317bb-50b6-42e9-a7f2-300e506a1906",
   "metadata": {},
   "outputs": [
    {
     "name": "stdout",
     "output_type": "stream",
     "text": [
      "\n",
      "Dictionary with the use of Integer Keys: \n",
      "{1: 'Geeks', 2: 'For', 3: 'Geeks'}\n",
      "\n",
      "Dictionary with the use of Mixed Keys: \n",
      "{'Name': 'Geeks', 1: [1, 2, 3, 4]}\n"
     ]
    }
   ],
   "source": [
    "# In Python, a dictionary can be created by placing a sequence of elements within curly {} braces, separated by ‘comma’. Dictionary holds pairs of values, one being the Key and the other corresponding pair element being its Key:value. Values in a dictionary can be of any data type and can be duplicated, whereas keys can’t be repeated and must be immutable. \n",
    "\n",
    "# Note – Dictionary keys are case sensitive, the same name but different cases of Key will be treated distinctly.\n",
    "\n",
    "# Creating a Dictionary\n",
    "# with Integer Keys\n",
    "Dict = {1: 'Geeks', 2: 'For', 3: 'Geeks'}\n",
    "print(\"\\nDictionary with the use of Integer Keys: \")\n",
    "print(Dict)\n",
    "  \n",
    "# Creating a Dictionary\n",
    "# with Mixed keys\n",
    "Dict = {'Name': 'Geeks', 1: [1, 2, 3, 4]}\n",
    "print(\"\\nDictionary with the use of Mixed Keys: \")\n",
    "print(Dict)"
   ]
  },
  {
   "cell_type": "code",
   "execution_count": 44,
   "id": "00f2bbd4-83cf-411c-b76a-8cf333d1ed47",
   "metadata": {},
   "outputs": [
    {
     "name": "stdout",
     "output_type": "stream",
     "text": [
      "Empty Dictionary: \n",
      "{}\n",
      "\n",
      "Dictionary with the use of dict(): \n",
      "{1: 'Geeks', 2: 'For', 3: 'Geeks'}\n",
      "\n",
      "Dictionary with each item as a pair: \n"
     ]
    }
   ],
   "source": [
    "# Creating an empty Dictionary\n",
    "Dict = {}\n",
    "print(\"Empty Dictionary: \")\n",
    "print(Dict)\n",
    "  \n",
    "# Creating a Dictionary\n",
    "# with dict() method\n",
    "Dict = dict({1: 'Geeks', 2: 'For', 3: 'Geeks'})\n",
    "print(\"\\nDictionary with the use of dict(): \")\n",
    "print(Dict)\n",
    "  \n",
    "# Creating a Dictionary\n",
    "# with each item as a Pair\n",
    "Dict = dict([(1, 'Geeks'), (2, 'For')])\n",
    "print(\"\\nDictionary with each item as a pair: \")"
   ]
  },
  {
   "cell_type": "code",
   "execution_count": 45,
   "id": "235e80e0-2d70-4bd2-bf6e-3316721b39be",
   "metadata": {},
   "outputs": [
    {
     "name": "stdout",
     "output_type": "stream",
     "text": [
      "{1: 'Geeks', 2: 'For', 3: {'A': 'Welcome', 'B': 'To', 'C': 'Geeks'}}\n"
     ]
    }
   ],
   "source": [
    "# Creating a Nested Dictionary\n",
    "# as shown in the below image\n",
    "Dict = {1: 'Geeks', 2: 'For',\n",
    "        3: {'A': 'Welcome', 'B': 'To', 'C': 'Geeks'}}\n",
    "  \n",
    "print(Dict)"
   ]
  },
  {
   "cell_type": "code",
   "execution_count": 47,
   "id": "ab440e5f-2895-4b84-a4cb-90a6344f52f7",
   "metadata": {},
   "outputs": [
    {
     "name": "stdout",
     "output_type": "stream",
     "text": [
      "Empty Dictionary: \n",
      "{}\n",
      "\n",
      "Dictionary after adding 3 elements: \n",
      "{0: 'Geeks', 2: 'For', 3: 1}\n",
      "\n",
      "Dictionary after adding 3 elements: \n",
      "{0: 'Geeks', 2: 'For', 3: 1, 'Value_set': (2, 3, 4)}\n",
      "\n",
      "Updated key value: \n",
      "{0: 'Geeks', 2: 'Welcome', 3: 1, 'Value_set': (2, 3, 4)}\n",
      "\n",
      "Adding a Nested Key: \n",
      "{0: 'Geeks', 2: 'Welcome', 3: 1, 'Value_set': (2, 3, 4), 5: {'Nested': {'1': 'Life', '2': 'Geeks'}}}\n"
     ]
    }
   ],
   "source": [
    "# Addition of elements can be done in multiple ways. One value at a time can be added to a Dictionary by defining value along with the key e.g. Dict[Key] = ‘Value’. Updating an existing value in a Dictionary can be done by using the built-in update() method. Nested key values can also be added to an existing Dictionary. \n",
    "\n",
    "# Note- While adding a value, if the key-value already exists, the value gets updated otherwise a new Key with the value is added to the Dictionary.\n",
    "\n",
    "# Creating an empty Dictionary\n",
    "Dict = {}\n",
    "print(\"Empty Dictionary: \")\n",
    "print(Dict)\n",
    "  \n",
    "# Adding elements one at a time\n",
    "Dict[0] = 'Geeks'\n",
    "Dict[2] = 'For'\n",
    "Dict[3] = 1\n",
    "print(\"\\nDictionary after adding 3 elements: \")\n",
    "print(Dict)\n",
    "  \n",
    "# Adding set of values\n",
    "# to a single Key\n",
    "Dict['Value_set'] = 2, 3, 4\n",
    "print(\"\\nDictionary after adding 3 elements: \")\n",
    "print(Dict)\n",
    "  \n",
    "# Updating existing Key's Value\n",
    "Dict[2] = 'Welcome'\n",
    "print(\"\\nUpdated key value: \")\n",
    "print(Dict)\n",
    "  \n",
    "# Adding Nested Key value to Dictionary\n",
    "Dict[5] = {'Nested': {'1': 'Life', '2': 'Geeks'}}\n",
    "print(\"\\nAdding a Nested Key: \")\n",
    "print(Dict)"
   ]
  },
  {
   "cell_type": "code",
   "execution_count": 48,
   "id": "58fb4ac5-fa7b-4831-853d-5b6e4da849a6",
   "metadata": {},
   "outputs": [
    {
     "name": "stdout",
     "output_type": "stream",
     "text": [
      "Accessing a element using key:\n",
      "For\n",
      "Accessing a element using key:\n",
      "Geeks\n"
     ]
    }
   ],
   "source": [
    "# Python program to demonstrate\n",
    "# accessing a element from a Dictionary\n",
    "  \n",
    "# Creating a Dictionary\n",
    "Dict = {1: 'Geeks', 'name': 'For', 3: 'Geeks'}\n",
    "  \n",
    "# accessing a element using key\n",
    "print(\"Accessing a element using key:\")\n",
    "print(Dict['name'])\n",
    "  \n",
    "# accessing a element using key\n",
    "print(\"Accessing a element using key:\")\n",
    "print(Dict[1])"
   ]
  },
  {
   "cell_type": "code",
   "execution_count": 50,
   "id": "3b249f84-61b5-46bf-881e-caaa11db9a09",
   "metadata": {},
   "outputs": [
    {
     "name": "stdout",
     "output_type": "stream",
     "text": [
      "{'brand': 'Ford', 'model': 'Mustang', 'year': 1964}\n",
      "{'brand': 'Ford', 'model': 'Mustang', 'year': 1964, 'color': 'White'}\n"
     ]
    }
   ],
   "source": [
    "car = {\n",
    "  \"brand\": \"Ford\",\n",
    "  \"model\": \"Mustang\",\n",
    "  \"year\": 1964\n",
    "}\n",
    "\n",
    "print(car)\n",
    "car.update({\"color\": \"White\"})\n",
    "\n",
    "print(car)"
   ]
  },
  {
   "cell_type": "code",
   "execution_count": 55,
   "id": "b78ba2e2-09d4-4135-9010-f1ff47d1812f",
   "metadata": {},
   "outputs": [
    {
     "name": "stdout",
     "output_type": "stream",
     "text": [
      "Accessing a element using get:\n",
      "Geeks\n",
      "Good\n"
     ]
    }
   ],
   "source": [
    "# There is also a method called get() that will also help in accessing the element from a dictionary.This method accepts key as argument and returns the value.\n",
    "# Creating a Dictionary\n",
    "Dict = {1: 'Geeks', 'name': 'For', 3: 'Geeks', 'h':'Good'}\n",
    "  \n",
    "# accessing a element using get()\n",
    "# method\n",
    "print(\"Accessing a element using get:\")\n",
    "print(Dict.get(3))\n",
    "print(Dict.get('h'))\n"
   ]
  },
  {
   "cell_type": "code",
   "execution_count": 52,
   "id": "dea19a99-a143-4328-a84b-810b86035888",
   "metadata": {},
   "outputs": [
    {
     "name": "stdout",
     "output_type": "stream",
     "text": [
      "{1: 'Geeks'}\n",
      "Geeks\n",
      "For\n"
     ]
    }
   ],
   "source": [
    "# Creating a Dictionary\n",
    "Dict = {'Dict1': {1: 'Geeks'},\n",
    "        'Dict2': {'Name': 'For'}}\n",
    "  \n",
    "# Accessing element using key\n",
    "print(Dict['Dict1'])\n",
    "print(Dict['Dict1'][1])\n",
    "print(Dict['Dict2']['Name'])"
   ]
  },
  {
   "cell_type": "code",
   "execution_count": 56,
   "id": "91193896-246a-45f2-a8fb-0b1a7954b036",
   "metadata": {},
   "outputs": [
    {
     "name": "stdout",
     "output_type": "stream",
     "text": [
      "{1: 'Python', 2: 'Java', 3: 'Ruby', 4: 'Scala'}\n",
      "{}\n",
      "Python\n",
      "dict_items([(1, 'Python'), (2, 'Java'), (3, 'Ruby'), (4, 'Scala')])\n",
      "dict_keys([1, 2, 3, 4])\n",
      "{1: 'Python', 2: 'Java', 3: 'Ruby'}\n",
      "{1: 'Python', 2: 'Java'}\n",
      "{1: 'Python', 2: 'Java', 3: 'Scala'}\n",
      "dict_values(['Python', 'Java', 'Scala'])\n"
     ]
    }
   ],
   "source": [
    "# Dictionary methods\n",
    "# clear() – Remove all the elements from the dictionary\n",
    "# copy() – Returns a copy of the dictionary\n",
    "# get() – Returns the value of specified key\n",
    "# items() – Returns a list containing a tuple for each key value pair\n",
    "# keys() – Returns a list containing dictionary’s keys\n",
    "# pop() – Remove the element with specified key\n",
    "# popitem() – Removes the last inserted key-value pair\n",
    "# update() – Updates dictionary with specified key-value pairs\n",
    "# values() – Returns a list of all the values of dictionary\n",
    "\n",
    "# demo for all dictionary methods\n",
    "dict1 = {1: \"Python\", 2: \"Java\", 3: \"Ruby\", 4: \"Scala\"}\n",
    "  \n",
    "# copy() method\n",
    "dict2 = dict1.copy()\n",
    "print(dict2)\n",
    "  \n",
    "# clear() method\n",
    "dict1.clear()\n",
    "print(dict1)\n",
    "  \n",
    "# get() method\n",
    "print(dict2.get(1))\n",
    "  \n",
    "# items() method\n",
    "print(dict2.items())\n",
    "  \n",
    "# keys() method\n",
    "print(dict2.keys())\n",
    "  \n",
    "# pop() method\n",
    "dict2.pop(4)\n",
    "print(dict2)\n",
    "  \n",
    "# popitem() method\n",
    "dict2.popitem()\n",
    "print(dict2)\n",
    "  \n",
    "# update() method\n",
    "dict2.update({3: \"Scala\"})\n",
    "print(dict2)\n",
    "  \n",
    "# values() method\n",
    "print(dict2.values())"
   ]
  },
  {
   "cell_type": "code",
   "execution_count": 59,
   "id": "5869ccdf-45c0-488e-9908-5fbe62d2835a",
   "metadata": {},
   "outputs": [
    {
     "name": "stdout",
     "output_type": "stream",
     "text": [
      "Gee\n",
      "ek\n",
      "!seGrf\n"
     ]
    }
   ],
   "source": [
    "# Slicing in Python is a feature that enables accessing parts of the sequence. In slicing a string, we create a substring, which is essentially a string that exists within another string. We use slicing when we require a part of the string and not the complete string. \n",
    "\n",
    "#Slicing in String:\n",
    "#Syntax :\n",
    "#string[start : end : step]\n",
    "\n",
    "#start : We provide the starting index.\n",
    "#end : We provide the end index(this is not included in substring).\n",
    "#step : It is an optional argument that determines the increment between each index for slicing.\n",
    "\n",
    "# declaring the string\n",
    "str =\"Geeks for Geeks !\"\n",
    " \n",
    "# slicing using indexing sequence\n",
    "print(str[: 3])\n",
    "print(str[1 : 5 : 2])\n",
    "print(str[-1 : -12 : -2])"
   ]
  },
  {
   "cell_type": "code",
   "execution_count": 60,
   "id": "8c8b3acb-ea8e-403b-b929-759e1b739e96",
   "metadata": {},
   "outputs": [
    {
     "name": "stdout",
     "output_type": "stream",
     "text": [
      "[50, 70, 30, 20, 90, 10, 50]\n",
      "[70, 30, 20, 90]\n"
     ]
    }
   ],
   "source": [
    "# Slicing in list\n",
    "# As mentioned earlier list slicing is a common practice in Python and can be used both with positive indexes as well as negative indexes. The below diagram illustrates the technique of list slicing:\n",
    "\n",
    "# Initialize list\n",
    "Lst = [50, 70, 30, 20, 90, 10, 50]\n",
    "\n",
    "print(Lst)\n",
    "# Display list\n",
    "print(Lst[1:5])"
   ]
  },
  {
   "cell_type": "code",
   "execution_count": 62,
   "id": "79dd1d9e-65b2-4536-a3af-4091b7b95ded",
   "metadata": {},
   "outputs": [
    {
     "name": "stdout",
     "output_type": "stream",
     "text": [
      "(22, 3, 45, 4, 2.4, 2, 56, 890, 1)\n",
      "(3, 45, 4)\n"
     ]
    }
   ],
   "source": [
    "tup = (22, 3, 45, 4, 2.4, 2, 56, 890, 1)\n",
    "print(tup)\n",
    "\n",
    "print(tup[1:4])"
   ]
  },
  {
   "cell_type": "code",
   "execution_count": 66,
   "id": "e1f52a5d-7945-407f-8c6c-c9723fb597cb",
   "metadata": {},
   "outputs": [
    {
     "name": "stdout",
     "output_type": "stream",
     "text": [
      "List l1:[10, 20, 30], l2:[10, 20, 30], l1:id:1634342528384, l2:id:1634342782464, l2=l1[:]-is: False\n",
      "Tuple t1:(10, 20, 30), t2:(10, 20, 30), t1:id:1634342806912, t2:id:1634342806912, t2=t1[:]-is: True\n",
      "String s1:geeks, s2:geeks, s1:id:1634337844912, s2:id:1634337844912, s2=s1[:]-is: True\n"
     ]
    }
   ],
   "source": [
    "l1 = [10,20,30]\n",
    "l2 = l1[:]\n",
    "t1 = (10,20,30)\n",
    "t2 = t1[:]          # tuple having same element has same id\n",
    "s1 = \"geeks\"\n",
    "s2 = s1[:]          # string of same value have same id\n",
    "print(\"List l1:{}, l2:{}, l1:id:{}, l2:id:{}, l2=l1[:]-is: {}\".format(l1,l2,id(l1),id(l2),l1 is l2))\n",
    "print(\"Tuple t1:{}, t2:{}, t1:id:{}, t2:id:{}, t2=t1[:]-is: {}\".format(t1,t2,id(t1),id(t2),t1 is t2))\n",
    "print(\"String s1:{}, s2:{}, s1:id:{}, s2:id:{}, s2=s1[:]-is: {}\".format(s1,s2,id(s1),id(s2),s1 is s2))\n"
   ]
  },
  {
   "cell_type": "code",
   "execution_count": 67,
   "id": "9990a86b-2d32-49d6-b8cb-5f0542b38656",
   "metadata": {},
   "outputs": [
    {
     "name": "stdout",
     "output_type": "stream",
     "text": [
      "[1, 2, 3]\n"
     ]
    }
   ],
   "source": [
    "# A Python list comprehension consists of brackets containing the expression, which is executed for each element along with the for loop to iterate over each element in the Python list. \n",
    "\n",
    "# Python List comprehension provides a much more short syntax for creating a new list based on the values of an existing list.\n",
    "\n",
    "# Advantages of List Comprehension\n",
    "# More time-efficient and space-efficient than loops.\n",
    "# Require fewer lines of code.\n",
    "# Transforms iterative statement into a formula.\n",
    "# Syntax of  List Comprehension\n",
    "# newList = [ expression(element) for element in oldList if condition ] \n",
    "\n",
    "# Using list comprehension to iterate through loop\n",
    "List = [character for character in [1, 2, 3]]\n",
    " \n",
    "# Displaying list\n",
    "print(List)"
   ]
  },
  {
   "cell_type": "code",
   "execution_count": 68,
   "id": "39bdcbbd-2cbf-4545-b589-dddaabc34b26",
   "metadata": {},
   "outputs": [
    {
     "name": "stdout",
     "output_type": "stream",
     "text": [
      "[0, 2, 4, 6, 8, 10]\n"
     ]
    }
   ],
   "source": [
    "list = [i for i in range(11) if i % 2 == 0]\n",
    "print(list)"
   ]
  },
  {
   "cell_type": "code",
   "execution_count": 69,
   "id": "ed6f1e16-26f1-44cf-80f8-e8b18baa80b5",
   "metadata": {},
   "outputs": [
    {
     "name": "stdout",
     "output_type": "stream",
     "text": [
      "[[0, 1, 2], [0, 1, 2], [0, 1, 2]]\n"
     ]
    }
   ],
   "source": [
    "matrix = [[j for j in range(3)] for i in range(3)]\n",
    "   \n",
    "print(matrix)"
   ]
  },
  {
   "cell_type": "code",
   "execution_count": 70,
   "id": "b9218710-804b-420e-842c-7b73e2f8fd09",
   "metadata": {},
   "outputs": [
    {
     "name": "stdout",
     "output_type": "stream",
     "text": [
      "['G', 'e', 'e', 'k', 's', ' ', '4', ' ', 'G', 'e', 'e', 'k', 's', '!']\n"
     ]
    }
   ],
   "source": [
    "# Empty list\n",
    "List = []\n",
    " \n",
    "# Traditional approach of iterating\n",
    "for character in 'Geeks 4 Geeks!':\n",
    "    List.append(character)\n",
    " \n",
    "# Display list\n",
    "print(List)"
   ]
  },
  {
   "cell_type": "code",
   "execution_count": 71,
   "id": "8692ea70-01ca-4f8c-a1fa-17a03570910b",
   "metadata": {},
   "outputs": [
    {
     "name": "stdout",
     "output_type": "stream",
     "text": [
      "['G', 'e', 'e', 'k', 's', ' ', '4', ' ', 'G', 'e', 'e', 'k', 's', '!']\n"
     ]
    }
   ],
   "source": [
    "# Using list comprehension to iterate through loop\n",
    "List = [character for character in 'Geeks 4 Geeks!']\n",
    " \n",
    "# Displaying list\n",
    "print(List)"
   ]
  },
  {
   "cell_type": "code",
   "execution_count": 72,
   "id": "93e0b730-74e2-40db-9b83-6c58bfaf5d4f",
   "metadata": {},
   "outputs": [
    {
     "name": "stdout",
     "output_type": "stream",
     "text": [
      "{'a': 1, 'b': 2, 'c': 3, 'd': 4, 'e': 5}\n"
     ]
    }
   ],
   "source": [
    "# Python code to demonstrate dictionary\n",
    "# comprehension\n",
    " \n",
    "# Lists to represent keys and values\n",
    "keys = ['a','b','c','d','e']\n",
    "values = [1,2,3,4,5] \n",
    " \n",
    "# but this line shows dict comprehension here \n",
    "myDict = { k:v for (k,v) in zip(keys, values)} \n",
    " \n",
    "# We can use below too\n",
    "# myDict = dict(zip(keys, values)) \n",
    " \n",
    "print (myDict)"
   ]
  },
  {
   "cell_type": "code",
   "execution_count": 76,
   "id": "c049904b-0ff4-424f-bd13-486ed7c3f97f",
   "metadata": {},
   "outputs": [
    {
     "name": "stdout",
     "output_type": "stream",
     "text": [
      "[('a', 1), ('b', 2), ('c', 3), ('d', 4), ('e', 5)]\n"
     ]
    }
   ],
   "source": [
    "keys = ['a','b','c','d','e']\n",
    "values = [1,2,3,4,5] \n",
    "z=zip(keys,values)\n",
    "print([l for l in(z)])\n",
    " "
   ]
  },
  {
   "cell_type": "code",
   "execution_count": 77,
   "id": "3c90e439-1d3b-4d25-840b-e3e8d927bee8",
   "metadata": {},
   "outputs": [
    {
     "name": "stdin",
     "output_type": "stream",
     "text": [
      " 10\n"
     ]
    },
    {
     "name": "stdout",
     "output_type": "stream",
     "text": [
      "20\n"
     ]
    }
   ],
   "source": [
    "# Given an input num as a string. You need to typecast into an integer and double it.\n",
    "\n",
    "# Example 1:\n",
    "\n",
    "# Input:\n",
    "# num = 5\n",
    "# Output: \n",
    "# 10\n",
    "# Explanation: Just typecast and double it.\n",
    "\n",
    "def utility():\n",
    "    #The line below takes the input\n",
    "    num=input()\n",
    "    \n",
    "    #Complete the syntax below. Convert num to int and double it\n",
    "    ans=2*int(num)\n",
    "    #Complete the syntax above\n",
    "    \n",
    "    #The line below prints the output\n",
    "    print(ans)\n",
    "\n",
    "utility()"
   ]
  },
  {
   "cell_type": "code",
   "execution_count": 79,
   "id": "172f7991-a523-4c8b-baac-46e043b66abe",
   "metadata": {},
   "outputs": [
    {
     "name": "stdout",
     "output_type": "stream",
     "text": [
      "10 -20\n",
      "-20 10\n",
      "None\n"
     ]
    }
   ],
   "source": [
    "# Given two numbers a and b, you need to swap their values so a holds the value of b and b holds the value of a. Just write the code to swap values of a and b at the specified place. The input and output are done automatically.\n",
    "\n",
    "# Examples\n",
    "\n",
    "# Input: a = 1 b = 2\n",
    "# Output: 2 1\n",
    "# Explanation: Initially a = 1 and b = 2, now a = 2 and b = 1.\n",
    "# Input: a = 6 b = 7  \n",
    "# Output: 7 6 \n",
    "# Explanation: Initially a = 6 and b = 7, now a = 7 and b = 6.\n",
    "\n",
    "class Solution:\n",
    "    def utility(self, a, b):\n",
    "        #code here\n",
    "        b,a=a,b\n",
    "        print(a,b);\n",
    "\n",
    "a,b=10,-20\n",
    "s=Solution()\n",
    "print(a,b)\n",
    "print(s.utility(a,b))"
   ]
  },
  {
   "cell_type": "code",
   "execution_count": 94,
   "id": "6786327b-19ef-4430-96c0-5f0bbd296655",
   "metadata": {},
   "outputs": [
    {
     "name": "stdin",
     "output_type": "stream",
     "text": [
      " 11\n",
      " -10\n"
     ]
    },
    {
     "name": "stdout",
     "output_type": "stream",
     "text": [
      "1020\n",
      "11-10\n"
     ]
    }
   ],
   "source": [
    "# Given two integers a and b, you need to concatenate them so the output is ab.\n",
    "\n",
    "# Example 1:\n",
    "\n",
    "# Input:\n",
    "# a = 5\n",
    "# b = 6\n",
    "# Output: \n",
    "# 56\n",
    "# Explanation: Concatenate them.\n",
    "# Example 2:\n",
    "\n",
    "# Input:\n",
    "# a = 1\n",
    "# b = 9\n",
    "# Output: \n",
    "# 19\n",
    "# Explanation: Concatenate them.\n",
    "\n",
    "\n",
    "a=int(input())\n",
    "b=int(input())\n",
    "    \n",
    "    #Complete the code below to concatenate a and b\n",
    "\n",
    "ans='{}{}'.format(a,b)\n",
    "print('10'+'20')\n",
    "    #Complete the code above to concatenate a and b\n",
    "    \n",
    "    #The line below prints the output.\n",
    "print(ans)"
   ]
  },
  {
   "cell_type": "code",
   "execution_count": 105,
   "id": "3eaeb0c0-ce4f-46b5-9f05-d58e3bf905db",
   "metadata": {},
   "outputs": [
    {
     "name": "stdout",
     "output_type": "stream",
     "text": [
      "23143\n"
     ]
    }
   ],
   "source": [
    "# Python3 program to concatenate \n",
    "# two integers into one \n",
    "  \n",
    "# Function to concatenate \n",
    "# two integers into one \n",
    "def concat(a, b):\n",
    "    return '{}{}'.format(a,b)\n",
    "\"\"\"   \n",
    "    # Convert both the integers to string \n",
    "    s1 = str(a) \n",
    "    s2 = str(b) \n",
    "      \n",
    "    # Concatenate both strings     \n",
    "    s = s1 + s2 \n",
    "      \n",
    "    # Convert the concatenated string \n",
    "    # to integer \n",
    "    c = int(s) \n",
    "      \n",
    "    # return the formed integer \n",
    "    return c \n",
    "\"\"\"  \n",
    "# Driver code \n",
    "  \n",
    "a = 231\n",
    "b = 43\n",
    "  \n",
    "print(concat(a, b)) "
   ]
  },
  {
   "cell_type": "code",
   "execution_count": 106,
   "id": "781ae7d3-6ced-4f81-850f-db53fc75cbbd",
   "metadata": {},
   "outputs": [],
   "source": [
    "\"\"\"\n",
    "Given two sets A and B. find the Union of both the sets.\n",
    "\n",
    "Union of two given sets A and B is a set which consists of all the elements of A and all the elements of B such that no element is repeated.\n",
    "\n",
    "Example 1:\n",
    "\n",
    "Input:\n",
    "A = {2, 5, 6}\n",
    "B = {1, 4, 3, 2}\n",
    "Output: \n",
    "1 2 3 4 5 6\n",
    "\"\"\"\n",
    "\n",
    "class Solution:\n",
    "    def Union(self, A, B):\n",
    "        return A|B\n",
    "        "
   ]
  },
  {
   "cell_type": "code",
   "execution_count": 111,
   "id": "481fa451-b643-49b5-a2ef-11c150a919ef",
   "metadata": {},
   "outputs": [
    {
     "name": "stdout",
     "output_type": "stream",
     "text": [
      "{1, 3, 4} < {1, 2, 3, 4} -> True\n",
      "{1} < {1} -> True\n"
     ]
    }
   ],
   "source": [
    "'''\n",
    "Given two sets A and B. check whether A is subset of B ?\n",
    "\n",
    "A is subset of B, if all elements of a set A are present in another set B.\n",
    "\n",
    "Example 1:\n",
    "\n",
    "Input:\n",
    "A = {1, 4, 3}\n",
    "B = {1, 4, 3, 2}\n",
    "Output: \n",
    "True\n",
    "\n",
    "Your Task: \n",
    "\n",
    "Your task is to complete the function checkSubset(), which takes set A and B as input and return True/False value as output, the driver code will take care of printing.\n",
    "'''\n",
    "\n",
    "class Solution:\n",
    "    def checkSubset(self, A, B):\n",
    "        return A<=B\n",
    "\n",
    "s=Solution()\n",
    "A = {1, 4, 3}\n",
    "B = {1, 4, 3, 2}\n",
    "print(\"{} < {} -> {}\".format(A,B,s.checkSubset(A,B)))\n",
    "A = {1}\n",
    "B = {1}\n",
    "print(\"{} < {} -> {}\".format(A,B,s.checkSubset(A,B)))\n"
   ]
  },
  {
   "cell_type": "code",
   "execution_count": 114,
   "id": "7ecad26c-ea2e-4ce2-b263-fd76cc3a8cb2",
   "metadata": {},
   "outputs": [
    {
     "name": "stdout",
     "output_type": "stream",
     "text": [
      "cde\n",
      "fgh\n",
      "None\n",
      "None\n"
     ]
    }
   ],
   "source": [
    "'''\n",
    "Given a dictionary, and a list of queries(keys), you have to find and print the value of each query from the dictionary if present else it prints \"None\".\n",
    "\n",
    "Example 1:\n",
    "\n",
    "Input:\n",
    "dict = {1:\"abc\", 2: \"cde\", 3: \"fgh\"}\n",
    "query = [2, 3, 4]\n",
    "Output:\n",
    "cde\n",
    "fgh\n",
    "None\n",
    "\n",
    "'''\n",
    "class Solution:\n",
    "    def Query(self, dict, query):\n",
    "        for k in query:\n",
    "            if k in dict:\n",
    "                print(dict[k])\n",
    "            else:\n",
    "                print (None)\n",
    "\n",
    "dict = {1:\"abc\", 2: \"cde\", 3: \"fgh\"}\n",
    "query = [2, 3, 4]\n",
    "s=Solution()\n",
    "\n",
    "print(s.Query(dict,query))\n",
    "\n"
   ]
  },
  {
   "cell_type": "code",
   "execution_count": 116,
   "id": "b2cf2220-e489-4494-abfa-b34b2e5885ca",
   "metadata": {},
   "outputs": [
    {
     "name": "stdout",
     "output_type": "stream",
     "text": [
      "Not Distinct\n",
      "Distinct\n"
     ]
    }
   ],
   "source": [
    "'''\n",
    "Given a tuple A , find if all elements of tuple are different or not.\n",
    "\n",
    "Example 1:\n",
    "\n",
    "Input:\n",
    "A = (1, 2, 3, 4, 5, 4)\n",
    "Output: \n",
    "Not Distinct\n",
    "Example 2:\n",
    "\n",
    "Input:\n",
    "A = (1, 2, 3, 4, 5)\n",
    "Output: \n",
    "Distinct\n",
    "'''\n",
    "\n",
    "class Solution:\n",
    "    def checkDistinct(self, A):\n",
    "        distinct=True\n",
    "        for i in A:\n",
    "            if A.count(i)>1:\n",
    "                distinct=False\n",
    "                break\n",
    "        if distinct:\n",
    "            return('Distinct')\n",
    "        else:\n",
    "            return('Not Distinct')\n",
    "\n",
    "s=Solution()\n",
    "A = (1, 2, 3, 4, 5, 4)\n",
    "print(s.checkDistinct(A))\n",
    "\n",
    "A = (1, 2, 3, 4, 5)\n",
    "print(s.checkDistinct(A))\n"
   ]
  },
  {
   "cell_type": "code",
   "execution_count": 122,
   "id": "e9912d64-5aff-48f1-9d32-56cdfe576445",
   "metadata": {},
   "outputs": [
    {
     "name": "stdout",
     "output_type": "stream",
     "text": [
      "2\n",
      "3\n"
     ]
    }
   ],
   "source": [
    "'''\n",
    "Given a tuple A with distinct elements and an integer X, find the index position of X. Assume to have X in the tuple always.\n",
    "\n",
    "Example 1:\n",
    "\n",
    "Input:\n",
    "A = (1, 2, 3, 4, 5)\n",
    "X = 3\n",
    "Output: \n",
    "2\n",
    "Example 2:\n",
    "\n",
    "Input:\n",
    "A = (3, 2, 1, 5, 4)\n",
    "X = 5\n",
    "Output: \n",
    "3\n",
    "'''\n",
    "\n",
    "\n",
    "class Solution:\n",
    "    def Index(self, A, X):\n",
    "        i=0\n",
    "        while A[i]:\n",
    "            if X==A[i]:\n",
    "                return i\n",
    "            i+=1\n",
    "\n",
    "'''\n",
    "        for j in A:\n",
    "            if X==j:\n",
    "                return i\n",
    "            i+=1\n",
    "'''\n",
    "\n",
    "s=Solution()\n",
    "A = (1, 2, 3, 4, 5)\n",
    "X = 3\n",
    "\n",
    "print(s.Index(A,X))\n",
    "\n",
    "A = (3, 2, 1, 5, 4)\n",
    "X = 5\n",
    "print(s.Index(A,X))\n"
   ]
  },
  {
   "cell_type": "code",
   "execution_count": null,
   "id": "c9096f20-e546-4d90-a170-9d01ac37d894",
   "metadata": {},
   "outputs": [],
   "source": [
    "'''\n",
    "Implement Dictionary in Python\n",
    "Difficulty: EasyAccuracy: 42.59%Submissions: 12K+Points: 2\n",
    "You are familiar with most of the properties of dictionaries in Python. Add some more info about the dictionary through dictionary formatting and deleting key-value pairs.\n",
    "\n",
    "Let's get this into head by solving a question. Given some queries for dictionary.\n",
    "\n",
    "The task is to do some operations as described below:\n",
    "\n",
    "a. i key value: Driver code calls the function insert_dict() which inserts key and value in the dictionary, and prints 'Inserted'.\n",
    "b. d key: Driver code calls the function del_dict() which deletes the entry for a given key and prints 'Deleted' if the key to be deleted is present, else prints '-1'.\n",
    "c. key: print marks of given key in statement as \"Marks of {student_name} is : {marks}\". If key is not present print '-1'.\n",
    "\n",
    "Example:\n",
    "\n",
    "Input:\n",
    "5\n",
    "i geeks 100\n",
    "i for 200\n",
    "d geeks\n",
    "i geeks 300\n",
    "p geeks\n",
    "\n",
    "Output:\n",
    "Inserted\n",
    "Inserted\n",
    "Deleted\n",
    "Inserted\n",
    "Marks of geeks is 300\n",
    "\n",
    "Explanation:\n",
    "For first four queries, insert and del operation happens, correspondingly Inserted and Deleted is printed. \n",
    "For last query, marks of geeks is printed.\n",
    "Constraints:\n",
    "1 <= N <= 104\n",
    "1 <= | key | <= 20\n",
    "1 <= marks <= 105\n",
    "\n",
    "Your Task:\n",
    "The task is to complete the function insert_dict(), del_dict() and print_dict() which should do the operations as required.\n",
    "'''\n",
    "\n",
    "#User function Template for python3\n",
    "\n",
    "# insert into dictionary and print \"Inserted\"\n",
    "def insert_dict(key, value, Dict):\n",
    "    Dict[key]=value\n",
    "    print('Inserted')\n",
    "    #code here\n",
    "    \n",
    "    \n",
    "\n",
    "# deleting from dictionary and print \"Deleted\" if key present else \"-1\"\n",
    "def del_dict(key, Dict):\n",
    "    if key in Dict:\n",
    "        Dict.pop(key)\n",
    "        print('Deleted')\n",
    "    else:\n",
    "        print(\"-1\")\n",
    "    #code here\n",
    "    \n",
    "    \n",
    "\n",
    "# print marks of student whos name is key if student name is present in Dict else \"-1\"\n",
    "def print_dict(key, dict):\n",
    "    if key in dict:\n",
    "        print (\"Marks of {} is {}\".format(key,dict[key]))\n",
    "    else:\n",
    "        print(\"-1\")\n",
    "    # Your code here\n",
    "    \n",
    "    "
   ]
  },
  {
   "cell_type": "code",
   "execution_count": 144,
   "id": "270813fc-b1cf-42b1-8427-4f5c5ea62f94",
   "metadata": {},
   "outputs": [
    {
     "name": "stdout",
     "output_type": "stream",
     "text": [
      "[1, 23, 5] -> type:<class 'list'>\n",
      "[2, 3, 4] -> type:<class 'list'>\n",
      "[5, 6, 7] -> type:<class 'list'>\n",
      "7 -> type:<class 'list'>\n"
     ]
    }
   ],
   "source": [
    "list1=[1,23,5]\n",
    "print('{} -> type:{}'.format(list1,type(list1)))\n",
    "list1=[2,3,4]\n",
    "print('{} -> type:{}'.format(list1,type(list1)))\n",
    "list1=[5,6,7]\n",
    "print('{} -> type:{}'.format(list1,type(list1)))\n",
    "list1.pop()\n",
    "list1=[5,6,7]\n",
    "print('{} -> type:{}'.format(list1.pop(),type(list1)))\n",
    "      "
   ]
  },
  {
   "cell_type": "code",
   "execution_count": 151,
   "id": "a9b095af-fdef-477f-81e1-285f989bfccf",
   "metadata": {},
   "outputs": [
    {
     "name": "stdout",
     "output_type": "stream",
     "text": [
      "[2, 3, 4, 5, 6, 7, 8, 9]\n"
     ]
    }
   ],
   "source": [
    "A=[2,3,\n",
    "   4,5,6,\n",
    "   7,8,9]\n",
    "print(A)"
   ]
  },
  {
   "cell_type": "code",
   "execution_count": null,
   "id": "05a57734-cd90-4bed-917c-0214d12ae181",
   "metadata": {},
   "outputs": [],
   "source": []
  }
 ],
 "metadata": {
  "kernelspec": {
   "display_name": "Python 3 (ipykernel)",
   "language": "python",
   "name": "python3"
  },
  "language_info": {
   "codemirror_mode": {
    "name": "ipython",
    "version": 3
   },
   "file_extension": ".py",
   "mimetype": "text/x-python",
   "name": "python",
   "nbconvert_exporter": "python",
   "pygments_lexer": "ipython3",
   "version": "3.12.4"
  }
 },
 "nbformat": 4,
 "nbformat_minor": 5
}
