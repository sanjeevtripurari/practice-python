{
 "cells": [
  {
   "cell_type": "code",
   "execution_count": 1,
   "id": "a1f41a0d-5539-4c03-874b-70452f95b4e5",
   "metadata": {},
   "outputs": [
    {
     "name": "stdout",
     "output_type": "stream",
     "text": [
      "['Geeks', 'for', 'Geeks']\n"
     ]
    }
   ],
   "source": [
    "# Python Lists are just like dynamically sized arrays, declared in other languages (vector in C++ and ArrayList in Java). In simple language, a list is a collection of things, enclosed in [ ] and separated by commas. \n",
    "# The list is a sequence data type which is used to store the collection of data. Tuples and String are other types of sequence data types.\n",
    "\n",
    "Var = [\"Geeks\", \"for\", \"Geeks\"]\n",
    "print(Var)"
   ]
  },
  {
   "cell_type": "code",
   "execution_count": 3,
   "id": "526815a9-0885-4c68-b010-a7c2c0111467",
   "metadata": {},
   "outputs": [
    {
     "name": "stdout",
     "output_type": "stream",
     "text": [
      "Blank List: \n",
      "[]\n",
      "\n",
      "List of numbers: \n",
      "[10, 20, 14]\n",
      "\n",
      "List Items: \n",
      "Geeks\n",
      "Geeks\n"
     ]
    }
   ],
   "source": [
    "# Python program to demonstrate\n",
    "# Creation of List\n",
    " \n",
    "# Creating a List\n",
    "List = []\n",
    "print(\"Blank List: \")\n",
    "print(List)\n",
    " \n",
    "# Creating a List of numbers\n",
    "List = [10, 20, 14]\n",
    "print(\"\\nList of numbers: \")\n",
    "print(List)\n",
    " \n",
    "# Creating a List of strings and accessing\n",
    "# using index\n",
    "List = [\"Geeks\", \"For\", \"Geeks\"]\n",
    "print(\"\\nList Items: \")\n",
    "print(List[0])\n",
    "print(List[2])"
   ]
  },
  {
   "cell_type": "code",
   "execution_count": 4,
   "id": "8ef40952-d28d-4a18-a7a2-262b7ff6c5b2",
   "metadata": {},
   "outputs": [
    {
     "name": "stdout",
     "output_type": "stream",
     "text": [
      "Accessing a element from the list\n",
      "Geeks\n",
      "Geeks\n"
     ]
    }
   ],
   "source": [
    "# Python program to demonstrate\n",
    "# accessing of element from list\n",
    " \n",
    "# Creating a List with\n",
    "# the use of multiple values\n",
    "List = [\"Geeks\", \"For\", \"Geeks\"]\n",
    " \n",
    "# accessing a element from the\n",
    "# list using index number\n",
    "print(\"Accessing a element from the list\")\n",
    "print(List[0])\n",
    "print(List[2])"
   ]
  },
  {
   "cell_type": "code",
   "execution_count": 11,
   "id": "5636fb3f-22a0-4e4a-9b17-65742826f24c",
   "metadata": {},
   "outputs": [
    {
     "name": "stdout",
     "output_type": "stream",
     "text": [
      "Accessing an element from a multi-dimensional list\n",
      "List: [['Geeks', 'For'], ['Geeks']]: List[0][1] -> For\n",
      "List: [['Geeks', 'For'], ['Geeks']]: List[1][0] -> Geeks\n"
     ]
    }
   ],
   "source": [
    "# Creating multi-dimentional list\n",
    "List=[['Geeks','For'],['Geeks']]\n",
    "\n",
    "print(\"Accessing an element from a multi-dimensional list\")\n",
    "print(\"List: {}: List[0][1] -> {}\".format(List,List[0][1]))\n",
    "print('List: {}: List[1][0] -> {}'.format(List,List[1][0]))\n"
   ]
  },
  {
   "cell_type": "code",
   "execution_count": 14,
   "id": "2544629c-4b30-49fd-a03c-2c2307f4788a",
   "metadata": {},
   "outputs": [
    {
     "name": "stdout",
     "output_type": "stream",
     "text": [
      "Accessing negative inded\n",
      "[1, 2, 'Geeks1', 4, 'For', 6, 'Geeks2'] : List[-1] -> Geeks2\n",
      "[1, 2, 'Geeks1', 4, 'For', 6, 'Geeks2'] : List[-1] -> For\n"
     ]
    }
   ],
   "source": [
    "List=[1,2,'Geeks1',4,'For',6,'Geeks2']\n",
    "\n",
    "print(\"Accessing negative inded\")\n",
    "print(\"{} : List[-1] -> {}\".format(List,List[-1]))\n",
    "print(\"{} : List[-1] -> {}\".format(List,List[-3]))\n"
   ]
  },
  {
   "cell_type": "code",
   "execution_count": 16,
   "id": "02ebdd67-2fff-4e05-82a9-ef1f955c594a",
   "metadata": {},
   "outputs": [
    {
     "name": "stdout",
     "output_type": "stream",
     "text": [
      "0\n",
      "3\n"
     ]
    }
   ],
   "source": [
    "List1 = []\n",
    "print(len(List1))\n",
    "\n",
    "List2=[10,20,30]\n",
    "print(len(List2))"
   ]
  },
  {
   "cell_type": "code",
   "execution_count": 17,
   "id": "d9679d72-136e-44d6-bf37-49a01f155c55",
   "metadata": {},
   "outputs": [
    {
     "name": "stdout",
     "output_type": "stream",
     "text": [
      "Initial blank List: \n",
      "[]\n",
      "\n",
      "List after Addition of Three elements: \n",
      "[1, 2, 4]\n",
      "\n",
      "List after Addition of elements from 1-3: \n",
      "[1, 2, 4, 1, 2, 3]\n",
      "\n",
      "List after Addition of a Tuple: \n",
      "[1, 2, 4, 1, 2, 3, (5, 6)]\n",
      "\n",
      "List after Addition of a List: \n",
      "[1, 2, 4, 1, 2, 3, (5, 6), ['For', 'Geeks']]\n"
     ]
    }
   ],
   "source": [
    "# Python program to demonstrate\n",
    "# Addition of elements in a List\n",
    " \n",
    "# Creating a List\n",
    "List = []\n",
    "print(\"Initial blank List: \")\n",
    "print(List)\n",
    " \n",
    "# Addition of Elements\n",
    "# in the List\n",
    "List.append(1)\n",
    "List.append(2)\n",
    "List.append(4)\n",
    "print(\"\\nList after Addition of Three elements: \")\n",
    "print(List)\n",
    " \n",
    "# Adding elements to the List\n",
    "# using Iterator\n",
    "for i in range(1, 4):\n",
    "    List.append(i)\n",
    "print(\"\\nList after Addition of elements from 1-3: \")\n",
    "print(List)\n",
    " \n",
    "# Adding Tuples to the List\n",
    "List.append((5, 6))\n",
    "print(\"\\nList after Addition of a Tuple: \")\n",
    "print(List)\n",
    " \n",
    "# Addition of List to a List\n",
    "List2 = ['For', 'Geeks']\n",
    "List.append(List2)\n",
    "print(\"\\nList after Addition of a List: \")\n",
    "print(List)"
   ]
  },
  {
   "cell_type": "code",
   "execution_count": 18,
   "id": "34dcaae5-8d6e-4c85-a911-020c586340d7",
   "metadata": {},
   "outputs": [
    {
     "name": "stdout",
     "output_type": "stream",
     "text": [
      "['Geeks', 'For', 'Geeks']\n"
     ]
    }
   ],
   "source": [
    "lis = ['Geeks', 'Geeks']\n",
    "lis.insert(1, \"For\")\n",
    "print(lis)"
   ]
  },
  {
   "cell_type": "code",
   "execution_count": 19,
   "id": "50002d6a-2895-4497-ba0a-7110664d329f",
   "metadata": {},
   "outputs": [
    {
     "name": "stdout",
     "output_type": "stream",
     "text": [
      "[1, 2, 3, 4, 10, 5, 6, 7]\n"
     ]
    }
   ],
   "source": [
    "list1 = [ 1, 2, 3, 4, 5, 6, 7 ] \n",
    "  \n",
    "# insert 10 at 4th index \n",
    "list1.insert(4, 10) \n",
    "print(list1) "
   ]
  },
  {
   "cell_type": "code",
   "execution_count": 21,
   "id": "393afd70-1689-43e5-921f-e351b69fb9b0",
   "metadata": {},
   "outputs": [
    {
     "name": "stdout",
     "output_type": "stream",
     "text": [
      "List ['a', 'a', 'a', 'b', 'b', 'a', 'c', 'b']: list2.count('b')) -> 3\n"
     ]
    }
   ],
   "source": [
    "list2 = ['a', 'a', 'a', 'b', 'b', 'a', 'c', 'b']\n",
    "print(\"List {}: list2.count('b')) -> {}\".format(list2,list2.count('b')))"
   ]
  },
  {
   "cell_type": "code",
   "execution_count": 24,
   "id": "612aec2e-fe6a-44b2-b15e-6a26fc4e9744",
   "metadata": {},
   "outputs": [
    {
     "name": "stdout",
     "output_type": "stream",
     "text": [
      "[1, 2, 2, 3, 4, 5]\n",
      "[1, 2, 2, 3, 4]\n",
      "[2, 2, 3, 4]\n"
     ]
    }
   ],
   "source": [
    "# program to demonstrate use of del keyword\n",
    "  \n",
    "# assign list\n",
    "numbers = [1, 2, 3, 2, 3, 4, 5]\n",
    "  \n",
    "# use del\n",
    "del numbers[2]\n",
    "  \n",
    "# display list\n",
    "print(numbers)\n",
    "  \n",
    "# use del\n",
    "del numbers[-1]\n",
    "  \n",
    "# display list\n",
    "print(numbers)\n",
    "  \n",
    "# use del\n",
    "del numbers[0]\n",
    "  \n",
    "# display list\n",
    "print(numbers)"
   ]
  },
  {
   "cell_type": "code",
   "execution_count": null,
   "id": "f56c5b1f-7e7d-43a9-a406-fd2639889efe",
   "metadata": {},
   "outputs": [],
   "source": []
  }
 ],
 "metadata": {
  "kernelspec": {
   "display_name": "Python 3 (ipykernel)",
   "language": "python",
   "name": "python3"
  },
  "language_info": {
   "codemirror_mode": {
    "name": "ipython",
    "version": 3
   },
   "file_extension": ".py",
   "mimetype": "text/x-python",
   "name": "python",
   "nbconvert_exporter": "python",
   "pygments_lexer": "ipython3",
   "version": "3.12.4"
  }
 },
 "nbformat": 4,
 "nbformat_minor": 5
}
