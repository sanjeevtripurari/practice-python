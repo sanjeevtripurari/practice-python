{
 "cells": [
  {
   "cell_type": "code",
   "execution_count": 3,
   "id": "8cd4f146-08e8-4bab-baa1-6769a6b0d308",
   "metadata": {},
   "outputs": [],
   "source": [
    "# Program to show ways to read a file\n",
    "\n",
    "file1=open(\"myfile.txt\",\"w\")\n",
    "L=[\"This is Delhi\\n\", \"This is Pairs\\n\", \"This is London\\n\"]\n",
    "file1.write(\"Hello\\n\")\n",
    "file1.writelines(L)\n",
    "file1.close()\n"
   ]
  },
  {
   "cell_type": "code",
   "execution_count": 8,
   "id": "3ff4a5db-5f1d-442b-b568-45c2bc56d5f9",
   "metadata": {},
   "outputs": [
    {
     "name": "stdout",
     "output_type": "stream",
     "text": [
      "Output of Read function is\n",
      "Hello\n",
      "This is Delhi\n",
      "This is Pairs\n",
      "This is London\n",
      "\n",
      "\n",
      "Output of readine function is\n",
      "Hello\n",
      "\n",
      "\n",
      "Output of read(9) function is\n",
      "Hello\n",
      "Thi\n",
      "\n",
      "Output of readines(9) function is\n",
      "Hello\n",
      "\n",
      "\n",
      "Output of readines() function is\n",
      "['Hello\\n', 'This is Delhi\\n', 'This is Pairs\\n', 'This is London\\n']\n",
      "\n"
     ]
    }
   ],
   "source": [
    "# Read file\n",
    "file1=open(\"myfile.txt\",\"r+\")\n",
    "print(\"Output of Read function is\")\n",
    "print(file1.read())\n",
    "print()\n",
    "file1.seek(0)\n",
    "print(\"Output of readine function is\")\n",
    "print(file1.readline())\n",
    "print()\n",
    "file1.seek(0)\n",
    "print(\"Output of read(9) function is\")\n",
    "print(file1.read(9))\n",
    "print()\n",
    "file1.seek(0)\n",
    "print(\"Output of readines(9) function is\")\n",
    "print(file1.readline(9))\n",
    "print()\n",
    "file1.seek(0)\n",
    "print(\"Output of readines() function is\")\n",
    "print(file1.readlines())\n",
    "print()\n",
    "file1.close()\n",
    "\n"
   ]
  },
  {
   "cell_type": "code",
   "execution_count": 29,
   "id": "c7facf9a-6603-44f6-962e-6ae4cac82287",
   "metadata": {},
   "outputs": [],
   "source": [
    "file1=open(\"myfile2.txt\",\"w\")\n",
    "L=[\"This is Delhi\\n\", \"This is Paris\\n\", \"This is London\"]\n",
    "file1.writelines(L)\n",
    "file1.close()\n",
    "\n",
    "file1=open(\"D:\\\\Sanjeev\\\\Learn\\\\python\\\\practice-python\\\\Notebooks\\\\myfile2.txt\", \"a\")\n",
    "file1.write(\"Today\\n\")\n",
    "file1.close()"
   ]
  },
  {
   "cell_type": "code",
   "execution_count": 26,
   "id": "fe5814a0-0566-40c1-aa00-32ed48f4dab7",
   "metadata": {},
   "outputs": [
    {
     "name": "stdout",
     "output_type": "stream",
     "text": [
      "This is Delhi\n",
      "This is Paris\n",
      "This is LondonToday\n",
      "\n",
      "4\n",
      "['Th']\n",
      "['This', 'is', 'Delhi\\nThis', 'is', 'Paris\\nThis', 'is', 'LondonToday\\n'] 7\n",
      "This is Delhi\n",
      "This is Paris\n",
      "This is LondonToday\n",
      "\n",
      "This is Delhi\n",
      "This is Paris\n",
      "This is LondonToday\n",
      "\n"
     ]
    }
   ],
   "source": [
    "fd=open(\"myfile2.txt\")\n",
    "txt=fd.read()\n",
    "fd.close()\n",
    "print(txt)\n",
    "per=txt.split(\"\\n\")\n",
    "print(len(per))\n",
    "lines=txt.split(\"is\")\n",
    "print(lines[:1])\n",
    "words=txt.split(\" \")\n",
    "\n",
    "print(words,len(words))\n",
    "\n",
    "print(txt)\n",
    "for i in range(7,19):\n",
    "    pattern=\"[\"+str(i)+\"]\"\n",
    "    txt=txt.replace(pattern,\"\")\n",
    "print(txt)\n",
    "\n"
   ]
  },
  {
   "cell_type": "code",
   "execution_count": 27,
   "id": "20092165-ccc5-4fc7-aaaa-03b4294048b3",
   "metadata": {},
   "outputs": [
    {
     "name": "stdout",
     "output_type": "stream",
     "text": [
      "This is Delhi\n",
      "This is Paris\n",
      "This is LondonToday\n",
      "\n"
     ]
    }
   ],
   "source": [
    "for i in \"!@#$%^\":\n",
    "    txt = txt.replace(i , \"\")\n",
    "print(txt)"
   ]
  },
  {
   "cell_type": "code",
   "execution_count": 32,
   "id": "5f5f9f6a-4868-4072-a2be-9ddcd618534e",
   "metadata": {},
   "outputs": [],
   "source": [
    "file1=open(\"myfile3.txt\",\"w\")\n",
    "L=[\"This is Delhi\\n\", \"This is Paris\\n\", \"This is London\"]\n",
    "file1.writelines(L)\n",
    "file1.truncate(20);\n",
    "file1.close()\n",
    "\n",
    "file1=open(\"D:\\\\Sanjeev\\\\Learn\\\\python\\\\practice-python\\\\Notebooks\\\\myfile2.txt\", \"a\")\n",
    "file1.write(\"Today\\n\")\n",
    "file1.close()\n"
   ]
  },
  {
   "cell_type": "code",
   "execution_count": null,
   "id": "f51e1f75-c18f-40b8-af67-0ca9f69d820f",
   "metadata": {},
   "outputs": [],
   "source": []
  }
 ],
 "metadata": {
  "kernelspec": {
   "display_name": "Python 3 (ipykernel)",
   "language": "python",
   "name": "python3"
  },
  "language_info": {
   "codemirror_mode": {
    "name": "ipython",
    "version": 3
   },
   "file_extension": ".py",
   "mimetype": "text/x-python",
   "name": "python",
   "nbconvert_exporter": "python",
   "pygments_lexer": "ipython3",
   "version": "3.12.4"
  }
 },
 "nbformat": 4,
 "nbformat_minor": 5
}
