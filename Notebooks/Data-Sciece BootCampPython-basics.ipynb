{
 "cells": [
  {
   "cell_type": "code",
   "execution_count": 1,
   "id": "8e0ed15a-d094-42fe-b6ac-aa61023c9c90",
   "metadata": {},
   "outputs": [],
   "source": [
    "## https://www.geeksforgeeks.org/batch/fork-data-science?tab=Chapters\n",
    "## Data Science BootCamp - From Analysing Data To Creating ML Models\n",
    "\n",
    "# GETTING STARTED WITH PYTHON"
   ]
  },
  {
   "cell_type": "raw",
   "id": "0e80b3b9-c693-4684-afc6-b448ffa3f05d",
   "metadata": {},
   "source": [
    "# Python print() function prints the message to the screen or any other standard output device.\n",
    "\n",
    "# Syntax: \n",
    "\n",
    "# print(value(s), sep= ' ', end = '\\n', file=file, flush=flush)\n",
    "# Parameters: \n",
    "\n",
    "# value(s) : Any value, and as many as you like. Will be converted to a string before printed\n",
    "# sep=’separator’ : (Optional) Specify how to separate the objects, if there is more than one.Default :’ ‘\n",
    "# end=’end’: (Optional) Specify what to print at the end.Default : ‘\\n’\n",
    "# file : (Optional) An object with a write method. Default :sys.stdout\n",
    "# flush : (Optional) A Boolean, specifying if the output is flushed (True) or buffered (False). Default: False"
   ]
  },
  {
   "cell_type": "code",
   "execution_count": 2,
   "id": "5bf40209-cfb2-41ed-899f-287dc3b56669",
   "metadata": {},
   "outputs": [
    {
     "name": "stdout",
     "output_type": "stream",
     "text": [
      "GeeksforGeeks \n",
      " is best for DSA Content.\n"
     ]
    }
   ],
   "source": [
    "print(\"GeeksforGeeks \\n is best for DSA Content.\")"
   ]
  },
  {
   "cell_type": "code",
   "execution_count": 3,
   "id": "b0a08daa-66fd-4de2-af1c-49d9fe1d6448",
   "metadata": {},
   "outputs": [
    {
     "name": "stdout",
     "output_type": "stream",
     "text": [
      "GeeksForGeeks is the best platform for DSA content\n",
      "GeeksForGeeks is the best platform for DSA content**Welcome to GFG\n"
     ]
    }
   ],
   "source": [
    "# This line will automatically add a new line before the\n",
    "# next print statement\n",
    "print (\"GeeksForGeeks is the best platform for DSA content\")\n",
    " \n",
    "# This print() function ends with \"**\" as set in the end argument.\n",
    "print (\"GeeksForGeeks is the best platform for DSA content\", end= \"**\")\n",
    "print(\"Welcome to GFG\")"
   ]
  },
  {
   "cell_type": "code",
   "execution_count": 4,
   "id": "d2921633-88c1-4d23-bb6f-134d877f58bf",
   "metadata": {},
   "outputs": [
    {
     "name": "stdout",
     "output_type": "stream",
     "text": [
      "Geeksforgeeks\n"
     ]
    }
   ],
   "source": [
    "Var = \"Geeksforgeeks\"\n",
    "print(Var)"
   ]
  },
  {
   "cell_type": "code",
   "execution_count": 5,
   "id": "230a54a5-a212-4198-a332-db6bf7e20d9b",
   "metadata": {},
   "outputs": [
    {
     "name": "stdout",
     "output_type": "stream",
     "text": [
      "45\n",
      "1456.8\n",
      "John\n"
     ]
    }
   ],
   "source": [
    "# An integer assignment\n",
    "age = 45\n",
    " \n",
    "# A floating point\n",
    "salary = 1456.8\n",
    " \n",
    "# A string\n",
    "name = \"John\"\n",
    " \n",
    "print(age)\n",
    "print(salary)\n",
    "print(name)"
   ]
  },
  {
   "cell_type": "code",
   "execution_count": 6,
   "id": "72017b1e-bfda-429f-9bd1-e40c8282299f",
   "metadata": {},
   "outputs": [
    {
     "name": "stdout",
     "output_type": "stream",
     "text": [
      "100\n"
     ]
    }
   ],
   "source": [
    "# declaring the var\n",
    "Number = 100\n",
    " \n",
    "# display\n",
    "print( Number)"
   ]
  },
  {
   "cell_type": "code",
   "execution_count": 7,
   "id": "3a1714cb-2f09-4d45-ba95-b5c94b800a64",
   "metadata": {},
   "outputs": [
    {
     "name": "stdout",
     "output_type": "stream",
     "text": [
      "Before declare:  100\n",
      "After re-declare: 120.3\n"
     ]
    }
   ],
   "source": [
    "# declaring the var\n",
    "Number = 100\n",
    " \n",
    "# display\n",
    "print(\"Before declare: \", Number)\n",
    " \n",
    "# re-declare the var\n",
    "Number = 120.3\n",
    "   \n",
    "print(\"After re-declare:\", Number)"
   ]
  },
  {
   "cell_type": "code",
   "execution_count": 8,
   "id": "0024947a-312e-43b1-82aa-a21fa132cabb",
   "metadata": {},
   "outputs": [
    {
     "name": "stdout",
     "output_type": "stream",
     "text": [
      "10\n",
      "10\n",
      "10\n"
     ]
    }
   ],
   "source": [
    "a = b = c = 10\n",
    " \n",
    "print(a)\n",
    "print(b)\n",
    "print(c)"
   ]
  },
  {
   "cell_type": "code",
   "execution_count": 9,
   "id": "da11721a-627b-4e74-903f-15c4f41d2a76",
   "metadata": {},
   "outputs": [
    {
     "name": "stdout",
     "output_type": "stream",
     "text": [
      "1\n",
      "20.2\n",
      "GeeksforGeeks\n"
     ]
    }
   ],
   "source": [
    "a, b, c = 1, 20.2, \"GeeksforGeeks\"\n",
    " \n",
    "print(a)\n",
    "print(b)\n",
    "print(c)"
   ]
  },
  {
   "cell_type": "code",
   "execution_count": 10,
   "id": "c4b2d0e6-0ddc-4c65-8d63-2a935a2fa756",
   "metadata": {},
   "outputs": [
    {
     "name": "stdout",
     "output_type": "stream",
     "text": [
      "GeeksforGeeks\n"
     ]
    }
   ],
   "source": [
    "a = 10\n",
    "a = \"GeeksforGeeks\"\n",
    " \n",
    "print(a)"
   ]
  },
  {
   "cell_type": "code",
   "execution_count": 11,
   "id": "752f5d71-2c1f-4543-b634-7f6fa07cf068",
   "metadata": {},
   "outputs": [
    {
     "name": "stdout",
     "output_type": "stream",
     "text": [
      "30\n",
      "GeeksforGeeks\n"
     ]
    }
   ],
   "source": [
    "a = 10\n",
    "b = 20\n",
    "print(a+b)\n",
    " \n",
    "a = \"Geeksfor\"\n",
    "b = \"Geeks\"\n",
    "print(a+b)"
   ]
  },
  {
   "cell_type": "code",
   "execution_count": 12,
   "id": "9eac651f-b1a4-464f-9522-eaeb4bc07092",
   "metadata": {},
   "outputs": [
    {
     "ename": "TypeError",
     "evalue": "unsupported operand type(s) for +: 'int' and 'str'",
     "output_type": "error",
     "traceback": [
      "\u001b[1;31m---------------------------------------------------------------------------\u001b[0m",
      "\u001b[1;31mTypeError\u001b[0m                                 Traceback (most recent call last)",
      "Cell \u001b[1;32mIn[12], line 3\u001b[0m\n\u001b[0;32m      1\u001b[0m a \u001b[38;5;241m=\u001b[39m \u001b[38;5;241m10\u001b[39m\n\u001b[0;32m      2\u001b[0m b \u001b[38;5;241m=\u001b[39m \u001b[38;5;124m\"\u001b[39m\u001b[38;5;124mGeeks\u001b[39m\u001b[38;5;124m\"\u001b[39m\n\u001b[1;32m----> 3\u001b[0m \u001b[38;5;28mprint\u001b[39m(\u001b[43ma\u001b[49m\u001b[38;5;241;43m+\u001b[39;49m\u001b[43mb\u001b[49m)\n",
      "\u001b[1;31mTypeError\u001b[0m: unsupported operand type(s) for +: 'int' and 'str'"
     ]
    }
   ],
   "source": [
    "a = 10\n",
    "b = \"Geeks\"\n",
    "print(a+b)"
   ]
  },
  {
   "cell_type": "code",
   "execution_count": 13,
   "id": "c5df1977-d9d3-4839-bc59-d83667ae8e63",
   "metadata": {},
   "outputs": [
    {
     "name": "stdout",
     "output_type": "stream",
     "text": [
      "\n"
     ]
    }
   ],
   "source": [
    "# empty print\n",
    "print()"
   ]
  },
  {
   "cell_type": "code",
   "execution_count": null,
   "id": "cbe5b4e8-b432-43f4-a2d3-84fb42f6c5b3",
   "metadata": {},
   "outputs": [],
   "source": [
    "# input ( prompt )\n",
    "# raw_input ( prompt )\n",
    "# input (): This function first takes the input from the user and converts it into a string. The type of the returned object always will be <type ‘str’>. It does not evaluate the expression it just returns the complete statement as String. For example, Python provides a built-in function called input which takes the input from the user. When the input function is called it stops the program and waits for the user’s input. When the user presses enter, the program resumes and returns what the user typed. \n",
    "\n",
    " "
   ]
  },
  {
   "cell_type": "code",
   "execution_count": 15,
   "id": "7128bbdd-70ef-48a6-8678-708ede6a3ce2",
   "metadata": {},
   "outputs": [
    {
     "name": "stdin",
     "output_type": "stream",
     "text": [
      "Enter your value:  123\n"
     ]
    },
    {
     "name": "stdout",
     "output_type": "stream",
     "text": [
      "123\n"
     ]
    }
   ],
   "source": [
    "# Python program showing \n",
    "# a use of input()\n",
    "  \n",
    "val = input(\"Enter your value: \")\n",
    "print(val)"
   ]
  },
  {
   "cell_type": "code",
   "execution_count": 16,
   "id": "f1d614b8-cd43-4c88-9a9e-e9e50aa63b01",
   "metadata": {},
   "outputs": [
    {
     "name": "stdin",
     "output_type": "stream",
     "text": [
      "What is your name?\n",
      " Sanjeev\n"
     ]
    },
    {
     "name": "stdout",
     "output_type": "stream",
     "text": [
      "Sanjeev\n"
     ]
    }
   ],
   "source": [
    "name = input('What is your name?\\n')     # \\n ---> newline  ---> It causes a line break\n",
    "print(name)"
   ]
  },
  {
   "cell_type": "code",
   "execution_count": 17,
   "id": "d44fcb80-5256-480d-8909-296be4a5af5f",
   "metadata": {},
   "outputs": [
    {
     "name": "stdin",
     "output_type": "stream",
     "text": [
      "Enter number : 100\n"
     ]
    },
    {
     "name": "stdout",
     "output_type": "stream",
     "text": [
      "100\n"
     ]
    },
    {
     "name": "stdin",
     "output_type": "stream",
     "text": [
      "Enter name :  Sanjeev\n"
     ]
    },
    {
     "name": "stdout",
     "output_type": "stream",
     "text": [
      "Sanjeev\n",
      "type of number <class 'str'>\n",
      "type of name <class 'str'>\n"
     ]
    }
   ],
   "source": [
    "# Program to check input \n",
    "# type in Python\n",
    "  \n",
    "num = input (\"Enter number :\")\n",
    "print(num)\n",
    "name1 = input(\"Enter name : \")\n",
    "print(name1)\n",
    "  \n",
    "# Printing type of input value\n",
    "print (\"type of number\", type(num))\n",
    "print (\"type of name\", type(name1))"
   ]
  },
  {
   "cell_type": "code",
   "execution_count": 23,
   "id": "85f1c2c2-2207-48a5-85c2-92fa68412d13",
   "metadata": {},
   "outputs": [
    {
     "name": "stdin",
     "output_type": "stream",
     "text": [
      " 0\n"
     ]
    },
    {
     "name": "stdout",
     "output_type": "stream",
     "text": [
      "<class 'str'>\n",
      "<class 'int'>\n"
     ]
    }
   ],
   "source": [
    "# take input from user\n",
    "input_a = input()\n",
    " \n",
    "# print data type\n",
    "print(type(input_a))\n",
    " \n",
    "# type cast into integer\n",
    "input_a = int(input_a)\n",
    " \n",
    "# print data type\n",
    "print(type(input_a))"
   ]
  },
  {
   "cell_type": "code",
   "execution_count": 24,
   "id": "c91594b5-8b59-4c18-8291-fc404f8bc2e0",
   "metadata": {},
   "outputs": [
    {
     "name": "stdin",
     "output_type": "stream",
     "text": [
      " 200\n"
     ]
    },
    {
     "name": "stdout",
     "output_type": "stream",
     "text": [
      "<class 'str'>\n"
     ]
    },
    {
     "name": "stdin",
     "output_type": "stream",
     "text": [
      " 20\n"
     ]
    },
    {
     "name": "stdout",
     "output_type": "stream",
     "text": [
      "<class 'int'>\n"
     ]
    }
   ],
   "source": [
    "# string input\n",
    "input_a = input()\n",
    " \n",
    "# print type\n",
    "print(type(input_a))\n",
    " \n",
    "# integer input\n",
    "input_b = int(input())\n",
    " \n",
    "# print type\n",
    "print(type(input_b))"
   ]
  },
  {
   "cell_type": "code",
   "execution_count": 26,
   "id": "323ccde1-e2a8-4d22-89db-e075be66f27a",
   "metadata": {},
   "outputs": [
    {
     "name": "stdin",
     "output_type": "stream",
     "text": [
      "Enter the size of the list :  3\n",
      "Enter the integer elements of list(space-seperated):  10 20 30 405 60\n"
     ]
    },
    {
     "name": "stdout",
     "output_type": "stream",
     "text": [
      "The list is:  [10, 20, 30]\n"
     ]
    }
   ],
   "source": [
    "# Program to take integer input\n",
    "\n",
    "# input size of the list\n",
    "n = int(input(\"Enter the size of the list : \"))\n",
    "\n",
    "# store integers in a list using map, split and strip functions\n",
    "lst = list(map(int, input(\"Enter the integer elements of list(space-seperated): \").strip().split()))[:n]\n",
    "print(\"The list is: \", lst)"
   ]
  },
  {
   "cell_type": "code",
   "execution_count": null,
   "id": "969a3dca-ec03-4717-8bb9-745f320e4ce4",
   "metadata": {},
   "outputs": [],
   "source": [
    "# Mathmatical operators\n",
    "# Below is the summary of all 7 operators :\n",
    "\n",
    "# Operator\tDescription\tSyntax\n",
    "#  +\t    Addition: adds two operands\tx + y\n",
    "#  –\t    Subtraction: subtracts two operands\tx – y\n",
    "#  *\t    Multiplication: multiplies two operands\tx * y\n",
    "#  /\t    Division (float): divides the first operand by the second\tx / y\n",
    "#  //\t    Division (floor): divides the first operand by the second\tx // y\n",
    "#  %\t    Modulus: returns the remainder when first operand is divided by the second\tx % y\n",
    "#  **\t    Power : Returns first raised to power second\tx ** y\n"
   ]
  },
  {
   "cell_type": "code",
   "execution_count": 27,
   "id": "8d5cb16f-f57a-4abd-93c7-f87fe3a99dee",
   "metadata": {},
   "outputs": [
    {
     "name": "stdout",
     "output_type": "stream",
     "text": [
      "5\n"
     ]
    }
   ],
   "source": [
    "val1 = 2\n",
    "val2 = 3\n",
    "  \n",
    "# using the addition operator\n",
    "res = val1 + val2\n",
    "print(res)"
   ]
  },
  {
   "cell_type": "code",
   "execution_count": 28,
   "id": "aac6ec9a-9806-4acf-b488-95ec859efa34",
   "metadata": {},
   "outputs": [
    {
     "name": "stdout",
     "output_type": "stream",
     "text": [
      "-1\n"
     ]
    }
   ],
   "source": [
    "val1 = 2\n",
    "val2 = 3\n",
    "  \n",
    "# using the subtraction operator\n",
    "res = val1 - val2\n",
    "print(res)"
   ]
  },
  {
   "cell_type": "code",
   "execution_count": 29,
   "id": "4c91ce61-d868-4f27-935e-e1ec479d3ea9",
   "metadata": {},
   "outputs": [
    {
     "name": "stdout",
     "output_type": "stream",
     "text": [
      "6\n"
     ]
    }
   ],
   "source": [
    "val1 = 2\n",
    "val2 = 3\n",
    "  \n",
    "# using the multiplication operator\n",
    "res = val1 * val2\n",
    "print(res)"
   ]
  },
  {
   "cell_type": "code",
   "execution_count": 30,
   "id": "4aeb62b7-9c27-44d8-a705-0fac0393c1ac",
   "metadata": {},
   "outputs": [
    {
     "name": "stdout",
     "output_type": "stream",
     "text": [
      "1.5\n"
     ]
    }
   ],
   "source": [
    "val1 = 3\n",
    "val2 = 2\n",
    "  \n",
    "# using the division operator\n",
    "res = val1 / val2\n",
    "print(res)"
   ]
  },
  {
   "cell_type": "code",
   "execution_count": 33,
   "id": "5dcde392-e6ab-452c-9c8d-2e2aecc792a5",
   "metadata": {},
   "outputs": [
    {
     "name": "stdout",
     "output_type": "stream",
     "text": [
      "1\n"
     ]
    }
   ],
   "source": [
    "val1 = 3\n",
    "val2 = 2\n",
    "\n",
    "# using the modulus operator (dont put divisorzero)\n",
    "res = val1 % val2\n",
    "print(res)"
   ]
  },
  {
   "cell_type": "code",
   "execution_count": 34,
   "id": "f15cc21a-84a7-4aec-8dfd-22ca21a60ae4",
   "metadata": {},
   "outputs": [
    {
     "name": "stdout",
     "output_type": "stream",
     "text": [
      "8\n"
     ]
    }
   ],
   "source": [
    "val1 = 2\n",
    "val2 = 3\n",
    "  \n",
    "# using the exponentiation operator\n",
    "res = val1 ** val2\n",
    "print(res)"
   ]
  },
  {
   "cell_type": "code",
   "execution_count": null,
   "id": "4acd1eb8-defa-40bd-9099-c2dc3c958882",
   "metadata": {},
   "outputs": [],
   "source": [
    "# type() method returns class type of the argument(object) passed as parameter in Python.\n",
    "#\n",
    "# Syntax of type() function\n",
    "# Syntax: type(object, bases, dict)\n",
    "#\n",
    "#\n",
    "# Parameters :\n",
    "#\n",
    "# object: Required. If only one parameter is specified, the type() function returns the type of this object\n",
    "# bases : tuple of classes from which the current class derives. Later corresponds to the __bases__ attribute.\n",
    "# dict : a dictionary that holds the namespaces for the class. Later corresponds to the __dict__ attribute.\n",
    "# Return: returns a new type class or essentially a metaclass. "
   ]
  },
  {
   "cell_type": "code",
   "execution_count": 37,
   "id": "445bb94c-1ce2-45db-81ae-0ca38365c926",
   "metadata": {},
   "outputs": [
    {
     "name": "stdout",
     "output_type": "stream",
     "text": [
      "<class 'tuple'>: \t('Geeks', 'for', 'Geeks')\n",
      "<class 'list'>: \t['Geeks', 'for', 'Geeks']\n",
      "<class 'dict'>: \t{'Geeks': 3, 'for': 2}\n",
      "<class 'str'>:  \tHello World\n",
      "<class 'float'>: \t10.23\n",
      "<class 'float'>: \t11.22\n"
     ]
    }
   ],
   "source": [
    "a = (\"Geeks\", \"for\", \"Geeks\")\n",
    "b = [\"Geeks\", \"for\", \"Geeks\"]\n",
    "c = {\"Geeks\": 1, \"for\":2, \"Geeks\":3}\n",
    "d = \"Hello World\"\n",
    "e = 10.23\n",
    "f = 11.22\n",
    " \n",
    "print(\"{}: \\t{}\".format(type(a),a))\n",
    "print(\"{}: \\t{}\".format(type(b),b))\n",
    "print(\"{}: \\t{}\".format(type(c),c))\n",
    "print(\"{}:  \\t{}\".format(type(d),d))\n",
    "print(\"{}: \\t{}\".format(type(e),e))\n",
    "print(\"{}: \\t{}\".format(type(f),f))\n"
   ]
  },
  {
   "cell_type": "code",
   "execution_count": null,
   "id": "3de4745e-aca9-4943-9f58-4dc110fc937d",
   "metadata": {},
   "outputs": [],
   "source": [
    "# The type() function is mostly used for debugging purposes. Two different types of arguments can be passed to type() function, single and three arguments. If a single argument type(obj) is passed, it returns the type of the given object. If three arguments type(object, bases, dict) is passed, it returns a new type object.\n",
    "#\n",
    "# Applications:\n",
    "# type() function is basically used for debugging purposes. When using other string functions like .upper(), .lower(), .split() with text extracted from a web crawler, it might not work because they might be of different type which doesn’t support string functions. And as a result, it will keep throwing errors, which are very difficult to debug [Consider the error as GeneratorType has no attribute lower() ].\n",
    "# type() function can be used at that point to determine the type of text extracted and then change it to other forms of string before we use string functions or any other operations on it.\n",
    "# type() with three arguments can be used to dynamically initialize classes or existing classes with attributes. It is also used to register database tables with SQL.                                                                          ~                                                                  "
   ]
  },
  {
   "cell_type": "code",
   "execution_count": 42,
   "id": "6163418d-1733-4de3-9d80-bbdd0c1b3116",
   "metadata": {},
   "outputs": [
    {
     "name": "stdout",
     "output_type": "stream",
     "text": [
      "[] is list True\n",
      "[] is not list False\n",
      "() is tuple True\n",
      "{} is dict True \n",
      "{} is not list True\n"
     ]
    }
   ],
   "source": [
    "# Example 2: Check object parameter\n",
    "# In this example, we are testing the object using conditions, and printing the boolean.\n",
    "\n",
    "print(\"{} is list {}\" .format(\"[]\",type([]) is list)) \n",
    "print(\"{} is not list {}\".format(\"[]\",type([]) is not list)) \n",
    "print(\"{} is tuple {}\".format(\"()\",type(()) is tuple)) \n",
    "print(\"{} is dict {} \".format(\"{}\",type({}) is dict)) \n",
    "print(\"{} is not list {}\" .format(\"{}\",type({}) is not list)) \n"
   ]
  },
  {
   "cell_type": "code",
   "execution_count": 43,
   "id": "6b5ede74-62cf-4d90-b5c3-bccd799bf004",
   "metadata": {},
   "outputs": [
    {
     "name": "stdout",
     "output_type": "stream",
     "text": [
      "x is of type: <class 'int'>\n",
      "y is of type: <class 'float'>\n",
      "20.6\n",
      "z is of type: <class 'float'>\n"
     ]
    }
   ],
   "source": [
    "# Implicit Type Conversion\n",
    "x = 10\n",
    "  \n",
    "print(\"x is of type:\",type(x))\n",
    "  \n",
    "y = 10.6\n",
    "print(\"y is of type:\",type(y))\n",
    "  \n",
    "z = x + y\n",
    "  \n",
    "print(z)\n",
    "print(\"z is of type:\",type(z))"
   ]
  },
  {
   "cell_type": "code",
   "execution_count": 45,
   "id": "53a654e8-be59-45f9-9b65-26f495a30829",
   "metadata": {},
   "outputs": [
    {
     "name": "stdout",
     "output_type": "stream",
     "text": [
      "10010 After converting to integer base 2 : 18\n",
      "10010 After converting to float : 10010.0\n"
     ]
    }
   ],
   "source": [
    "# Explicit Type Conversion\n",
    "# Python code to demonstrate Type conversion\n",
    "# using int(), float()\n",
    "  \n",
    "# initializing string\n",
    "s = \"10010\"\n",
    "  \n",
    "# printing string converting to int base 2\n",
    "c = int(s,2)\n",
    "print (s+ \" After converting to integer base 2 : \", end=\"\")\n",
    "print (c)\n",
    "  \n",
    "# printing string converting to float\n",
    "e = float(s)\n",
    "print (s+\" After converting to float : \", end=\"\")\n",
    "print (e)"
   ]
  },
  {
   "cell_type": "code",
   "execution_count": 48,
   "id": "d224fac1-51c7-4d59-b9bb-83d66229a7a2",
   "metadata": {},
   "outputs": [
    {
     "name": "stdout",
     "output_type": "stream",
     "text": [
      "4 After converting character to integer : 52\n",
      " After converting 56 to hexadecimal string : 0x38\n",
      "After converting 56 to octal string : 0o70\n"
     ]
    }
   ],
   "source": [
    "# 3. ord(): This function is used to convert a character to integer.\n",
    "# 4. hex(): This function is to convert integer to hexadecimal string.\n",
    "# 5. oct(): This function is to convert integer to octal string\n",
    "\n",
    "# Python code to demonstrate Type conversion\n",
    "# using  ord(), hex(), oct()\n",
    "  \n",
    "# initializing integer\n",
    "s = '4'\n",
    "  \n",
    "# printing character converting to integer\n",
    "c = ord(s)\n",
    "print (s+\" After converting character to integer : \",end=\"\")\n",
    "print (c)\n",
    "  \n",
    "# printing integer converting to hexadecimal string\n",
    "c = hex(56)\n",
    "print (\" After converting 56 to hexadecimal string : \",end=\"\")\n",
    "print (c)\n",
    "  \n",
    "# printing integer converting to octal string\n",
    "c = oct(56)\n",
    "print (\"After converting 56 to octal string : \",end=\"\")\n",
    "print (c)\n"
   ]
  },
  {
   "cell_type": "code",
   "execution_count": 50,
   "id": "a857c097-5d4f-49a1-b23d-549bdfce066e",
   "metadata": {},
   "outputs": [
    {
     "name": "stdout",
     "output_type": "stream",
     "text": [
      "geeks After converting string to tuple : ('g', 'e', 'e', 'k', 's')\n",
      "geeks After converting string to set : {'k', 'e', 'g', 's'}\n",
      "geeks After converting string to list : ['g', 'e', 'e', 'k', 's']\n"
     ]
    }
   ],
   "source": [
    "# 6. tuple() : This function is used to convert to a tuple.\n",
    "# 7. set() : This function returns the type after converting to set.\n",
    "# 8. list() : This function is used to convert any data type to a list type.\n",
    "\n",
    "# Python code to demonstrate Type conversion\n",
    "# using  tuple(), set(), list()\n",
    "  \n",
    "# initializing string\n",
    "s = 'geeks'\n",
    "  \n",
    "# printing string converting to tuple\n",
    "c = tuple(s)\n",
    "print (s+\" After converting string to tuple : \",end=\"\")\n",
    "print (c)\n",
    "  \n",
    "# printing string converting to set\n",
    "c = set(s)\n",
    "print (s+\" After converting string to set : \",end=\"\")\n",
    "print (c)\n",
    "  \n",
    "# printing string converting to list\n",
    "c = list(s)\n",
    "print (s+\" After converting string to list : \",end=\"\")\n",
    "print (c) "
   ]
  },
  {
   "cell_type": "code",
   "execution_count": 51,
   "id": "94b10947-87fb-449c-a7e3-80075727de23",
   "metadata": {},
   "outputs": [
    {
     "name": "stdout",
     "output_type": "stream",
     "text": [
      "After converting integer to complex number : (1+2j)\n",
      "After converting integer to string : 1\n",
      "After converting tuple to dictionary : {'a': 1, 'f': 2, 'g': 3}\n"
     ]
    }
   ],
   "source": [
    "# 9. dict() : This function is used to convert a tuple of order (key,value) into a dictionary.\n",
    "# 10. str() : Used to convert integer into a string.\n",
    "# 11. complex(real,imag) : This function converts real numbers to complex(real,imag) number.\n",
    "\n",
    "# Python code to demonstrate Type conversion\n",
    "# using  dict(), complex(), str()\n",
    "  \n",
    "# initializing integers\n",
    "a = 1\n",
    "b = 2\n",
    "  \n",
    "# initializing tuple\n",
    "tup = (('a', 1) ,('f', 2), ('g', 3))\n",
    "  \n",
    "# printing integer converting to complex number\n",
    "c = complex(1,2)\n",
    "print (\"After converting integer to complex number : \",end=\"\")\n",
    "print (c)\n",
    "  \n",
    "# printing integer converting to string\n",
    "c = str(a)\n",
    "print (\"After converting integer to string : \",end=\"\")\n",
    "print (c)\n",
    "  \n",
    "# printing tuple converting to expression dictionary\n",
    "c = dict(tup)\n",
    "print (\"After converting tuple to dictionary : \",end=\"\")\n",
    "print (c)\n"
   ]
  },
  {
   "cell_type": "code",
   "execution_count": 52,
   "id": "14d8eef1-e6f1-43c6-be9b-bd183692a8cf",
   "metadata": {},
   "outputs": [
    {
     "name": "stdout",
     "output_type": "stream",
     "text": [
      "L\n",
      "M\n"
     ]
    }
   ],
   "source": [
    "# Convert ASCII value to characters\n",
    "a = chr(76)\n",
    "b = chr(77)\n",
    "  \n",
    "print(a)\n",
    "print(b)"
   ]
  },
  {
   "cell_type": "code",
   "execution_count": 53,
   "id": "03c08cb6-30a2-412b-a873-27ce8a816c9a",
   "metadata": {},
   "outputs": [
    {
     "name": "stdout",
     "output_type": "stream",
     "text": [
      "geeksforgeeks\n"
     ]
    }
   ],
   "source": [
    "# Python program to demonstrate comments\n",
    " \n",
    "# sample comment\n",
    "name = \"geeksforgeeks\"\n",
    "print(name)"
   ]
  },
  {
   "cell_type": "code",
   "execution_count": 54,
   "id": "8dc4374f-818a-4962-ac38-9e2239b41357",
   "metadata": {},
   "outputs": [
    {
     "name": "stdout",
     "output_type": "stream",
     "text": [
      "Multiline comments\n"
     ]
    }
   ],
   "source": [
    "# Python program to demonstrate\n",
    "# multiline comments\n",
    "print(\"Multiline comments\")"
   ]
  },
  {
   "cell_type": "code",
   "execution_count": null,
   "id": "d03a389b-f7c6-4516-9a75-7b010f2ab533",
   "metadata": {},
   "outputs": [],
   "source": [
    "# Python Docstring\n",
    "# Python docstring is the string literals with triple quotes that are appeared right after the function. It is used to associate documentation that has been written with Python modules, functions, classes, and methods. It is added right below the functions, modules, or classes to describe what they do. In Python, the docstring is then made available via the __doc__ attribute."
   ]
  },
  {
   "cell_type": "code",
   "execution_count": 55,
   "id": "47bd9a79-7293-4326-bd2c-49b0c24cf074",
   "metadata": {},
   "outputs": [
    {
     "name": "stdout",
     "output_type": "stream",
     "text": [
      "Multiplies the value of a and b\n",
      "Multiplies the value of a and b\n"
     ]
    }
   ],
   "source": [
    "def multiply(a, b):\n",
    "    \"\"\"Multiplies the value of a and b\"\"\"\n",
    "    return a*b\n",
    " \n",
    "# Print the docstring of multiply function\n",
    "print(multiply.__doc__)\n",
    "def multiply(a, b):\n",
    "    \"\"\"Multiplies the value of a and b\"\"\"\n",
    "    return a*b\n",
    " \n",
    "# Print the docstring of multiply function\n",
    "print(multiply.__doc__)"
   ]
  },
  {
   "cell_type": "code",
   "execution_count": 56,
   "id": "1f6919da-2314-435f-a0da-0ac24d6c9f4d",
   "metadata": {},
   "outputs": [
    {
     "name": "stdout",
     "output_type": "stream",
     "text": [
      "10 greater than 5\n",
      "Program ended\n"
     ]
    }
   ],
   "source": [
    "# if statement example\n",
    "if 10 > 5:\n",
    "   print(\"10 greater than 5\")\n",
    " \n",
    "print(\"Program ended\")"
   ]
  },
  {
   "cell_type": "code",
   "execution_count": 57,
   "id": "0697fb9a-9eef-48de-9502-1b62e278be86",
   "metadata": {},
   "outputs": [
    {
     "name": "stdout",
     "output_type": "stream",
     "text": [
      "No\n"
     ]
    }
   ],
   "source": [
    "# if..else statement example\n",
    "x = 3\n",
    "if x == 4:\n",
    "   print(\"Yes\")\n",
    "else:\n",
    "   print(\"No\")"
   ]
  },
  {
   "cell_type": "code",
   "execution_count": 58,
   "id": "199e3e79-f0e0-4499-a49b-969576ffe4dd",
   "metadata": {},
   "outputs": [
    {
     "name": "stdout",
     "output_type": "stream",
     "text": [
      "letter is A\n"
     ]
    }
   ],
   "source": [
    "# if..else chain statement\n",
    "letter = \"A\"\n",
    " \n",
    "if letter == \"B\":\n",
    "  print(\"letter is B\")\n",
    "   \n",
    "else:\n",
    "     \n",
    "  if letter == \"C\":\n",
    "    print(\"letter is C\")\n",
    "     \n",
    "  else:\n",
    "       \n",
    "    if letter == \"A\":\n",
    "      print(\"letter is A\")\n",
    "       \n",
    "    else:\n",
    "      print(\"letter isn't A, B and C\")"
   ]
  },
  {
   "cell_type": "code",
   "execution_count": 59,
   "id": "467c5ae8-08fa-4918-9db8-002e66fe6f5c",
   "metadata": {},
   "outputs": [
    {
     "name": "stdout",
     "output_type": "stream",
     "text": [
      "Bigger than 5\n",
      "Between 5 and 15\n"
     ]
    }
   ],
   "source": [
    "# Nested if statement example\n",
    "num = 10\n",
    " \n",
    "if num > 5:\n",
    "   print(\"Bigger than 5\")\n",
    " \n",
    "   if num <= 15:\n",
    "      print(\"Between 5 and 15\")"
   ]
  },
  {
   "cell_type": "code",
   "execution_count": 60,
   "id": "dafd8425-5da1-4508-9ecb-60d2b86cb4dd",
   "metadata": {},
   "outputs": [
    {
     "name": "stdout",
     "output_type": "stream",
     "text": [
      "letter is A\n"
     ]
    }
   ],
   "source": [
    "# if-elif statement example\n",
    " \n",
    "letter = \"A\"\n",
    " \n",
    "if letter == \"B\":\n",
    "   print(\"letter is B\")\n",
    " \n",
    "elif letter == \"C\":\n",
    "   print(\"letter is C\")\n",
    " \n",
    "elif letter == \"A\":\n",
    "   print(\"letter is A\")\n",
    " \n",
    "else:\n",
    "   print(\"letter isn't A, B or C\")"
   ]
  },
  {
   "cell_type": "code",
   "execution_count": 61,
   "id": "a89601dd-e1e1-4197-bcd9-edd7e3e754b9",
   "metadata": {},
   "outputs": [
    {
     "name": "stdout",
     "output_type": "stream",
     "text": [
      "G\n"
     ]
    }
   ],
   "source": [
    "String1=\"GeeksForGeeks\"\n",
    "print(String1[0])"
   ]
  },
  {
   "cell_type": "code",
   "execution_count": 64,
   "id": "711d614b-b497-4d1b-8e80-2ffcc14707f7",
   "metadata": {},
   "outputs": [
    {
     "name": "stdout",
     "output_type": "stream",
     "text": [
      "<class 'NoneType'>\n"
     ]
    }
   ],
   "source": [
    "def f(): pass\n",
    "\n",
    "print(type(f()))"
   ]
  },
  {
   "cell_type": "code",
   "execution_count": 65,
   "id": "e9312d12-d2fa-4726-85bb-61b30817a63f",
   "metadata": {},
   "outputs": [
    {
     "name": "stdout",
     "output_type": "stream",
     "text": [
      "0.5\n"
     ]
    }
   ],
   "source": [
    "print(1//2+1.0/2)"
   ]
  },
  {
   "cell_type": "code",
   "execution_count": 67,
   "id": "a378ace2-f0bf-4d07-832d-aa6e2ddc3603",
   "metadata": {},
   "outputs": [
    {
     "name": "stdout",
     "output_type": "stream",
     "text": [
      "S1 -> <class 'set'>\n",
      "S2 -> <class 'tuple'>\n",
      "S3 -> <class 'list'>\n"
     ]
    }
   ],
   "source": [
    "S1=set()\n",
    "S2=()\n",
    "S3=[]\n",
    "\n",
    "print(\"{} -> {}\\n{} -> {}\\n{} -> {}\".format(\"S1\", type(S1), \"S2\", type(S2), \"S3\",type(S3)))"
   ]
  },
  {
   "cell_type": "code",
   "execution_count": null,
   "id": "4ebef6b2-edbf-48c8-807d-c50bb42502d7",
   "metadata": {},
   "outputs": [],
   "source": [
    "# Python While Loop is used to execute a block of statements repeatedly until a given condition is satisfied. And when the condition becomes false, the line immediately after the loop in the program is executed.\n",
    "\n",
    "# Syntax: \n",
    "\n",
    "# while expression:\n",
    "#    statement(s)\n"
   ]
  },
  {
   "cell_type": "code",
   "execution_count": 1,
   "id": "ef6cb201-7060-492a-9e7e-3cd6387548a4",
   "metadata": {},
   "outputs": [
    {
     "name": "stdout",
     "output_type": "stream",
     "text": [
      "Hello Geek\n",
      "Hello Geek\n",
      "Hello Geek\n"
     ]
    }
   ],
   "source": [
    "count = 0\n",
    "while (count<3):\n",
    "    count = count  + 1\n",
    "    print(\"Hello Geek\")"
   ]
  },
  {
   "cell_type": "code",
   "execution_count": 2,
   "id": "5d93f4bc-8d5f-47d6-be45-561f332e70b7",
   "metadata": {},
   "outputs": [
    {
     "name": "stdout",
     "output_type": "stream",
     "text": [
      "4\n",
      "3\n",
      "2\n",
      "1\n"
     ]
    }
   ],
   "source": [
    "a = [ 1, 2, 3, 4]\n",
    "while a:\n",
    "    print(a.pop())"
   ]
  },
  {
   "cell_type": "code",
   "execution_count": 3,
   "id": "b6b812c1-047c-46cc-bc14-c26b56af76f2",
   "metadata": {},
   "outputs": [
    {
     "name": "stdout",
     "output_type": "stream",
     "text": [
      "Hello Geek\n",
      "Hello Geek\n",
      "Hello Geek\n",
      "Hello Geek\n",
      "Hello Geek\n"
     ]
    }
   ],
   "source": [
    "count=0\n",
    "while (count<5): count += 1; print(\"Hello Geek\")"
   ]
  },
  {
   "cell_type": "code",
   "execution_count": null,
   "id": "0ceefccc-b2c9-4e54-8fa4-dbb03dc712b6",
   "metadata": {},
   "outputs": [],
   "source": [
    "The Python range() function returns a sequence of numbers, in a given range. The most common use of it is to iterate sequences on a sequence of numbers using Python loops.\n",
    "\n",
    "Syntax: \n",
    "\n",
    "Syntax: range(start, stop, step)\n",
    "\n",
    "Parameter:\n",
    "\n",
    "start: [ optional ] start value of the sequence\n",
    "stop: next value after the end value of the sequence\n",
    "step: [ optional ] integer value, denoting the difference between any two numbers in the sequence.\n",
    "Return: Returns a range type object."
   ]
  },
  {
   "cell_type": "code",
   "execution_count": 4,
   "id": "295083d8-fae1-4fbf-8eeb-a3780c5e0cab",
   "metadata": {},
   "outputs": [
    {
     "name": "stdout",
     "output_type": "stream",
     "text": [
      "0 1 2 3 4 \n"
     ]
    }
   ],
   "source": [
    "# print first 5 integers\n",
    "for i in range(5):\n",
    "    print(i, end=\" \")\n",
    "print()\n"
   ]
  },
  {
   "cell_type": "code",
   "execution_count": 5,
   "id": "df7bc198-de92-4403-a404-82d5e03334d2",
   "metadata": {},
   "outputs": [
    {
     "name": "stdout",
     "output_type": "stream",
     "text": [
      "5 6 7 8 9 10 11 12 13 14 15 16 17 18 19 "
     ]
    }
   ],
   "source": [
    "# printing a natural number from 5 to 20\n",
    "\n",
    "for i in range(5, 20):\n",
    "    print(i, end=\" \")\n",
    "    \n",
    "    "
   ]
  },
  {
   "cell_type": "code",
   "execution_count": 7,
   "id": "9b66e040-48c7-402b-8628-6761ee9a451e",
   "metadata": {},
   "outputs": [
    {
     "name": "stdout",
     "output_type": "stream",
     "text": [
      "0 2 4 6 8 \n"
     ]
    }
   ],
   "source": [
    "# print using range step 2\n",
    "\n",
    "for _ in range(0, 10, 2):\n",
    "    print(_, end=\" \")\n",
    "print()\n"
   ]
  },
  {
   "cell_type": "code",
   "execution_count": 8,
   "id": "5ef20ac0-41f6-4a72-bb6c-b3fe7dd14c27",
   "metadata": {},
   "outputs": [
    {
     "name": "stdout",
     "output_type": "stream",
     "text": [
      "geeks\n",
      "for\n",
      "geeks\n"
     ]
    }
   ],
   "source": [
    "# python for loop iterating list\n",
    "\n",
    "l = [\"geeks\", \"for\", \"geeks\"]\n",
    "for i in l:\n",
    "    print(i)"
   ]
  },
  {
   "cell_type": "code",
   "execution_count": 10,
   "id": "358426ce-b34a-4ac8-a37f-9b06e623edda",
   "metadata": {},
   "outputs": [
    {
     "name": "stdout",
     "output_type": "stream",
     "text": [
      "xyz \t 123\n",
      "abc \t 345\n"
     ]
    }
   ],
   "source": [
    "# iterating ovr dictionary\n",
    "d=dict()\n",
    "d['xyz']=123\n",
    "d['abc']=345\n",
    "for i in d:\n",
    "    print(\"{} \\t {}\".format(i,d[i]))\n"
   ]
  },
  {
   "cell_type": "code",
   "execution_count": 11,
   "id": "74a33e55-c20f-4002-9fb1-b8e3a480e39a",
   "metadata": {},
   "outputs": [
    {
     "name": "stdout",
     "output_type": "stream",
     "text": [
      "G\n",
      "e\n",
      "e\n",
      "l\n",
      "s\n"
     ]
    }
   ],
   "source": [
    "s=\"Geels\"\n",
    "for i in s:\n",
    "    print (i)"
   ]
  },
  {
   "cell_type": "code",
   "execution_count": 1,
   "id": "258507b5-5977-43d2-b385-df3f594674c1",
   "metadata": {},
   "outputs": [
    {
     "name": "stdout",
     "output_type": "stream",
     "text": [
      "0\n",
      "1\n",
      "2\n"
     ]
    }
   ],
   "source": [
    "for i in range(10):\n",
    "    print(i)\n",
    "    if i==2:\n",
    "        break"
   ]
  },
  {
   "cell_type": "code",
   "execution_count": 5,
   "id": "a82171f7-53af-400b-8e79-4e408908538f",
   "metadata": {},
   "outputs": [
    {
     "name": "stdout",
     "output_type": "stream",
     "text": [
      "g\n",
      "e\n",
      "Out of loop\n",
      "g\n",
      "e\n",
      "Out of loop\n"
     ]
    }
   ],
   "source": [
    "# python to demo break\n",
    "s=\"geeksforgeeks\"\n",
    "\n",
    "for letter in s:\n",
    "    print(letter)\n",
    "    if letter=='e' or letter=='s':\n",
    "        break\n",
    "\n",
    "print(\"Out of loop\")\n",
    "\n",
    "i=0 \n",
    "while True:\n",
    "    print(s[i])\n",
    "    if s[i]=='e' or s[i]=='s':\n",
    "        break\n",
    "    i += 1\n",
    "    \n",
    "print(\"Out of loop\")\n",
    "    \n",
    "    "
   ]
  },
  {
   "cell_type": "code",
   "execution_count": 8,
   "id": "29b9d788-f08f-421b-9231-b2a256da0b19",
   "metadata": {},
   "outputs": [
    {
     "name": "stdout",
     "output_type": "stream",
     "text": [
      "The num has value:  1\n",
      "The num has value:  2\n",
      "The num has value:  3\n",
      "The num has value:  4\n",
      "Out of loop\n"
     ]
    }
   ],
   "source": [
    "num = 0\n",
    "for i in range(10):\n",
    "    num += 1\n",
    "    if num == 5:\n",
    "        break\n",
    "    print(\"The num has value: \", num)\n",
    "print(\"Out of loop\")"
   ]
  },
  {
   "cell_type": "code",
   "execution_count": 9,
   "id": "48e711a0-50c2-4a27-a9f7-765948306ecf",
   "metadata": {},
   "outputs": [
    {
     "name": "stdout",
     "output_type": "stream",
     "text": [
      "G\n",
      "s\n",
      "f\n",
      "o\n",
      "r\n",
      "f\n",
      "k\n",
      "s\n"
     ]
    }
   ],
   "source": [
    "for var in \"Geesforfeeks\":\n",
    "    if var == \"e\":\n",
    "        continue\n",
    "    print(var)"
   ]
  },
  {
   "cell_type": "code",
   "execution_count": 11,
   "id": "0814b741-b439-4b4d-af6b-d1ac29463af6",
   "metadata": {},
   "outputs": [
    {
     "name": "stdout",
     "output_type": "stream",
     "text": [
      "1 2 3 4 5 7 8 9 10 "
     ]
    }
   ],
   "source": [
    "for i in range(1,11):\n",
    "    if i == 6:\n",
    "        continue\n",
    "    else:\n",
    "        print(i,end=\" \")"
   ]
  },
  {
   "cell_type": "code",
   "execution_count": 12,
   "id": "daf817c4-e5e6-4e6f-8972-3eaf99a12e5f",
   "metadata": {},
   "outputs": [
    {
     "name": "stdout",
     "output_type": "stream",
     "text": [
      "1 4\n",
      "1 5\n",
      "2 4\n",
      "2 5\n"
     ]
    }
   ],
   "source": [
    "x = [1,2]\n",
    "y = [4,5]\n",
    "for i in x:\n",
    "    for j in y:\n",
    "        print(i,j)"
   ]
  },
  {
   "cell_type": "code",
   "execution_count": 13,
   "id": "3fe49613-042d-41c5-93fa-1abb9b8ffb2b",
   "metadata": {},
   "outputs": [
    {
     "name": "stdout",
     "output_type": "stream",
     "text": [
      "2 * 1 = 2\n",
      "2 * 2 = 4\n",
      "2 * 3 = 6\n",
      "2 * 4 = 8\n",
      "2 * 5 = 10\n",
      "2 * 6 = 12\n",
      "2 * 7 = 14\n",
      "2 * 8 = 16\n",
      "2 * 9 = 18\n",
      "2 * 10 = 20\n",
      "\n",
      "3 * 1 = 3\n",
      "3 * 2 = 6\n",
      "3 * 3 = 9\n",
      "3 * 4 = 12\n",
      "3 * 5 = 15\n",
      "3 * 6 = 18\n",
      "3 * 7 = 21\n",
      "3 * 8 = 24\n",
      "3 * 9 = 27\n",
      "3 * 10 = 30\n",
      "\n"
     ]
    }
   ],
   "source": [
    "for i in range(2,4):\n",
    "    for j in range(1,11):\n",
    "        print(i,\"*\",j,\"=\",i*j)\n",
    "    print()"
   ]
  },
  {
   "cell_type": "code",
   "execution_count": 14,
   "id": "6b82e117-0fba-4759-b92f-9047b14ba0b1",
   "metadata": {},
   "outputs": [
    {
     "name": "stdout",
     "output_type": "stream",
     "text": [
      "start outer for loop\n",
      "I am healthy\n",
      "I am fine\n",
      "I am geek\n",
      "and for loop\n",
      "start outer for loop\n",
      "You are  healthy\n",
      "You are  fine\n",
      "You are  geek\n",
      "and for loop\n"
     ]
    }
   ],
   "source": [
    "list1=['I am','You are ']\n",
    "list2=['healthy','fine','geek']\n",
    "\n",
    "list2_size=len(list2)\n",
    "\n",
    "for item in list1:\n",
    "    print(\"start outer for loop\")\n",
    "    i=0\n",
    "    while (i<list2_size):\n",
    "        print(item,list2[i])\n",
    "        i=i+1\n",
    "    print(\"and for loop\")\n",
    "    "
   ]
  },
  {
   "cell_type": "code",
   "execution_count": 20,
   "id": "79f28f5b-9db0-4aa2-842e-e9ba70aa5d3a",
   "metadata": {},
   "outputs": [
    {
     "name": "stdout",
     "output_type": "stream",
     "text": [
      "0 -> False\n",
      "1 -> False\n",
      "2 -> True\n",
      "3 -> True\n",
      "4 -> False\n",
      "5 -> True\n",
      "6 -> False\n",
      "7 -> True\n",
      "8 -> False\n",
      "9 -> False\n",
      "10 -> False\n",
      "11 -> True\n",
      "12 -> False\n",
      "13 -> True\n",
      "14 -> False\n",
      "15 -> False\n",
      "16 -> False\n",
      "17 -> True\n",
      "18 -> False\n",
      "19 -> True\n",
      "20 -> False\n",
      "21 -> False\n",
      "22 -> False\n",
      "23 -> True\n",
      "24 -> False\n",
      "25 -> False\n",
      "26 -> False\n",
      "27 -> False\n",
      "28 -> False\n",
      "29 -> True\n",
      "30 -> False\n",
      "31 -> True\n",
      "32 -> False\n",
      "33 -> False\n",
      "34 -> False\n",
      "35 -> False\n",
      "36 -> False\n",
      "37 -> True\n",
      "38 -> False\n",
      "39 -> False\n",
      "40 -> False\n",
      "41 -> True\n",
      "42 -> False\n",
      "43 -> True\n",
      "44 -> False\n",
      "45 -> False\n",
      "46 -> False\n",
      "47 -> True\n",
      "48 -> False\n",
      "49 -> False\n",
      "50 -> False\n",
      "51 -> False\n",
      "52 -> False\n",
      "53 -> True\n",
      "54 -> False\n",
      "55 -> False\n",
      "56 -> False\n",
      "57 -> False\n",
      "58 -> False\n",
      "59 -> True\n",
      "60 -> False\n",
      "61 -> True\n",
      "62 -> False\n",
      "63 -> False\n",
      "64 -> False\n",
      "65 -> False\n",
      "66 -> False\n",
      "67 -> True\n",
      "68 -> False\n",
      "69 -> False\n",
      "70 -> False\n",
      "71 -> True\n",
      "72 -> False\n",
      "73 -> True\n",
      "74 -> False\n",
      "75 -> False\n",
      "76 -> False\n",
      "77 -> False\n",
      "78 -> False\n",
      "79 -> True\n",
      "80 -> False\n",
      "81 -> False\n",
      "82 -> False\n",
      "83 -> True\n",
      "84 -> False\n",
      "85 -> False\n",
      "86 -> False\n",
      "87 -> False\n",
      "88 -> False\n",
      "89 -> True\n",
      "90 -> False\n",
      "91 -> False\n",
      "92 -> False\n",
      "93 -> False\n",
      "94 -> False\n",
      "95 -> False\n",
      "96 -> False\n",
      "97 -> True\n",
      "98 -> False\n",
      "99 -> False\n"
     ]
    }
   ],
   "source": [
    "def prime(n):\n",
    "    p=True\n",
    "    \n",
    "    if n==2 or n==3:\n",
    "        return True\n",
    "\n",
    "    elif n%2==0 or n<2:\n",
    "        return(False)\n",
    "        \n",
    "    for i in range(3,n,2):\n",
    "        if n%i==0:\n",
    "            p=False\n",
    "            break\n",
    "    return(p)\n",
    "\n",
    "\n",
    "for i in range(0,100):\n",
    "    print(\"{} -> {}\".format(i, prime(i)))"
   ]
  },
  {
   "cell_type": "code",
   "execution_count": 46,
   "id": "b6405d58-6316-4934-8364-a9779ecdb0ea",
   "metadata": {},
   "outputs": [
    {
     "name": "stdout",
     "output_type": "stream",
     "text": [
      "N3:0\n",
      "M:1\n",
      "N:1\n",
      "M:2\n",
      "N:2\n",
      "{} - > {} 0 2\n",
      "N3:1\n",
      "M:2\n",
      "N:2\n",
      "{} - > {} 1 2\n",
      "N3:2\n",
      "M:3\n",
      "N:3\n",
      "{} - > {} 2 3\n",
      "N3:3\n",
      "M:4\n",
      "N:4\n",
      "M:5\n",
      "N:5\n",
      "{} - > {} 3 5\n",
      "N3:4\n",
      "M:5\n",
      "N:5\n",
      "{} - > {} 4 5\n",
      "N3:5\n",
      "M:6\n",
      "N:6\n",
      "M:7\n",
      "N:7\n",
      "{} - > {} 5 7\n",
      "N3:6\n",
      "M:7\n",
      "N:7\n",
      "{} - > {} 6 7\n",
      "N3:7\n",
      "M:8\n",
      "N:8\n",
      "M:9\n",
      "N:9\n",
      "M:10\n",
      "N:10\n",
      "M:11\n",
      "N:11\n",
      "{} - > {} 7 11\n",
      "N3:8\n",
      "M:9\n",
      "N:9\n",
      "M:10\n",
      "N:10\n",
      "M:11\n",
      "N:11\n",
      "{} - > {} 8 11\n",
      "N3:9\n",
      "M:10\n",
      "N:10\n",
      "M:11\n",
      "N:11\n",
      "{} - > {} 9 11\n"
     ]
    }
   ],
   "source": [
    "def prime(m):\n",
    "    print(\"N:{}\".format(m))\n",
    "    if m==2:\n",
    "        return True\n",
    "    if m<2 or m%2==0:\n",
    "        return False\n",
    "    for i in range(3,m,2):\n",
    "        if m%i==0:\n",
    "            return False\n",
    "    return True\n",
    "\n",
    "\n",
    "def nextPrime(n):\n",
    "    print(\"N3:{}\".format(n))\n",
    "    k=n+1\n",
    "    k2=5 if k<2 else k*k \n",
    "    for i in range(k,k2):\n",
    "        print(\"M:{}\".format(i))\n",
    "        if prime(i):\n",
    "            return (i)\n",
    "\n",
    "for j in range(0,10):\n",
    "    print(\"{} - > {}\", j, nextPrime(j))\n",
    "    \n",
    "        "
   ]
  },
  {
   "cell_type": "code",
   "execution_count": 37,
   "id": "564f17d5-0739-40b2-8556-376496760a4a",
   "metadata": {},
   "outputs": [
    {
     "name": "stdout",
     "output_type": "stream",
     "text": [
      "1\n",
      "2\n",
      "3\n",
      "4\n",
      "5\n",
      "6\n",
      "7\n",
      "8\n",
      "9\n"
     ]
    }
   ],
   "source": [
    "n=0\n",
    "for i in range(n+1,10):\n",
    "    print(i)"
   ]
  },
  {
   "cell_type": "code",
   "execution_count": 48,
   "id": "c4d27c87-7702-4bc7-a835-21ef07b20a83",
   "metadata": {},
   "outputs": [
    {
     "name": "stdout",
     "output_type": "stream",
     "text": [
      "0 -> False\n",
      "1 -> False\n",
      "2 -> True\n",
      "3 -> True\n",
      "4 -> False\n",
      "5 -> True\n",
      "6 -> False\n",
      "7 -> True\n",
      "8 -> False\n",
      "9 -> False\n",
      "10 -> False\n",
      "11 -> True\n",
      "12 -> False\n",
      "13 -> True\n",
      "14 -> False\n",
      "15 -> False\n",
      "16 -> False\n",
      "17 -> True\n",
      "18 -> False\n",
      "19 -> True\n",
      "20 -> False\n",
      "21 -> False\n",
      "22 -> False\n",
      "23 -> True\n",
      "24 -> False\n",
      "25 -> False\n",
      "26 -> False\n",
      "27 -> False\n",
      "28 -> False\n",
      "29 -> True\n",
      "30 -> False\n",
      "31 -> True\n",
      "32 -> False\n",
      "33 -> False\n",
      "34 -> False\n",
      "35 -> False\n",
      "36 -> False\n",
      "37 -> True\n",
      "38 -> False\n",
      "39 -> False\n",
      "40 -> False\n",
      "41 -> True\n",
      "42 -> False\n",
      "43 -> True\n",
      "44 -> False\n",
      "45 -> False\n",
      "46 -> False\n",
      "47 -> True\n",
      "48 -> False\n",
      "49 -> False\n",
      "50 -> False\n",
      "51 -> False\n",
      "52 -> False\n",
      "53 -> True\n",
      "54 -> False\n",
      "55 -> False\n",
      "56 -> False\n",
      "57 -> False\n",
      "58 -> False\n",
      "59 -> True\n",
      "60 -> False\n",
      "61 -> True\n",
      "62 -> False\n",
      "63 -> False\n",
      "64 -> False\n",
      "65 -> False\n",
      "66 -> False\n",
      "67 -> True\n",
      "68 -> False\n",
      "69 -> False\n",
      "70 -> False\n",
      "71 -> True\n",
      "72 -> False\n",
      "73 -> True\n",
      "74 -> False\n",
      "75 -> False\n",
      "76 -> False\n",
      "77 -> False\n",
      "78 -> False\n",
      "79 -> True\n",
      "80 -> False\n",
      "81 -> False\n",
      "82 -> False\n",
      "83 -> True\n",
      "84 -> False\n",
      "85 -> False\n",
      "86 -> False\n",
      "87 -> False\n",
      "88 -> False\n",
      "89 -> True\n",
      "90 -> False\n",
      "91 -> False\n",
      "92 -> False\n",
      "93 -> False\n",
      "94 -> False\n",
      "95 -> False\n",
      "96 -> False\n",
      "97 -> True\n",
      "98 -> False\n",
      "99 -> False\n"
     ]
    }
   ],
   "source": [
    "#User function Template for python3\n",
    "\n",
    "def prime(n):\n",
    "    if n<=1:\n",
    "        return False\n",
    "    for i in range(2,int(n**0.5)+1):\n",
    "        if n%i==0:\n",
    "            return False\n",
    "    return True        \n",
    "    # code here to check for prime.\n",
    "    # return True or False\n",
    "\n",
    "for i in range(0,100):\n",
    "    print(\"{} -> {}\".format(i, prime(i)))"
   ]
  },
  {
   "cell_type": "code",
   "execution_count": 50,
   "id": "e79fb9c1-5df2-478d-9b3d-1909ddae4240",
   "metadata": {},
   "outputs": [
    {
     "name": "stdout",
     "output_type": "stream",
     "text": [
      "('boy', 3)\n",
      "('bar', 2)\n",
      "('foo', 1)\n",
      "Done\n"
     ]
    }
   ],
   "source": [
    "d={\"foo\":1,\"bar\":2,\"boy\":3}\n",
    "while len(d)>0:\n",
    "    print(d.popitem())\n",
    "print(\"Done\")"
   ]
  },
  {
   "cell_type": "code",
   "execution_count": 51,
   "id": "c78846e5-ad17-487b-96dc-7f0c1646f156",
   "metadata": {},
   "outputs": [
    {
     "name": "stdout",
     "output_type": "stream",
     "text": [
      "5\n",
      "5\n",
      "-1\n",
      "6\n",
      "0.6666666666666666\n",
      "2\n",
      "8\n",
      "1\n"
     ]
    }
   ],
   "source": [
    "# \n",
    "# Operator\tDescription\tSyntax\n",
    "# +\tAddition: adds two operands\tx + y\n",
    "# –\tSubtraction: subtracts two operands\tx – y\n",
    "# *\tMultiplication: multiplies two operands\tx * y\n",
    "# /\tDivision (float): divides the first operand by the second\tx / y\n",
    "# //\tDivision (floor): divides the first operand by the second\tx // y\n",
    "# %\tModulus: returns the remainder when first operand is divided by the second\tx % y\n",
    "# **\tPower : Returns first raised to power second\tx ** y\n",
    "val1 = 2\n",
    "val2 = 3\n",
    "  \n",
    "# using the addition operator\n",
    "res = val1 + val2\n",
    "print(res)\n",
    "\n",
    "\n",
    "\n",
    "val1 = 2\n",
    "val2 = 3\n",
    "  \n",
    "# using the addition operator\n",
    "res = val1 + val2\n",
    "print(res)\n",
    "\n",
    "# using the subtraction operator\n",
    "res = val1 - val2\n",
    "print(res)\n",
    "\n",
    "# using the multiplication operator\n",
    "res = val1 * val2\n",
    "print(res)\n",
    "\n",
    "# using the division operator\n",
    "res = val1 / val2\n",
    "print(res)\n",
    "\n",
    "# using the modulus operator\n",
    "res = val1 % val2\n",
    "print(res)\n",
    "\n",
    "  \n",
    "# using the exponentiation operator\n",
    "res = val1 ** val2\n",
    "print(res)\n",
    "\n",
    "val1 = 3\n",
    "val2 = 2\n",
    "  \n",
    "# using the floor division\n",
    "res = val1 // val2\n",
    "print(res)"
   ]
  },
  {
   "cell_type": "code",
   "execution_count": 52,
   "id": "49acd58a-f579-4cfd-89ea-593cae18ecd4",
   "metadata": {},
   "outputs": [
    {
     "name": "stdout",
     "output_type": "stream",
     "text": [
      "The numbers are greater than 0\n",
      "Atleast one number is not greater than 0\n"
     ]
    }
   ],
   "source": [
    "# OPERATOR\tDESCRIPTION\tSYNTAX\n",
    "# and\tLogical AND: True if both the operands are true\tx and y\n",
    "# or\tLogical OR: True if either of the operands is true\tx or y\n",
    "#not\tLogical NOT: True if the operand is false\tnot x\n",
    "\n",
    "\n",
    "# Python program to demonstrate\n",
    "# logical and operator\n",
    "\n",
    "a = 10\n",
    "b = 10\n",
    "c = -10\n",
    "\n",
    "if a > 0 and b > 0:\n",
    "    print(\"The numbers are greater than 0\")\n",
    "\n",
    "if a > 0 and b > 0 and c > 0:\n",
    "    print(\"The numbers are greater than 0\")\n",
    "else:\n",
    "    print(\"Atleast one number is not greater than 0\")"
   ]
  },
  {
   "cell_type": "code",
   "execution_count": 53,
   "id": "a5c28d87-eb0f-4bd5-be46-3a28f890ef0a",
   "metadata": {},
   "outputs": [
    {
     "name": "stdout",
     "output_type": "stream",
     "text": [
      "Atleast one number has boolean value as False\n"
     ]
    }
   ],
   "source": [
    "# Python program to demonstrate\n",
    "# logical and operator\n",
    "\n",
    "a = 10\n",
    "b = 12\n",
    "c = 0\n",
    "\n",
    "if a and b and c:\n",
    "    print(\"All the numbers have boolean value as True\")\n",
    "else:\n",
    "    print(\"Atleast one number has boolean value as False\")"
   ]
  },
  {
   "cell_type": "code",
   "execution_count": 54,
   "id": "01c807d1-16ca-4c0f-ae9e-8abf3a724477",
   "metadata": {},
   "outputs": [
    {
     "name": "stdout",
     "output_type": "stream",
     "text": [
      "Either of the number is greater than 0\n",
      "No number is greater than 0\n"
     ]
    }
   ],
   "source": [
    "# Python program to demonstrate\n",
    "# logical or operator\n",
    "\n",
    "a = 10\n",
    "b = -10\n",
    "c = 0\n",
    "\n",
    "if a > 0 or b > 0:\n",
    "    print(\"Either of the number is greater than 0\")\n",
    "else:\n",
    "    print(\"No number is greater than 0\")\n",
    "\n",
    "if b > 0 or c > 0:\n",
    "    print(\"Either of the number is greater than 0\")\n",
    "else:\n",
    "    print(\"No number is greater than 0\")"
   ]
  },
  {
   "cell_type": "code",
   "execution_count": 55,
   "id": "0d4cf8a0-31ee-4399-818a-a4a3704bea9f",
   "metadata": {},
   "outputs": [
    {
     "name": "stdout",
     "output_type": "stream",
     "text": [
      "Atleast one number has boolean value as True\n"
     ]
    }
   ],
   "source": [
    "# Python program to demonstrate\n",
    "# logical and operator\n",
    "\n",
    "a = 10\n",
    "b = 12\n",
    "c = 0\n",
    "\n",
    "if a or b or c:\n",
    "    print(\"Atleast one number has boolean value as True\")\n",
    "else:\n",
    "    print(\"All the numbers have boolean value as False\")"
   ]
  },
  {
   "cell_type": "code",
   "execution_count": 56,
   "id": "a8f6e3cb-0f3d-46c0-b511-4e9d239772de",
   "metadata": {},
   "outputs": [
    {
     "name": "stdout",
     "output_type": "stream",
     "text": [
      "10 is divisible by either 3 or 5\n"
     ]
    }
   ],
   "source": [
    "# Python program to demonstrate\n",
    "# logical not operator\n",
    "\n",
    "a = 10\n",
    "\n",
    "if not a:\n",
    "    print(\"Boolean value of a is True\")\n",
    "\n",
    "if not (a%3 == 0 or a%5 == 0):\n",
    "    print(\"10 is not divisible by either 3 or 5\")\n",
    "else:\n",
    "    print(\"10 is divisible by either 3 or 5\")"
   ]
  },
  {
   "cell_type": "code",
   "execution_count": 57,
   "id": "78c86411-2f2c-4620-9f4d-e0674d717d6d",
   "metadata": {},
   "outputs": [
    {
     "name": "stdout",
     "output_type": "stream",
     "text": [
      "Method called for value: -1\n",
      "Method called for value: 5\n",
      "Atleast one of the number is positive\n"
     ]
    }
   ],
   "source": [
    "# Python program to demonstrate\n",
    "# order of evaluation of logical \n",
    "# operators\n",
    "\n",
    "def order(x):\n",
    "    print(\"Method called for value:\", x)\n",
    "    return True if x > 0 else False\n",
    "    \n",
    "a = order\n",
    "b = order\n",
    "c = order\n",
    "\n",
    "if a(-1) or b(5) or c(10):\n",
    "    print(\"Atleast one of the number is positive\")"
   ]
  },
  {
   "cell_type": "code",
   "execution_count": null,
   "id": "3c76824a-9be1-4f97-bd69-2b220ae857fb",
   "metadata": {},
   "outputs": [],
   "source": [
    "# 'G' in 'GeeksforGeeks'   # Checking 'G' in String\n",
    "# True\n",
    "#'g' in 'GeeksforGeeks'   #Checking 'g' in string since Python is case-sensitive,returns False\n",
    "#False\n",
    "#'Geeks' in ['Geeks', 'For','Geeks']   #Checking 'Geeks' in list of strings\n",
    "#True\n",
    "#10 in [10000,1000,100,10]        #Checking 10 in list of integers\n",
    "#True\n",
    "#dict1={1:'Geeks',2:'For',3:'Geeks'}     # Checking 3 in keys of dictionary\n",
    "#3 in dict1\n",
    "#True\n"
   ]
  },
  {
   "cell_type": "code",
   "execution_count": 2,
   "id": "5a244f27-60fe-4050-a447-860b10101477",
   "metadata": {},
   "outputs": [
    {
     "name": "stdout",
     "output_type": "stream",
     "text": [
      "not overlapping\n",
      "not overlapping\n",
      "not overlapping\n",
      "not overlapping\n",
      "overlapping\n",
      "not overlapping\n"
     ]
    }
   ],
   "source": [
    "list1=[1,2,3,4,8,5]\n",
    "list2=[6,7,8,9]\n",
    "\n",
    "for item in list1:\n",
    "    if item in list2:\n",
    "        print(\"overlapping\")\n",
    "    else:\n",
    "        print(\"not overlapping\")"
   ]
  },
  {
   "cell_type": "code",
   "execution_count": 5,
   "id": "7d258a95-8f1d-4b9e-9ea8-c713c3a5a1ab",
   "metadata": {},
   "outputs": [
    {
     "name": "stdout",
     "output_type": "stream",
     "text": [
      "overlapping\n"
     ]
    }
   ],
   "source": [
    "# program to illustrate finding common number in list without in operator\n",
    "\n",
    "def overlapping(list1, list2):\n",
    "    c=0\n",
    "    d=0\n",
    "    for i in list1:\n",
    "        c +=1\n",
    "    for i in list2:\n",
    "        d += 1\n",
    "    for i in range(0, c):\n",
    "        for j in range(0,d):\n",
    "            if (list1[i]==list2[j]):\n",
    "                return 1\n",
    "    return 0\n",
    "\n",
    "\n",
    "list1=[1,2,3,4,5]\n",
    "list2=[6,7,8,9,5]\n",
    "\n",
    "if (overlapping(list1, list2)):\n",
    "    print(\"overlapping\")\n",
    "else:\n",
    "    print(\"not overlapping\")\n",
    "    "
   ]
  },
  {
   "cell_type": "code",
   "execution_count": 6,
   "id": "40c86d59-4fa4-44da-a8ab-cedaaca068ac",
   "metadata": {},
   "outputs": [
    {
     "name": "stdout",
     "output_type": "stream",
     "text": [
      "x is NOT present in given list\n",
      "y is present in given list\n"
     ]
    }
   ],
   "source": [
    "x = 24\n",
    "y = 20\n",
    "list = [10, 20, 30, 40, 50]\n",
    "\n",
    "if (x not in list):\n",
    "    print(\"x is NOT present in given list\")\n",
    "else:\n",
    "    print(\"x is  present in given list\")\n",
    "\n",
    "if (y in list):\n",
    "    print(\"y is present in given list\")\n",
    "else:\n",
    "    print(\"y is NOT present in given list\")"
   ]
  },
  {
   "cell_type": "code",
   "execution_count": 8,
   "id": "e4a3823a-3283-4f2e-ab8c-3c92bae43820",
   "metadata": {},
   "outputs": [
    {
     "name": "stdout",
     "output_type": "stream",
     "text": [
      "True\n"
     ]
    },
    {
     "data": {
      "text/plain": [
       "140720901192248"
      ]
     },
     "execution_count": 8,
     "metadata": {},
     "output_type": "execute_result"
    }
   ],
   "source": [
    "# Identity operators are used to compare the objects if both the objects are actually of the same data type and share the same memory location.\n",
    "# There are different identity operators such as \n",
    "# 'is' operator - Evaluates to True if the variables on either side of the operator point to the same object and false otherwise.\n",
    "\n",
    "x=5\n",
    "y=5\n",
    "\n",
    "print(x is y)\n",
    "id(x)\n",
    "id(y)"
   ]
  },
  {
   "cell_type": "code",
   "execution_count": 9,
   "id": "e4528feb-4729-4ed1-b28d-4c11ed9858cd",
   "metadata": {},
   "outputs": [
    {
     "name": "stdout",
     "output_type": "stream",
     "text": [
      "false\n",
      "true\n"
     ]
    }
   ],
   "source": [
    "# Python program to illustrate the\n",
    "# use of 'is not' identity operator\n",
    "x = 5\n",
    "if (type(x) is not int):\n",
    "    print(\"true\")\n",
    "else:\n",
    "    print(\"false\")\n",
    "\n",
    "# Prints True\n",
    "x = 5.6\n",
    "if (type(x) is not int):\n",
    "    print(\"true\")\n",
    "else:\n",
    "    print(\"false\")"
   ]
  },
  {
   "cell_type": "code",
   "execution_count": null,
   "id": "b127ce45-4229-44c6-95bd-01625f17417d",
   "metadata": {},
   "outputs": [],
   "source": [
    "## OPERATOR\tDESCRIPTION\tSYNTAX\n",
    "## &\tBitwise AND\tx & y\n",
    "## |\tBitwise OR\tx | y\n",
    "## ~\tBitwise NOT\t~x\n",
    "## ^\tBitwise XOR\tx ^ y\n",
    "## >>\tBitwise right shift\tx>>\n",
    "## <<\tBitwise left shift\tx<<\n",
    "\n",
    "Let's understand each operator one by one.\n",
    " \n",
    "\n",
    "Bitwise AND operator: Returns 1 if both the bits are 1 else 0.\n",
    "Example: \n",
    "\n",
    "a = 10 = 1010 (Binary)\n",
    "b = 4 =  0100 (Binary)\n",
    "\n",
    "a & b = 1010\n",
    "         &\n",
    "        0100\n",
    "      = 0000\n",
    "      = 0 (Decimal)\n",
    " \n",
    "\n",
    "Bitwise or operator: Returns 1 if either of the bit is 1 else 0.\n",
    "Example:\n",
    "\n",
    "a = 10 = 1010 (Binary)\n",
    "b = 4 =  0100 (Binary)\n",
    "\n",
    "a | b = 1010\n",
    "         |\n",
    "        0100\n",
    "      = 1110\n",
    "      = 14 (Decimal)\n",
    " \n",
    "\n",
    "Bitwise not operator: Returns one's complement of the number.\n",
    "Example:\n",
    "\n",
    "a = 10 = 1010 (Binary)\n",
    "\n",
    "~a = ~1010\n",
    "   = -(1010 + 1)\n",
    "   = -(1011)\n",
    "   = -11 (Decimal)\n",
    " \n",
    "\n",
    "Bitwise xor operator: Returns 1 if one of the bits is 1 and the other is 0 else returns 0.\n",
    "Example:\n",
    "\n",
    "a = 10 = 1010 (Binary)\n",
    "b = 4 =  0100 (Binary)\n",
    "\n",
    "a ^ b = 1010\n",
    "         ^\n",
    "        0100\n",
    "      = 1110\n",
    "      = 14 (Decimal)\n"
   ]
  },
  {
   "cell_type": "code",
   "execution_count": 10,
   "id": "b22b81ae-ce05-4b03-b9c1-e32b5925b3a7",
   "metadata": {},
   "outputs": [
    {
     "name": "stdout",
     "output_type": "stream",
     "text": [
      "a & b = 0\n",
      "a | b = 14\n",
      "~a = -11\n",
      "a ^ b = 14\n"
     ]
    }
   ],
   "source": [
    "# Python program to show\n",
    "# bitwise operators\n",
    "\n",
    "a = 10\n",
    "b = 4\n",
    "\n",
    "# Print bitwise AND operation\n",
    "print(\"a & b =\", a & b)\n",
    "\n",
    "# Print bitwise OR operation\n",
    "print(\"a | b =\", a | b)\n",
    "\n",
    "# Print bitwise NOT operation\n",
    "print(\"~a =\", ~a)\n",
    "\n",
    "# print bitwise XOR operation\n",
    "print(\"a ^ b =\", a ^ b)"
   ]
  },
  {
   "cell_type": "code",
   "execution_count": null,
   "id": "cc29de9c-cbed-4ea5-9218-5e71a4c1246e",
   "metadata": {},
   "outputs": [],
   "source": [
    "Bitwise right shift: Shifts the bits of the number to the right and fills 0 on voids left( fills 1 in the case of a negative number) as a result. Similar effect as of dividing the number with some power of two.\n",
    "Example: \n",
    "\n",
    "Example 1:\n",
    "a = 10 = 0000 1010 (Binary)\n",
    "a >> 1 = 0000 0101 = 5\n",
    "\n",
    "Example 2:\n",
    "a = -10 = 1111 0110 (Binary)\n",
    "a >> 1 = 1111 1011 = -5 \n",
    " \n",
    "\n",
    "Bitwise left shift: Shifts the bits of the number to the left and fills 0 on voids right as a result. Similar effect as of multiplying the number with some power of two.\n",
    "Example: \n",
    "\n",
    "Example 1:\n",
    "a = 5 = 0000 0101 (Binary)\n",
    "a << 1 = 0000 1010 = 10\n",
    "a << 2 = 0001 0100 = 20 \n",
    "\n",
    "Example 2:\n",
    "b = -10 = 1111 0110 (Binary)\n",
    "b << 1 = 1110 1100 = -20\n",
    "b << 2 = 1101 1000 = -40 "
   ]
  },
  {
   "cell_type": "code",
   "execution_count": 11,
   "id": "eefd4129-2f44-4d0e-8b9d-b44a0aaab3cc",
   "metadata": {},
   "outputs": [
    {
     "name": "stdout",
     "output_type": "stream",
     "text": [
      "a >> 1 = 5\n",
      "b >> 1 = -5\n",
      "a << 1 = 10\n",
      "b << 1 = -20\n"
     ]
    }
   ],
   "source": [
    "# Python program to show\n",
    "# shift operators\n",
    "\n",
    "a = 10\n",
    "b = -10\n",
    "\n",
    "# print bitwise right shift operator\n",
    "print(\"a >> 1 =\", a >> 1)\n",
    "print(\"b >> 1 =\", b >> 1)\n",
    "\n",
    "a = 5\n",
    "b = -10\n",
    "\n",
    "# print bitwise left shift operator\n",
    "print(\"a << 1 =\", a << 1)\n",
    "print(\"b << 1 =\", b << 1)"
   ]
  },
  {
   "cell_type": "code",
   "execution_count": 12,
   "id": "7679b492-135a-4c1d-9bb3-12b525d1a83c",
   "metadata": {},
   "outputs": [
    {
     "name": "stdout",
     "output_type": "stream",
     "text": [
      "And operator overloaded\n",
      "8\n",
      "Or operator overloaded\n",
      "14\n",
      "Xor operator overloaded\n",
      "6\n",
      "lshift operator overloaded\n",
      "40960\n",
      "rshift operator overloaded\n",
      "8\n",
      "Invert operator overloaded\n",
      "-11\n"
     ]
    }
   ],
   "source": [
    "# Python program to demonstrate\n",
    "# operator overloading\n",
    "\n",
    "\n",
    "class Geek():\n",
    "    def __init__(self, value):\n",
    "        self.value = value\n",
    "\n",
    "    def __and__(self, obj):\n",
    "        print(\"And operator overloaded\")\n",
    "        if isinstance(obj, Geek):\n",
    "            return self.value & obj.value\n",
    "        else:\n",
    "            raise ValueError(\"Must be a object of class Geek\")\n",
    "\n",
    "    def __or__(self, obj):\n",
    "        print(\"Or operator overloaded\")\n",
    "        if isinstance(obj, Geek):\n",
    "            return self.value | obj.value\n",
    "        else:\n",
    "            raise ValueError(\"Must be a object of class Geek\")\n",
    "\n",
    "    def __xor__(self, obj):\n",
    "        print(\"Xor operator overloaded\")\n",
    "        if isinstance(obj, Geek):\n",
    "            return self.value ^ obj.value\n",
    "        else:\n",
    "            raise ValueError(\"Must be a object of class Geek\")\n",
    "\n",
    "    def __lshift__(self, obj):\n",
    "        print(\"lshift operator overloaded\")\n",
    "        if isinstance(obj, Geek):\n",
    "            return self.value << obj.value\n",
    "        else:\n",
    "            raise ValueError(\"Must be a object of class Geek\")\n",
    "\n",
    "    def __rshift__(self, obj):\n",
    "        print(\"rshift operator overloaded\")\n",
    "        if isinstance(obj, Geek):\n",
    "            return self.value & obj.value\n",
    "        else:\n",
    "            raise ValueError(\"Must be a object of class Geek\")\n",
    "\n",
    "    def __invert__(self):\n",
    "        print(\"Invert operator overloaded\")\n",
    "        return ~self.value\n",
    "\n",
    "\n",
    "# Driver's code\n",
    "if __name__ == \"__main__\":\n",
    "    a = Geek(10)\n",
    "    b = Geek(12)\n",
    "    print(a & b)\n",
    "    print(a | b)\n",
    "    print(a ^ b)\n",
    "    print(a << b)\n",
    "    print(a >> b)\n",
    "    print(~a)\n"
   ]
  },
  {
   "cell_type": "code",
   "execution_count": 2,
   "id": "5b2cc41a-72ed-4329-973a-977def078cc5",
   "metadata": {},
   "outputs": [
    {
     "name": "stdout",
     "output_type": "stream",
     "text": [
      "Welcome tp GFG\n"
     ]
    }
   ],
   "source": [
    "# Python Functions is a block of statements that return the specific task.\n",
    "\n",
    "# The idea is to put some commonly or repeatedly done tasks together and make a function so that instead of writing the same code again and again for different inputs, we can do the function calls to reuse code contained in it over and over again. \n",
    "\n",
    "def fun():\n",
    "    print(\"Welcome tp GFG\")\n",
    "\n",
    "fun()\n",
    " "
   ]
  },
  {
   "cell_type": "code",
   "execution_count": null,
   "id": "3fd9aec8-eb87-4f36-a7b1-6d59a3f99cc6",
   "metadata": {},
   "outputs": [],
   "source": [
    "Syntax: Python Function with parameters \n",
    "\n",
    " def function_name(parameter: data_type) -> return_type:\n",
    "    \"\"\"Doctring\"\"\"\n",
    "    # body of the function\n",
    "    return expression"
   ]
  },
  {
   "cell_type": "code",
   "execution_count": 3,
   "id": "ad048024-42f9-44e9-80ab-758f1755d0d7",
   "metadata": {},
   "outputs": [
    {
     "name": "stdout",
     "output_type": "stream",
     "text": [
      "False True\n"
     ]
    }
   ],
   "source": [
    "# some more functions\n",
    "def is_prime(n):\n",
    "    if n in [2, 3]:\n",
    "        return True\n",
    "    if (n == 1) or (n % 2 == 0):\n",
    "        return False\n",
    "    r = 3\n",
    "    while r * r <= n:\n",
    "        if n % r == 0:\n",
    "            return False\n",
    "        r += 2\n",
    "    return True\n",
    "print(is_prime(78), is_prime(79))"
   ]
  },
  {
   "cell_type": "code",
   "execution_count": 5,
   "id": "d9b77674-ab52-4799-96fa-e83a98e4d89d",
   "metadata": {},
   "outputs": [
    {
     "name": "stdout",
     "output_type": "stream",
     "text": [
      "even\n",
      "odd\n"
     ]
    }
   ],
   "source": [
    "# program even or odd\n",
    "def evenOdd(x):\n",
    "    if (x%2==0):\n",
    "        print(\"even\")\n",
    "    else:\n",
    "        print(\"odd\")\n",
    "\n",
    "evenOdd(2)\n",
    "evenOdd(5)\n"
   ]
  },
  {
   "cell_type": "code",
   "execution_count": 9,
   "id": "c2d52c8f-d86d-43a5-8850-fcd3407cde42",
   "metadata": {},
   "outputs": [
    {
     "name": "stdout",
     "output_type": "stream",
     "text": [
      "x: 20, y: 10\n",
      "x: 50, y: 65\n"
     ]
    }
   ],
   "source": [
    "#python function default arguments\n",
    "\n",
    "def myFun(x, y=10):\n",
    "    print(\"x: {}, y: {}\".format(x,y))\n",
    "\n",
    "myFun(20)\n",
    "myFun(50,65)"
   ]
  },
  {
   "cell_type": "code",
   "execution_count": 10,
   "id": "20607cc5-b7a4-4352-8078-71aaaec786a0",
   "metadata": {},
   "outputs": [
    {
     "name": "stdout",
     "output_type": "stream",
     "text": [
      "Geeks Practice\n",
      "Practice Goose\n"
     ]
    }
   ],
   "source": [
    "# program with keyword arguments\n",
    "\n",
    "def student(firstname,lastname):\n",
    "    print(firstname,lastname)\n",
    "\n",
    "student(firstname=\"Geeks\", lastname=\"Practice\")\n",
    "student(firstname=\"Practice\", lastname=\"Goose\")\n",
    "\n"
   ]
  },
  {
   "cell_type": "code",
   "execution_count": 11,
   "id": "edd3fe07-d34b-4368-a14c-f669ea2c9322",
   "metadata": {},
   "outputs": [
    {
     "name": "stdout",
     "output_type": "stream",
     "text": [
      "Hello\n",
      "Welcome\n",
      "to\n",
      "GeeksforGeeks\n"
     ]
    }
   ],
   "source": [
    "# In Python, we can pass a variable number of arguments to a function using special symbols. There are two special symbols:\n",
    "\n",
    "#  *args (Non-Keyword Arguments)\n",
    "#  **kwargs (Keyword Arguments)\n",
    "# Example 1: Variable length non-keywords argument\n",
    "\n",
    "def myFun(*argv):\n",
    "    for arg in argv:\n",
    "        print(arg)\n",
    " \n",
    " \n",
    "myFun('Hello', 'Welcome', 'to', 'GeeksforGeeks')"
   ]
  },
  {
   "cell_type": "code",
   "execution_count": 12,
   "id": "1f7a5b16-6088-469d-9963-dbbfe9b545a9",
   "metadata": {},
   "outputs": [
    {
     "name": "stdout",
     "output_type": "stream",
     "text": [
      "First argument:  Hello\n",
      "Next argument through *argv: Welcome\n",
      "Next argument through *argv: to\n",
      "Next argument through *argv: geeksforGeeks\n"
     ]
    }
   ],
   "source": [
    "def myFun(arg1, *argv):\n",
    "    print(\"First argument: \", arg1)\n",
    "\n",
    "    for arg in argv:\n",
    "        print(\"Next argument through *argv:\", arg)\n",
    "\n",
    "myFun(\"Hello\", \"Welcome\", \"to\", \"geeksforGeeks\")\n"
   ]
  },
  {
   "cell_type": "code",
   "execution_count": 15,
   "id": "d6968719-7158-4c1f-b961-ecfd418db0a1",
   "metadata": {},
   "outputs": [
    {
     "name": "stdout",
     "output_type": "stream",
     "text": [
      "first == Geeks\n",
      "mid == for\n",
      "last == Geeks\n"
     ]
    }
   ],
   "source": [
    "def myFun(**kwargs):\n",
    "    for key,value in kwargs.items():\n",
    "        print(\"%s == %s\"%(key,value))\n",
    "\n",
    "myFun(first=\"Geeks\", mid=\"for\", last=\"Geeks\")"
   ]
  },
  {
   "cell_type": "code",
   "execution_count": 17,
   "id": "9acede0b-2289-4f69-8887-939a12f1798b",
   "metadata": {},
   "outputs": [
    {
     "name": "stdout",
     "output_type": "stream",
     "text": [
      "arg1: Geeks, arg2: for, arg3: Geeks\n",
      "arg1: Geeks, arg2: Geeks2, arg3: Geeks3\n"
     ]
    }
   ],
   "source": [
    "def myFun(arg1, arg2, arg5):\n",
    "    print(\"arg1: {}, arg2: {}, arg3: {}\".format(arg1,arg2,arg5))\n",
    "    \n",
    "args=(\"Geeks\",\"for\",\"Geeks\")\n",
    "myFun(*args)\n",
    "kwargs={\"arg1\":\"Geeks\", \"arg2\":\"Geeks2\", \"arg5\":\"Geeks3\"}\n",
    "myFun(**kwargs)\n",
    "    "
   ]
  },
  {
   "cell_type": "code",
   "execution_count": 18,
   "id": "37ea1471-c2a6-4c5a-8822-b2d39271e876",
   "metadata": {},
   "outputs": [
    {
     "name": "stdout",
     "output_type": "stream",
     "text": [
      "arg:  ('geeks', 'for', 'geeks')\n",
      "kwargs: {'first': 'Geeks', 'mid': 'for', 'last': 'Geeks'}\n"
     ]
    }
   ],
   "source": [
    "def myFun(*args, **kwargs):\n",
    "    print(\"arg: \", args)\n",
    "    print(\"kwargs:\",kwargs)\n",
    "\n",
    "myFun(\"geeks\", \"for\", \"geeks\",first=\"Geeks\", mid=\"for\", last='Geeks')\n"
   ]
  },
  {
   "cell_type": "code",
   "execution_count": 23,
   "id": "b5259994-4e8f-498c-8a89-91511bce4221",
   "metadata": {},
   "outputs": [
    {
     "name": "stdout",
     "output_type": "stream",
     "text": [
      "red\n",
      "250\n"
     ]
    }
   ],
   "source": [
    "class Car():\n",
    "    def __init__(self, *args):\n",
    "        self.speed=args[0]\n",
    "        self.color=args[1]\n",
    "\n",
    "audi=Car(200,'red');\n",
    "bmw=Car(250,\"black\");\n",
    "\n",
    "print(audi.color)\n",
    "print(bmw.speed)"
   ]
  },
  {
   "cell_type": "code",
   "execution_count": 27,
   "id": "5e07e895-b9e9-40f6-8980-512212d22f8a",
   "metadata": {},
   "outputs": [
    {
     "name": "stdout",
     "output_type": "stream",
     "text": [
      "{'s': 200, 'c': 'red'}\n",
      "{'s': 100, 'c': 'blue'}\n",
      "red\n",
      "200\n"
     ]
    }
   ],
   "source": [
    "class Car():\n",
    "    def __init__(self, **kwargs):\n",
    "        self.speed=kwargs['s']\n",
    "        self.color=kwargs['c']\n",
    "        print(kwargs)\n",
    "\n",
    "audi=Car(s=200, c='red')\n",
    "bmw=Car(s=100, c='blue')\n",
    "\n",
    "print(audi.color)\n",
    "print(audi.speed)\n",
    "\n"
   ]
  },
  {
   "cell_type": "code",
   "execution_count": 28,
   "id": "f7da99f4-85de-4c24-8ac6-9faad04e6972",
   "metadata": {},
   "outputs": [
    {
     "name": "stdout",
     "output_type": "stream",
     "text": [
      "4\n",
      "1764\n"
     ]
    }
   ],
   "source": [
    "def square_value(n):\n",
    "    return n*n\n",
    "\n",
    "print(square_value(2))\n",
    "print(square_value(-42))"
   ]
  },
  {
   "cell_type": "code",
   "execution_count": 33,
   "id": "70791554-7950-4066-adae-a96f66a8ce5c",
   "metadata": {},
   "outputs": [
    {
     "name": "stdout",
     "output_type": "stream",
     "text": [
      "['xx', 20, 20, 340]\n"
     ]
    }
   ],
   "source": [
    "def myFun(x):\n",
    "    x[0]=\"xx\"\n",
    "\n",
    "lst=[10,20,20,340]\n",
    "myFun(lst)\n",
    "print(lst)\n"
   ]
  },
  {
   "cell_type": "code",
   "execution_count": 35,
   "id": "a0e77c65-5be0-4342-9660-62bbe4098da8",
   "metadata": {},
   "outputs": [
    {
     "name": "stdout",
     "output_type": "stream",
     "text": [
      "A Computer Science portal for geeks\n",
      "String with the use of Single Quotes: \n",
      "Welcome to the Geeks World\n",
      "\n",
      "String with the use of Double Quotes: \n",
      "I'm a Geek\n",
      "\n",
      "String with the use of Triple Quotes: \n",
      "I'm a Geek and I live in a world of \"Geeks\"\n",
      "\n",
      "Creating a multiline String: \n",
      "Geeks\n",
      "            For\n",
      "            Life\n"
     ]
    }
   ],
   "source": [
    "print(\"A Computer Science portal for geeks\")\n",
    "\n",
    "# Python Program for\n",
    "# Creation of String\n",
    " \n",
    "# Creating a String\n",
    "# with single Quotes\n",
    "String1 = 'Welcome to the Geeks World'\n",
    "print(\"String with the use of Single Quotes: \")\n",
    "print(String1)\n",
    " \n",
    "# Creating a String\n",
    "# with double Quotes\n",
    "String1 = \"I'm a Geek\"\n",
    "print(\"\\nString with the use of Double Quotes: \")\n",
    "print(String1)\n",
    " \n",
    "# Creating a String\n",
    "# with triple Quotes\n",
    "String1 = '''I'm a Geek and I live in a world of \"Geeks\"'''\n",
    "print(\"\\nString with the use of Triple Quotes: \")\n",
    "print(String1)\n",
    " \n",
    "# Creating String with triple\n",
    "# Quotes allows multiple lines\n",
    "String1 = '''Geeks\n",
    "            For\n",
    "            Life'''\n",
    "print(\"\\nCreating a multiline String: \")\n",
    "print(String1)"
   ]
  },
  {
   "cell_type": "code",
   "execution_count": 36,
   "id": "63773029-f06f-4564-8061-cf4a97c92c6a",
   "metadata": {},
   "outputs": [
    {
     "name": "stdout",
     "output_type": "stream",
     "text": [
      "Initial String: \n",
      "GeeksForGeeks\n",
      "\n",
      "First character of String is: \n",
      "G\n",
      "\n",
      "Last character of String is: \n",
      "s\n"
     ]
    }
   ],
   "source": [
    "# Python Program to Access\n",
    "# characters of String\n",
    "\n",
    "\n",
    "String1 = \"GeeksForGeeks\"\n",
    "print(String1)\n",
    "i=0\n",
    "for j in String1:\n",
    "    print(\"{2:>\".format(j)}\n",
    "\n",
    "print(\"Initial String: \")\n",
    "print(String1)\n",
    " \n",
    "# Printing First character\n",
    "print(\"\\nFirst character of String is: \")\n",
    "print(String1[0])\n",
    " \n",
    "# Printing Last character\n",
    "print(\"\\nLast character of String is: \")\n",
    "print(String1[-1])"
   ]
  },
  {
   "cell_type": "code",
   "execution_count": 75,
   "id": "1a7e527f-5758-427b-92d9-a31ca81f65f2",
   "metadata": {},
   "outputs": [
    {
     "name": "stdout",
     "output_type": "stream",
     "text": [
      "GeeksForGeeks\n",
      "  G   e   e   k   s   F   o   r   G   e   e   k   s \n",
      "  0   1   2   3   4   5   6   7   8   9  10  11  12 \n",
      "-13 -12 -11 -10  -9  -8  -7  -6  -5  -4  -3  -2  -1 \n",
      "G k Gee eks skeeGroFskeeG\n"
     ]
    }
   ],
   "source": [
    "String1 = \"GeeksForGeeks\"\n",
    "print(String1)\n",
    "\n",
    "for j in String1:\n",
    "    print(\"{:>3}\".format(j),end=\" \")\n",
    "print()\n",
    "for i in range(0,len(String1)):\n",
    "    print(\"{:>3}\".format(i),end=\" \")\n",
    "j=0\n",
    "print()\n",
    "for i in range(0,len(String1)):\n",
    "    print(\"{:>3}\".format(j-len(String1)),end=\" \")\n",
    "    j+=1\n",
    "\n",
    "print()\n",
    "print(String1[-13],String1[-2],String1[:3],String1[2:5],String1[::-1])\n"
   ]
  },
  {
   "cell_type": "code",
   "execution_count": 76,
   "id": "9cadb3ba-a093-43fe-8670-62d904a415ff",
   "metadata": {},
   "outputs": [
    {
     "name": "stdout",
     "output_type": "stream",
     "text": [
      "Initial String: \n",
      "GeeksForGeeks\n",
      "\n",
      "First character of String is: \n",
      "G\n",
      "\n",
      "Last character of String is: \n",
      "s\n"
     ]
    }
   ],
   "source": [
    "# Python Program to Access\n",
    "# characters of String\n",
    " \n",
    "String1 = \"GeeksForGeeks\"\n",
    "print(\"Initial String: \")\n",
    "print(String1)\n",
    " \n",
    "# Printing First character\n",
    "print(\"\\nFirst character of String is: \")\n",
    "print(String1[0])\n",
    " \n",
    "# Printing Last character\n",
    "print(\"\\nLast character of String is: \")\n",
    "print(String1[-1])"
   ]
  },
  {
   "cell_type": "code",
   "execution_count": 77,
   "id": "8c43f66e-d3da-4d20-b039-9e6c6f51f71b",
   "metadata": {},
   "outputs": [
    {
     "name": "stdout",
     "output_type": "stream",
     "text": [
      "Initial String: \n",
      "GeeksForGeeks\n",
      "\n",
      "Slicing characters from 3-12: \n",
      "ksForGeek\n",
      "\n",
      "Slicing characters between 3rd and 2nd last character: \n",
      "ksForGee\n"
     ]
    }
   ],
   "source": [
    "# Python Program to\n",
    "# demonstrate String slicing\n",
    " \n",
    "# Creating a String\n",
    "String1 = \"GeeksForGeeks\"\n",
    "print(\"Initial String: \")\n",
    "print(String1)\n",
    " \n",
    "# Printing 3rd to 12th character\n",
    "print(\"\\nSlicing characters from 3-12: \")\n",
    "print(String1[3:12])\n",
    " \n",
    "# Printing characters between\n",
    "# 3rd and 2nd last character\n",
    "print(\"\\nSlicing characters between \" +\n",
    "      \"3rd and 2nd last character: \")\n",
    "print(String1[3:-2])"
   ]
  },
  {
   "cell_type": "code",
   "execution_count": 80,
   "id": "048a0a1c-d3a2-4afd-9327-05aca58f2f18",
   "metadata": {},
   "outputs": [
    {
     "name": "stdout",
     "output_type": "stream",
     "text": [
      "65 65\n",
      "a\n"
     ]
    }
   ],
   "source": [
    "# inbuilt function return an\n",
    "# integer representing the Unicode code\n",
    "value = ord(\"A\")\n",
    " \n",
    "# writing in ' ' gives the same result\n",
    "value1 = ord('A')\n",
    " \n",
    "# prints the unicode value\n",
    "print (value, value1)\n",
    "print(chr(97))"
   ]
  },
  {
   "cell_type": "code",
   "execution_count": 81,
   "id": "2907c9c3-ff1f-447c-b7d2-147aa3a1c51c",
   "metadata": {},
   "outputs": [
    {
     "name": "stdout",
     "output_type": "stream",
     "text": [
      "Initial String with use of Triple Quotes: \n",
      "I'm a \"Geek\"\n",
      "\n",
      "Escaping Single Quote: \n",
      "I'm a \"Geek\"\n",
      "\n",
      "Escaping Double Quotes: \n",
      "I'm a \"Geek\"\n",
      "\n",
      "Escaping Backslashes: \n",
      "C:\\Python\\Geeks\\\n",
      "\n",
      "Tab: \n",
      "Hi\tGeeks\n",
      "\n",
      "New Line: \n",
      "Python\n",
      "Geeks\n"
     ]
    }
   ],
   "source": [
    "# Python Program for\n",
    "# Escape Sequencing\n",
    "# of String\n",
    " \n",
    "# Initial String\n",
    "String1 = '''I'm a \"Geek\"'''\n",
    "print(\"Initial String with use of Triple Quotes: \")\n",
    "print(String1)\n",
    " \n",
    "# Escaping Single Quote\n",
    "String1 = 'I\\'m a \"Geek\"'\n",
    "print(\"\\nEscaping Single Quote: \")\n",
    "print(String1)\n",
    " \n",
    "# Escaping Double Quotes\n",
    "String1 = \"I'm a \\\"Geek\\\"\"\n",
    "print(\"\\nEscaping Double Quotes: \")\n",
    "print(String1)\n",
    " \n",
    "# Printing Paths with the\n",
    "# use of Escape Sequences\n",
    "String1 = \"C:\\\\Python\\\\Geeks\\\\\"\n",
    "print(\"\\nEscaping Backslashes: \")\n",
    "print(String1)\n",
    " \n",
    "# Printing Paths with the\n",
    "# use of Tab\n",
    "String1 = \"Hi\\tGeeks\"\n",
    "print(\"\\nTab: \")\n",
    "print(String1)\n",
    " \n",
    "# Printing Paths with the\n",
    "# use of New Line\n",
    "String1 = \"Python\\nGeeks\"\n",
    "print(\"\\nNew Line: \")\n",
    "print(String1)"
   ]
  },
  {
   "cell_type": "code",
   "execution_count": null,
   "id": "6b000258-ae52-4801-bba1-9a796655db0a",
   "metadata": {},
   "outputs": [],
   "source": [
    "in operator: The ‘in’ operator is used to check if a character/ substring/ element exists in a sequence or not. Evaluate to True if it finds the specified element in a sequence otherwise False. For example,\n",
    "\n",
    "'G' in 'GeeksforGeeks'   # Checking 'G' in String\n",
    "True\n",
    "'g' in 'GeeksforGeeks'   #Checking 'g' in string since Python is case-sensitive,returns False\n",
    "False"
   ]
  },
  {
   "cell_type": "code",
   "execution_count": 82,
   "id": "140abb22-cdad-4614-98f1-53cbc40dc4e7",
   "metadata": {},
   "outputs": [
    {
     "name": "stdout",
     "output_type": "stream",
     "text": [
      "True\n",
      "False\n"
     ]
    }
   ],
   "source": [
    "s1='geeksforgeeks'\n",
    "s2='geeks'\n",
    "print(s2 in s1)\n",
    "print(s2 not in s1)"
   ]
  },
  {
   "cell_type": "code",
   "execution_count": 83,
   "id": "e3a6c9d1-4364-4793-a562-1b9ea7aa8b8f",
   "metadata": {},
   "outputs": [
    {
     "name": "stdout",
     "output_type": "stream",
     "text": [
      "Hello World\n"
     ]
    }
   ],
   "source": [
    "# Defining strings\n",
    "var1 = \"Hello \"\n",
    "var2 = \"World\"\n",
    " \n",
    "# + Operator is used to combine strings\n",
    "var3 = var1 + var2\n",
    "print(var3)"
   ]
  },
  {
   "cell_type": "code",
   "execution_count": null,
   "id": "7aa55949-e794-49fb-94ea-fb5e37575fe3",
   "metadata": {},
   "outputs": [],
   "source": [
    "Python String index() Method allows a user to find the index of the first occurrence of an existing substring inside a given string.\n",
    "\n",
    "Syntax:\n",
    "\n",
    "Syntax:  string_obj.index(substring, begp, endp)\n",
    "\n",
    " \n",
    "Parameters: \n",
    "\n",
    "substring : The string to be searched for.\n",
    "begp (default : 0) : This function specifies the position from where search has to be started. \n",
    "endp (default : length of string) : This function specifies the position from where search has to end.\n",
    "Return:  Returns the first position of the substring found.\n",
    "\n",
    " \n",
    "\n",
    "Exception:  Raises ValueError if argument string is not found or index is out of range."
   ]
  },
  {
   "cell_type": "code",
   "execution_count": 84,
   "id": "f2b7ade3-9f7e-4d2d-a949-e17f31a73c95",
   "metadata": {},
   "outputs": [
    {
     "name": "stdout",
     "output_type": "stream",
     "text": [
      "index of 'and' in string: 1\n"
     ]
    }
   ],
   "source": [
    "string = 'random'\n",
    "print(\"index of 'and' in string:\", string.index('and'))"
   ]
  },
  {
   "cell_type": "code",
   "execution_count": 85,
   "id": "b647891b-6f37-4732-b72d-94c11cbe5a41",
   "metadata": {},
   "outputs": [
    {
     "name": "stdout",
     "output_type": "stream",
     "text": [
      "The first position of geeks after 2nd index : 8\n"
     ]
    }
   ],
   "source": [
    "# initializing target string\n",
    "ch = \"geeksforgeeks\"\n",
    " \n",
    "# initializing argument string\n",
    "ch1 = \"geeks\"\n",
    " \n",
    "# using index() to find position of \"geeks\"\n",
    "# starting from 2nd index\n",
    "# prints 8\n",
    "pos = ch.index(ch1,2)\n",
    " \n",
    "print(\"The first position of geeks after 2nd index : \",end=\"\")\n",
    "print(pos)"
   ]
  },
  {
   "cell_type": "code",
   "execution_count": 86,
   "id": "b20fa988-8eaa-4a83-a8f6-02c02e36ad42",
   "metadata": {},
   "outputs": [
    {
     "name": "stdout",
     "output_type": "stream",
     "text": [
      "4\n",
      "9\n",
      "8\n"
     ]
    }
   ],
   "source": [
    "test_string = \"1234gfg4321\"\n",
    "# finding gfg in string segment 'gfg4'\n",
    "print(test_string.index('gfg', 4, 8))\n",
    " \n",
    "# finding \"21\" in string segment 'gfg4321'\n",
    "print(test_string.index(\"21\", 8, len(test_string)))\n",
    " \n",
    "# finding \"32\" in string segment 'fg432' using negative index\n",
    "print(test_string.index(\"32\", 5, -1))"
   ]
  },
  {
   "cell_type": "code",
   "execution_count": 87,
   "id": "0552eb15-7a31-4263-a570-fc24cf75bf36",
   "metadata": {},
   "outputs": [
    {
     "name": "stdout",
     "output_type": "stream",
     "text": [
      "0\n",
      "0\n",
      "5\n"
     ]
    }
   ],
   "source": [
    "string = \"ring ring\"\n",
    " \n",
    "# checks for the substring in the range 0-4 of the string\n",
    "print(string.rindex(\"ring\", 0, 4))\n",
    " \n",
    "# same as using 0 & 4 as start, end value\n",
    "print(string.rindex(\"ring\", 0, -5))\n",
    " \n",
    "string = \"101001010\"\n",
    "# since there are no '101' substring after string[0:3]\n",
    "# thus it will take the last occurrence of '101'\n",
    "print(string.rindex('101', 2))"
   ]
  },
  {
   "cell_type": "code",
   "execution_count": 88,
   "id": "65898ab6-cb92-4b20-9206-d25acbb856a4",
   "metadata": {},
   "outputs": [
    {
     "name": "stdout",
     "output_type": "stream",
     "text": [
      "5\n",
      "2\n"
     ]
    }
   ],
   "source": [
    "string = \"ring ring\"\n",
    " \n",
    "# search for the substring,\n",
    "# from right in the whole string\n",
    "print(string.rindex(\"ring\"))\n",
    " \n",
    "string = \"geeks\"\n",
    "# this will return the right-most 'e'\n",
    "print(string.rindex('e'))"
   ]
  },
  {
   "cell_type": "code",
   "execution_count": 90,
   "id": "fe9234b9-8b88-4687-883a-026b1b9ff55e",
   "metadata": {},
   "outputs": [
    {
     "name": "stdout",
     "output_type": "stream",
     "text": [
      "\n",
      "upper() Converted String:\n",
      "GEEKS FOR GEEKS\n",
      "\n",
      "lower() Converted String:\n",
      "geeks for geeks\n",
      "\n",
      "title() Converted String:\n",
      "Geeks For Geeks\n",
      "\n",
      "Original String\n",
      "geeKs For geEkS\n"
     ]
    }
   ],
   "source": [
    "# Python3 program to show the\n",
    "# working of upper() function\n",
    "text = 'geeKs For geEkS'\n",
    " \n",
    "# upper() function to convert\n",
    "# string to upper case\n",
    "print(\"\\nupper() Converted String:\")\n",
    "print(text.upper())\n",
    " \n",
    "# lower() function to convert\n",
    "# string to lower case\n",
    "print(\"\\nlower() Converted String:\")\n",
    "print(text.lower())\n",
    " \n",
    "# converts the first character to\n",
    "# upper case and rest to lower case\n",
    "print(\"\\ntitle() Converted String:\")\n",
    "print(text.title())\n",
    " \n",
    "# original string never changes\n",
    "print(\"\\nOriginal String\")\n",
    "print(text)"
   ]
  },
  {
   "cell_type": "code",
   "execution_count": null,
   "id": "6bd9422c-eab8-4cf7-aaaa-fac9d0a87c6d",
   "metadata": {},
   "outputs": [],
   "source": [
    "startswith() method\n",
    "Syntax\n",
    "\n",
    "str.startswith(search_string, start, end)\n",
    "Parameters :\n",
    "\n",
    "search_string : The string to be searched.\n",
    "start : start index of the str from where the search_string is to be searched.\n",
    "end : end index of the str, which is to be considered for searching.\n",
    "\n",
    "Use :\n",
    "\n",
    "startswith() function is used to check whether a given Sentence starts with some particular string.\n",
    "Start and end parameter are optional.\n",
    "We may use them when we want only some particular substring of the original string to be considered for searching.\n",
    " \n",
    "Returns :\n",
    "The return value is binary. The functions returns True if the original Sentence starts with the search_string else False."
   ]
  },
  {
   "cell_type": "code",
   "execution_count": 91,
   "id": "ed1dfb02-3da9-4a97-80c7-e691d6d745b6",
   "metadata": {},
   "outputs": [
    {
     "name": "stdout",
     "output_type": "stream",
     "text": [
      "True\n",
      "False\n",
      "True\n",
      "\n",
      "\n",
      "True\n",
      "False\n",
      "True\n"
     ]
    }
   ],
   "source": [
    "# Python code to implement startswith()\n",
    "# and endswith() function.\n",
    "  \n",
    "str = \"GeeksforGeeks\"\n",
    "  \n",
    "# startswith()\n",
    "print(str.startswith(\"Geeks\"))\n",
    "print(str.startswith(\"Geeks\", 4, 10))\n",
    "print(str.startswith(\"Geeks\", 8, 14))\n",
    "  \n",
    "print(\"\\n\")\n",
    "  \n",
    "# endswith\n",
    "print(str.endswith(\"Geeks\"))\n",
    "print(str.endswith(\"Geeks\", 2, 8))\n",
    "print(str.endswith(\"for\", 5, 8))"
   ]
  },
  {
   "cell_type": "code",
   "execution_count": null,
   "id": "22478731-e95c-4bf9-988a-a24c95a9cce5",
   "metadata": {},
   "outputs": [],
   "source": [
    "Python program to Split a string based on a delimiter and join the string using another delimiter. Split a string can be quite useful sometimes, especially when you need only certain parts of strings. A simple yet effective example is splitting the First-name and Last-name of a person. Another application is CSV(Comma Separated Files). We use split to get data from CSV and join to write data to CSV. In Python, we can use the function split() to split a string and join() to join a string. For detailed article on split() and join() functions, refer these : split() in Python and join() in Python. Examples :\n",
    "\n",
    "Split the string into list of strings\n",
    "\n",
    "Input : Geeks for Geeks\n",
    "Output : ['Geeks', 'for', 'Geeks']\n",
    "\n",
    "\n",
    "Join the list of strings into a string based on delimiter ('-')\n",
    "\n",
    "Input :  ['Geeks', 'for', 'Geeks']\n",
    "Output : Geeks-for-Geeks\n",
    "Below is Python code to Split and Join the string based on a delimiter : "
   ]
  },
  {
   "cell_type": "code",
   "execution_count": 92,
   "id": "7e26b7a9-6957-4a1a-836f-9f1cc7c53be3",
   "metadata": {},
   "outputs": [
    {
     "name": "stdout",
     "output_type": "stream",
     "text": [
      "['Geeks', 'for', 'Geeks']\n",
      "Geeks-for-Geeks\n"
     ]
    }
   ],
   "source": [
    "# Python code\n",
    "# to split and join given string\n",
    " \n",
    "# input string\n",
    "s = 'Geeks for Geeks'\n",
    "# print the string after split method\n",
    "print(s.split(\" \"))\n",
    "# print the string after join method\n",
    "print(\"-\".join(s.split()))"
   ]
  },
  {
   "cell_type": "code",
   "execution_count": null,
   "id": "9947386a-6512-4976-bc3e-b02618b80e42",
   "metadata": {},
   "outputs": [],
   "source": [
    "More methods are discussed in this article\n",
    "\n",
    "1. strip():- This method is used to delete all the leading and trailing characters mentioned in its argument.\n",
    "\n",
    "2. lstrip():- This method is used to delete all the leading characters mentioned in its argument.\n",
    "\n",
    "3. rstrip():- This method is used to delete all the trailing characters mentioned in its argument."
   ]
  },
  {
   "cell_type": "code",
   "execution_count": 93,
   "id": "f534ac00-0ca2-4207-8681-eed6f64239d5",
   "metadata": {},
   "outputs": [
    {
     "name": "stdout",
     "output_type": "stream",
     "text": [
      " String after stripping all '-' is : geeksforgeeks\n",
      " String after stripping all leading '-' is : geeksforgeeks---\n",
      " String after stripping all trailing '-' is : ---geeksforgeeks\n"
     ]
    }
   ],
   "source": [
    "# Python code to demonstrate working of \n",
    "# strip(), lstrip() and rstrip()\n",
    "str = \"---geeksforgeeks---\"\n",
    "  \n",
    "# using strip() to delete all '-'\n",
    "print ( \" String after stripping all '-' is : \", end=\"\")\n",
    "print ( str.strip('-') )\n",
    "  \n",
    "# using lstrip() to delete all trailing '-'\n",
    "print ( \" String after stripping all leading '-' is : \", end=\"\")\n",
    "print ( str.lstrip('-') )\n",
    "  \n",
    "# using rstrip() to delete all leading '-'\n",
    "print ( \" String after stripping all trailing '-' is : \", end=\"\")\n",
    "print ( str.rstrip('-') )"
   ]
  },
  {
   "cell_type": "code",
   "execution_count": null,
   "id": "d537615e-711e-45f0-a08c-832375f51d18",
   "metadata": {},
   "outputs": [],
   "source": [
    "Python String find() method returns the lowest index or first occurrence of the substring if it is found in a given string. If it is not found, then it returns -1.\n",
    "\n",
    "Syntax: str_obj.find(sub, start, end)\n",
    "\n",
    "Parameters: \n",
    "\n",
    "sub: Substring that needs to be searched in the given string. \n",
    "start (optional): Starting position where the substring needs to be checked within the string. \n",
    "end (optional): End position is the index of the last value for the specified range. It is excluded while checking. \n",
    "Return:  Returns the lowest index of the substring if it is found in a given string. If it’s not found then it returns -1."
   ]
  },
  {
   "cell_type": "code",
   "execution_count": 94,
   "id": "aa9b5bba-5d68-48e3-b368-3206eb090da8",
   "metadata": {},
   "outputs": [
    {
     "name": "stdout",
     "output_type": "stream",
     "text": [
      "6\n"
     ]
    }
   ],
   "source": [
    "word = 'geeks for geeks'\n",
    "print(word.find('for'))"
   ]
  },
  {
   "cell_type": "code",
   "execution_count": 95,
   "id": "b91f586b-4092-4792-96d0-b864405ec35b",
   "metadata": {},
   "outputs": [
    {
     "name": "stdout",
     "output_type": "stream",
     "text": [
      "Substring 'geeks' found at index: 0\n",
      "Substring 'for ' found at index: 6\n",
      "Doesn't contains given substring\n"
     ]
    }
   ],
   "source": [
    "word = 'geeks for geeks'\n",
    " \n",
    "# returns first occurrence of Substring\n",
    "result = word.find('geeks')\n",
    "print(\"Substring 'geeks' found at index:\", result)\n",
    " \n",
    "result = word.find('for')\n",
    "print(\"Substring 'for ' found at index:\", result)\n",
    " \n",
    "# How to use find()\n",
    "if word.find('pawan') != -1:\n",
    "    print(\"Contains given substring \")\n",
    "else:\n",
    "    print(\"Doesn't contains given substring\")"
   ]
  },
  {
   "cell_type": "code",
   "execution_count": 96,
   "id": "df8c69b6-1c9a-4e98-a51c-5402ba8ed934",
   "metadata": {},
   "outputs": [
    {
     "name": "stdout",
     "output_type": "stream",
     "text": [
      "10\n",
      "-1\n",
      "-1\n",
      "6\n"
     ]
    }
   ],
   "source": [
    "word = 'geeks for geeks'\n",
    " \n",
    "# Substring is searched in 'eks for geeks'\n",
    "print(word.find('ge', 2))\n",
    " \n",
    "# Substring is searched in 'eks for geeks'\n",
    "print(word.find('geeks ', 2))\n",
    " \n",
    "# Substring is searched in 's for g'\n",
    "print(word.find('g', 4, 10))\n",
    " \n",
    "# Substring is searched in 's for g'\n",
    "print(word.find('for ', 4, 11))"
   ]
  },
  {
   "cell_type": "code",
   "execution_count": 97,
   "id": "0cd6e86d-42a8-4533-966e-9a2efc8445ce",
   "metadata": {},
   "outputs": [
    {
     "name": "stdout",
     "output_type": "stream",
     "text": [
      "True\n",
      "True\n",
      "False\n",
      "False\n"
     ]
    }
   ],
   "source": [
    "print(\"Geek\" == \"Geek\")\n",
    "print(\"Geek\" < \"geek\")\n",
    "print(\"Geek\" > \"geek\")\n",
    "print(\"Geek\" != \"Geek\")"
   ]
  },
  {
   "cell_type": "code",
   "execution_count": 98,
   "id": "ef73de18-8780-4524-9b99-4a90a51eefbf",
   "metadata": {},
   "outputs": [
    {
     "name": "stdout",
     "output_type": "stream",
     "text": [
      "Hello\n"
     ]
    }
   ],
   "source": [
    "def helloFunction():\n",
    "    print(\"Hello\")\n",
    "\n",
    "\n",
    "helloFunction()"
   ]
  },
  {
   "cell_type": "code",
   "execution_count": null,
   "id": "fb6fa3e9-7965-4821-992b-b82ac2a6734e",
   "metadata": {},
   "outputs": [],
   "source": [
    "Python Lists are just like dynamically sized arrays, declared in other languages (vector in C++ and ArrayList in Java). In simple language, a list is a collection of things, enclosed in [ ] and separated by commas. "
   ]
  },
  {
   "cell_type": "code",
   "execution_count": 99,
   "id": "4f9539cc-9d1a-42c2-9e29-0b171c5306df",
   "metadata": {},
   "outputs": [
    {
     "name": "stdout",
     "output_type": "stream",
     "text": [
      "['Geeks', 'for', 'Geeks']\n"
     ]
    }
   ],
   "source": [
    "Var = [\"Geeks\", \"for\", \"Geeks\"]\n",
    "print(Var)"
   ]
  },
  {
   "cell_type": "code",
   "execution_count": 104,
   "id": "3efa33fb-79e3-4bd1-97eb-a215bfdc0326",
   "metadata": {},
   "outputs": [
    {
     "name": "stdout",
     "output_type": "stream",
     "text": [
      "Blank List: []\n",
      "Blank List: [10, 20, 30]\n",
      "Blank List: ['Geeks', 'for', 'Geeks']\n",
      "List[0] -> Geeks\n"
     ]
    }
   ],
   "source": [
    "# program creation of List\n",
    "List=[]\n",
    "print(\"Blank List: {}\".format(List))\n",
    "\n",
    "List=[10,20,30]\n",
    "print(\"Blank List: {}\".format(List))\n",
    "\n",
    "List=[\"Geeks\",\"for\",\"Geeks\"]\n",
    "print(\"Blank List: {}\".format(List))\n",
    "print(\"List[0] -> {}\".format(List[0]))"
   ]
  },
  {
   "cell_type": "code",
   "execution_count": 105,
   "id": "a336ffcd-afd9-4cbc-a19d-7e0a94875d23",
   "metadata": {},
   "outputs": [
    {
     "name": "stdout",
     "output_type": "stream",
     "text": [
      "Accessing a element from the list\n",
      "Geeks\n",
      "Geeks\n"
     ]
    }
   ],
   "source": [
    "# Python program to demonstrate\n",
    "# accessing of element from list\n",
    " \n",
    "# Creating a List with\n",
    "# the use of multiple values\n",
    "List = [\"Geeks\", \"For\", \"Geeks\"]\n",
    " \n",
    "# accessing a element from the\n",
    "# list using index number\n",
    "print(\"Accessing a element from the list\")\n",
    "print(List[0])\n",
    "print(List[2])"
   ]
  },
  {
   "cell_type": "code",
   "execution_count": null,
   "id": "c1aad7f6-aa3f-4a8b-a583-1e7bcaa36cc1",
   "metadata": {},
   "outputs": [],
   "source": []
  }
 ],
 "metadata": {
  "kernelspec": {
   "display_name": "Python 3 (ipykernel)",
   "language": "python",
   "name": "python3"
  },
  "language_info": {
   "codemirror_mode": {
    "name": "ipython",
    "version": 3
   },
   "file_extension": ".py",
   "mimetype": "text/x-python",
   "name": "python",
   "nbconvert_exporter": "python",
   "pygments_lexer": "ipython3",
   "version": "3.12.4"
  }
 },
 "nbformat": 4,
 "nbformat_minor": 5
}
